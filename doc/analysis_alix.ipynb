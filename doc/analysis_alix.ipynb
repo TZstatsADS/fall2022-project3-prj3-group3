{
  "cells": [
    {
      "cell_type": "markdown",
      "metadata": {
        "id": "T8PbwZQiIHq3"
      },
      "source": [
        "# Import Modules"
      ]
    },
    {
      "cell_type": "code",
      "execution_count": 2,
      "metadata": {
        "id": "91h4ox3BIHq6"
      },
      "outputs": [],
      "source": [
        "import numpy as np\n",
        "import pandas as pd\n",
        "import matplotlib.pyplot as plt\n",
        "import tensorflow as tf\n",
        "import cv2\n",
        "from google.colab import drive\n",
        "from sklearn.model_selection import train_test_split\n",
        "\n",
        "from zipfile import ZipFile\n",
        "import os"
      ]
    },
    {
      "cell_type": "markdown",
      "metadata": {
        "id": "mnI6xB4aIHq7"
      },
      "source": [
        "# Load Data"
      ]
    },
    {
      "cell_type": "code",
      "source": [
        "if not os.path.exists(\"./drive\"):\n",
        "    drive.mount('/content/drive')\n",
        "\n",
        "if not os.path.exists(\"../data\"):\n",
        "    os.mkdir(\"../data\")\n",
        "\n",
        "# loading the temp.zip and creating a zip object\n",
        "with ZipFile(\"./drive/MyDrive/train_data.zip\", 'r') as zip_object:\n",
        "\n",
        "    # Extracting all the members of the zip \n",
        "    # into a specific location.\n",
        "    zip_object.extractall(path=\"../data\")\n"
      ],
      "metadata": {
        "id": "puzRht66IcH4",
        "colab": {
          "base_uri": "https://localhost:8080/"
        },
        "outputId": "8ad013f8-1a52-4030-83e5-e9a7f0caed15"
      },
      "execution_count": 3,
      "outputs": [
        {
          "output_type": "stream",
          "name": "stdout",
          "text": [
            "Mounted at /content/drive\n"
          ]
        }
      ]
    },
    {
      "cell_type": "code",
      "execution_count": 4,
      "metadata": {
        "id": "ue1dmwsrIHq7"
      },
      "outputs": [],
      "source": [
        "n_images: int = 50_000\n",
        "n_noisy: int = 40_000\n",
        "n_clean: int = n_images - n_noisy\n",
        "\n",
        "images : np.ndarray = np.empty((n_images, 32, 32, 3), dtype=np.float32)\n",
        "\n",
        "# Load the data\n",
        "for i in range(n_images):\n",
        "    image_path = f\"../data/images/{i+1:05d}.png\"\n",
        "    images[i,:,:,:] = cv2.cvtColor(cv2.imread(image_path),cv2.COLOR_BGR2RGB)\n",
        "\n",
        "# load the labels\n",
        "clean_labels = np.genfromtxt('../data/clean_labels.csv', delimiter=',', dtype=\"int8\")\n",
        "noisy_labels = np.genfromtxt('../data/noisy_labels.csv', delimiter=',', dtype=\"int8\")"
      ]
    },
    {
      "cell_type": "code",
      "execution_count": 6,
      "metadata": {
        "id": "oHHanuNRIHq8"
      },
      "outputs": [],
      "source": [
        "IMG_SIZE = 32\n",
        "IMG_SHAPE = (IMG_SIZE, IMG_SIZE, 3)"
      ]
    },
    {
      "cell_type": "code",
      "source": [
        "plt.hist(clean_labels)"
      ],
      "metadata": {
        "colab": {
          "base_uri": "https://localhost:8080/",
          "height": 334
        },
        "id": "ebzbBTolWsbP",
        "outputId": "acc3b27c-8fdd-4109-8e8b-443ff02f90b7"
      },
      "execution_count": null,
      "outputs": [
        {
          "output_type": "execute_result",
          "data": {
            "text/plain": [
              "(array([1005.,  974., 1032., 1016.,  999.,  937., 1030., 1001., 1025.,\n",
              "         981.]),\n",
              " array([0. , 0.9, 1.8, 2.7, 3.6, 4.5, 5.4, 6.3, 7.2, 8.1, 9. ]),\n",
              " <a list of 10 Patch objects>)"
            ]
          },
          "metadata": {},
          "execution_count": 154
        },
        {
          "output_type": "display_data",
          "data": {
            "text/plain": [
              "<Figure size 432x288 with 1 Axes>"
            ],
            "image/png": "[encoded data removed]"
          },
          "metadata": {
            "needs_background": "light"
          }
        }
      ]
    },
    {
      "cell_type": "markdown",
      "metadata": {
        "id": "owLWtnT6IHq8"
      },
      "source": [
        "### Generate rotations"
      ]
    },
    {
      "cell_type": "code",
      "execution_count": null,
      "metadata": {
        "id": "cplan9C5IHq8"
      },
      "outputs": [],
      "source": [
        "def generate_rotations(image: np.ndarray) -> np.ndarray:\n",
        "    \"\"\"\n",
        "    Generate a clockwise rotations of an image with a periodicity of 90 degrees\n",
        "    \n",
        "    Parameters\n",
        "    ----------\n",
        "    image : np.ndarray\n",
        "        The image to rotate\n",
        "    \"\"\"\n",
        "    \n",
        "    # Hortizontal flip the image\n",
        "    image_flipped = cv2.flip(image, 1)\n",
        "\n",
        "    # Rotate the image 90 degrees\n",
        "    image_rotate_90 = cv2.rotate(image, cv2.ROTATE_90_CLOCKWISE)\n",
        "    image_rotate_90_flipped = cv2.rotate(image_flipped, cv2.ROTATE_90_CLOCKWISE)\n",
        "\n",
        "    # Rotate the image 180 degrees\n",
        "    image_rotate_180 = cv2.rotate(image_rotate_90, cv2.ROTATE_90_CLOCKWISE)\n",
        "    image_rotate_180_flipped = cv2.rotate(image_rotate_90_flipped, cv2.ROTATE_90_CLOCKWISE)\n",
        "\n",
        "    # Rotate the image 270 degrees\n",
        "    image_rotate_270 = cv2.rotate(image_rotate_180, cv2.ROTATE_90_CLOCKWISE)\n",
        "    image_rotate_270_flipped = cv2.rotate(image_rotate_180_flipped, cv2.ROTATE_90_CLOCKWISE)\n",
        "\n",
        "\n",
        "\n",
        "    rotated_images = np.array([\n",
        "        image, image_flipped,\n",
        "        image_rotate_90, image_rotate_90_flipped,\n",
        "        image_rotate_180, image_rotate_180_flipped,\n",
        "        image_rotate_270, image_rotate_270_flipped\n",
        "    ])\n",
        "\n",
        "    return rotated_images"
      ]
    },
    {
      "cell_type": "code",
      "source": [],
      "metadata": {
        "id": "CwFEtgEaSA-7"
      },
      "execution_count": null,
      "outputs": []
    },
    {
      "cell_type": "code",
      "execution_count": null,
      "metadata": {
        "colab": {
          "base_uri": "https://localhost:8080/",
          "height": 226
        },
        "id": "nAM1yywnIHq9",
        "outputId": "8cfcbd74-5071-4e45-b45c-415e73f0f44d"
      },
      "outputs": [
        {
          "output_type": "display_data",
          "data": {
            "text/plain": [
              "<Figure size 432x288 with 8 Axes>"
            ],
            "image/png": "[encoded data removed]"
          },
          "metadata": {}
        }
      ],
      "source": [
        "test_images = generate_rotations(images[0])\n",
        "for i, img in enumerate(test_images):\n",
        "    plt.subplot(2, 4, i + 1)\n",
        "    plt.imshow(cv2.resize(img, (32, 32)) / 255.0)\n",
        "    plt.xticks([]) ## remove the ticks on x-axis\n",
        "    plt.yticks([]) ## remove the ticks on y-axis\n",
        "plt.show()"
      ]
    },
    {
      "cell_type": "markdown",
      "metadata": {
        "id": "nKBFyr6UIHq_"
      },
      "source": [
        "# Model Selection"
      ]
    },
    {
      "cell_type": "markdown",
      "metadata": {
        "id": "3xab0awMIHq_"
      },
      "source": [
        "## Model Selection: Autoencoder + CNN"
      ]
    },
    {
      "cell_type": "code",
      "execution_count": null,
      "metadata": {
        "id": "p2SL247qIHrA"
      },
      "outputs": [],
      "source": [
        "encoder = tf.keras.Sequential([\n",
        "    tf.keras.layers.Conv2D(\n",
        "        filters = 32, \n",
        "        kernel_size = (14, 14),\n",
        "        activation = 'relu',\n",
        "        padding = \"same\",\n",
        "        strides = 2,\n",
        "        input_shape = IMG_SHAPE\n",
        "    ),\n",
        "    tf.keras.layers.Conv2D(\n",
        "        filters = 64, \n",
        "        kernel_size = (7, 7),\n",
        "        activation = 'relu',\n",
        "        padding = \"same\",\n",
        "        strides = 2,\n",
        "    ),\n",
        "    tf.keras.layers.Conv2D(\n",
        "        filters = 128, \n",
        "        kernel_size = (3, 3),\n",
        "        activation = 'relu',\n",
        "        padding = \"same\",\n",
        "        strides = 2\n",
        "    ),\n",
        "    tf.keras.layers.Flatten(),\n",
        "    tf.keras.layers.Dense(units = 128, activation = \"relu\"),\n",
        "    tf.keras.layers.Dropout(0.2),\n",
        "    tf.keras.layers.Dense(units = 512, activation = \"relu\"),\n",
        "    tf.keras.layers.Dropout(0.2),\n",
        "    tf.keras.layers.Dense(units = 256, activation = \"relu\"),\n",
        "    tf.keras.layers.Dense(units = 10)\n",
        "])"
      ]
    },
    {
      "cell_type": "code",
      "execution_count": null,
      "metadata": {
        "id": "jOIx4VjqIHrA"
      },
      "outputs": [],
      "source": [
        "decoder = tf.keras.Sequential([\n",
        "    tf.keras.layers.Input(10),\n",
        "    tf.keras.layers.Dense(units = 256, activation = \"relu\"), \n",
        "    tf.keras.layers.Dropout(0.2),\n",
        "    tf.keras.layers.Dense(units = 512, activation = \"relu\"),\n",
        "    tf.keras.layers.Dropout(0.2),\n",
        "    tf.keras.layers.Dense(units = 128, activation = \"relu\"),\n",
        "    tf.keras.layers.Dense(units = np.prod(IMG_SHAPE), activation='sigmoid'),\n",
        "    tf.keras.layers.Reshape(IMG_SHAPE),\n",
        "])"
      ]
    },
    {
      "cell_type": "code",
      "source": [
        "def average_rounded_accuracy(y_true, y_pred):\n",
        "    r_true = y_true[:, :, :, 0]\n",
        "    g_true = y_true[:, :, :, 1]\n",
        "    b_true = y_true[:, :, :, 2]\n",
        "\n",
        "    r_pred = y_pred[:, :, :, 0]\n",
        "    g_pred = y_pred[:, :, :, 1]\n",
        "    b_pred = y_pred[:, :, :, 2]\n",
        "\n",
        "    r_acc = tf.keras.metrics.binary_accuracy(tf.round(r_true), tf.round(r_pred))\n",
        "    g_acc = tf.keras.metrics.binary_accuracy(tf.round(g_true), tf.round(g_pred))\n",
        "    b_acc = tf.keras.metrics.binary_accuracy(tf.round(b_true), tf.round(b_pred))\n",
        "\n",
        "    return np.mean([r_acc, g_acc, b_acc])"
      ],
      "metadata": {
        "id": "ulHiEFRKMrxd"
      },
      "execution_count": null,
      "outputs": []
    },
    {
      "cell_type": "code",
      "source": [
        "encoder.summary()"
      ],
      "metadata": {
        "colab": {
          "base_uri": "https://localhost:8080/"
        },
        "id": "Fauo0gM0dhoA",
        "outputId": "53295567-fa5d-44d4-d9c6-80a85ba6ea57"
      },
      "execution_count": null,
      "outputs": [
        {
          "output_type": "stream",
          "name": "stdout",
          "text": [
            "Model: \"sequential_54\"\n",
            "_________________________________________________________________\n",
            " Layer (type)                Output Shape              Param #   \n",
            "=================================================================\n",
            " conv2d_24 (Conv2D)          (None, 16, 16, 32)        18848     \n",
            "                                                                 \n",
            " conv2d_25 (Conv2D)          (None, 8, 8, 64)          100416    \n",
            "                                                                 \n",
            " conv2d_26 (Conv2D)          (None, 4, 4, 128)         73856     \n",
            "                                                                 \n",
            " flatten_8 (Flatten)         (None, 2048)              0         \n",
            "                                                                 \n",
            " dense_72 (Dense)            (None, 128)               262272    \n",
            "                                                                 \n",
            " dropout_24 (Dropout)        (None, 128)               0         \n",
            "                                                                 \n",
            " dense_73 (Dense)            (None, 512)               66048     \n",
            "                                                                 \n",
            " dropout_25 (Dropout)        (None, 512)               0         \n",
            "                                                                 \n",
            " dense_74 (Dense)            (None, 256)               131328    \n",
            "                                                                 \n",
            " dense_75 (Dense)            (None, 10)                2570      \n",
            "                                                                 \n",
            "=================================================================\n",
            "Total params: 655,338\n",
            "Trainable params: 655,338\n",
            "Non-trainable params: 0\n",
            "_________________________________________________________________\n"
          ]
        }
      ]
    },
    {
      "cell_type": "code",
      "source": [
        "decoder.summary()"
      ],
      "metadata": {
        "colab": {
          "base_uri": "https://localhost:8080/"
        },
        "id": "6gNkw8C0dlh8",
        "outputId": "1ca557e8-7756-40fd-a117-d8cfc7abb9ae"
      },
      "execution_count": null,
      "outputs": [
        {
          "output_type": "stream",
          "name": "stdout",
          "text": [
            "Model: \"sequential_55\"\n",
            "_________________________________________________________________\n",
            " Layer (type)                Output Shape              Param #   \n",
            "=================================================================\n",
            " dense_76 (Dense)            (None, 256)               2816      \n",
            "                                                                 \n",
            " dropout_26 (Dropout)        (None, 256)               0         \n",
            "                                                                 \n",
            " dense_77 (Dense)            (None, 512)               131584    \n",
            "                                                                 \n",
            " dropout_27 (Dropout)        (None, 512)               0         \n",
            "                                                                 \n",
            " dense_78 (Dense)            (None, 128)               65664     \n",
            "                                                                 \n",
            " dense_79 (Dense)            (None, 1152)              148608    \n",
            "                                                                 \n",
            " reshape_38 (Reshape)        (None, 3, 3, 128)         0         \n",
            "                                                                 \n",
            " conv2d_transpose_148 (Conv2  (None, 7, 7, 128)        147584    \n",
            " DTranspose)                                                     \n",
            "                                                                 \n",
            " conv2d_transpose_149 (Conv2  (None, 19, 19, 64)       401472    \n",
            " DTranspose)                                                     \n",
            "                                                                 \n",
            " conv2d_transpose_150 (Conv2  (None, 32, 32, 32)       401440    \n",
            " DTranspose)                                                     \n",
            "                                                                 \n",
            " conv2d_transpose_151 (Conv2  (None, 32, 32, 3)        98307     \n",
            " DTranspose)                                                     \n",
            "                                                                 \n",
            "=================================================================\n",
            "Total params: 1,397,475\n",
            "Trainable params: 1,397,475\n",
            "Non-trainable params: 0\n",
            "_________________________________________________________________\n"
          ]
        }
      ]
    },
    {
      "cell_type": "code",
      "execution_count": null,
      "metadata": {
        "id": "1LPzUOq6IHrA"
      },
      "outputs": [],
      "source": [
        "autoencoder = tf.keras.Sequential([encoder, decoder])"
      ]
    },
    {
      "cell_type": "code",
      "source": [
        "autoencoder.summary()"
      ],
      "metadata": {
        "colab": {
          "base_uri": "https://localhost:8080/"
        },
        "id": "3rteuvevdWih",
        "outputId": "db3728f8-1bcc-46df-c050-2e1884f66117"
      },
      "execution_count": null,
      "outputs": [
        {
          "output_type": "stream",
          "name": "stdout",
          "text": [
            "Model: \"sequential_56\"\n",
            "_________________________________________________________________\n",
            " Layer (type)                Output Shape              Param #   \n",
            "=================================================================\n",
            " sequential_54 (Sequential)  (None, 10)                655338    \n",
            "                                                                 \n",
            " sequential_55 (Sequential)  (None, 32, 32, 3)         1397475   \n",
            "                                                                 \n",
            "=================================================================\n",
            "Total params: 2,052,813\n",
            "Trainable params: 2,052,813\n",
            "Non-trainable params: 0\n",
            "_________________________________________________________________\n"
          ]
        }
      ]
    },
    {
      "cell_type": "code",
      "execution_count": null,
      "metadata": {
        "id": "wPds2iqFIHrB"
      },
      "outputs": [],
      "source": [
        "autoencoder.compile(\n",
        "    loss = \"mse\",\n",
        "    optimizer = tf.keras.optimizers.Adam(),\n",
        "    metrics = [tf.keras.metrics.RootMeanSquaredError()]\n",
        ")"
      ]
    },
    {
      "cell_type": "code",
      "execution_count": null,
      "metadata": {
        "id": "m0prVELuIHrB"
      },
      "outputs": [],
      "source": [
        "x_train_raw = images[:n_clean] / 255.0\n",
        "x_train_full = np.array([generate_rotations(img) for img in x_train_raw])\n",
        "x_train_full = x_train_full.reshape((-1, *IMG_SHAPE))\n",
        "y_train_full = x_train_full"
      ]
    },
    {
      "cell_type": "code",
      "execution_count": null,
      "metadata": {
        "id": "0itjsxRRIHrC"
      },
      "outputs": [],
      "source": [
        "x_train, x_test, y_train, y_test = train_test_split(x_train_full, y_train_full, test_size=0.2)"
      ]
    },
    {
      "cell_type": "code",
      "source": [],
      "metadata": {
        "id": "kGOnBoiRaAdD"
      },
      "execution_count": null,
      "outputs": []
    },
    {
      "cell_type": "code",
      "execution_count": null,
      "metadata": {
        "id": "eoDpd7EUIHrC"
      },
      "outputs": [],
      "source": [
        "EPOCHS = 100"
      ]
    },
    {
      "cell_type": "code",
      "execution_count": null,
      "metadata": {
        "colab": {
          "base_uri": "https://localhost:8080/"
        },
        "id": "OHMcEt6XIHrC",
        "outputId": "50ee45e9-3790-427c-eb1b-90216adca9af"
      },
      "outputs": [
        {
          "output_type": "stream",
          "name": "stdout",
          "text": [
            "Epoch 1/100\n",
            "425/425 [==============================] - 14s 29ms/step - loss: 0.1913 - root_mean_squared_error: 0.4374 - val_loss: 0.0963 - val_root_mean_squared_error: 0.3103\n",
            "Epoch 2/100\n",
            "425/425 [==============================] - 12s 28ms/step - loss: 0.0742 - root_mean_squared_error: 0.2723 - val_loss: 0.0652 - val_root_mean_squared_error: 0.2553\n",
            "Epoch 3/100\n",
            "425/425 [==============================] - 12s 28ms/step - loss: 0.0637 - root_mean_squared_error: 0.2525 - val_loss: 0.0638 - val_root_mean_squared_error: 0.2526\n",
            "Epoch 4/100\n",
            "425/425 [==============================] - 12s 28ms/step - loss: 0.0634 - root_mean_squared_error: 0.2518 - val_loss: 0.0638 - val_root_mean_squared_error: 0.2525\n",
            "Epoch 5/100\n",
            "425/425 [==============================] - 12s 29ms/step - loss: 0.0634 - root_mean_squared_error: 0.2518 - val_loss: 0.0638 - val_root_mean_squared_error: 0.2525\n",
            "Epoch 6/100\n",
            "425/425 [==============================] - 12s 29ms/step - loss: 0.0634 - root_mean_squared_error: 0.2518 - val_loss: 0.0638 - val_root_mean_squared_error: 0.2525\n",
            "Epoch 7/100\n",
            "425/425 [==============================] - 13s 30ms/step - loss: 0.0634 - root_mean_squared_error: 0.2518 - val_loss: 0.0638 - val_root_mean_squared_error: 0.2525\n",
            "Epoch 8/100\n",
            "425/425 [==============================] - 13s 30ms/step - loss: 0.0634 - root_mean_squared_error: 0.2518 - val_loss: 0.0638 - val_root_mean_squared_error: 0.2525\n",
            "Epoch 9/100\n",
            "425/425 [==============================] - 12s 29ms/step - loss: 0.0634 - root_mean_squared_error: 0.2518 - val_loss: 0.0638 - val_root_mean_squared_error: 0.2525\n",
            "Epoch 10/100\n",
            "425/425 [==============================] - 12s 29ms/step - loss: 0.0634 - root_mean_squared_error: 0.2518 - val_loss: 0.0638 - val_root_mean_squared_error: 0.2525\n",
            "Epoch 11/100\n",
            "425/425 [==============================] - 13s 30ms/step - loss: 0.0634 - root_mean_squared_error: 0.2518 - val_loss: 0.0638 - val_root_mean_squared_error: 0.2525\n",
            "Epoch 12/100\n",
            "425/425 [==============================] - 13s 30ms/step - loss: 0.0634 - root_mean_squared_error: 0.2518 - val_loss: 0.0638 - val_root_mean_squared_error: 0.2526\n",
            "Epoch 13/100\n",
            "425/425 [==============================] - 12s 29ms/step - loss: 0.0634 - root_mean_squared_error: 0.2518 - val_loss: 0.0638 - val_root_mean_squared_error: 0.2526\n",
            "Epoch 14/100\n",
            "425/425 [==============================] - 13s 30ms/step - loss: 0.0634 - root_mean_squared_error: 0.2518 - val_loss: 0.0638 - val_root_mean_squared_error: 0.2526\n",
            "Epoch 15/100\n",
            "425/425 [==============================] - 13s 30ms/step - loss: 0.0634 - root_mean_squared_error: 0.2518 - val_loss: 0.0638 - val_root_mean_squared_error: 0.2525\n",
            "Epoch 16/100\n",
            "425/425 [==============================] - 12s 29ms/step - loss: 0.0634 - root_mean_squared_error: 0.2518 - val_loss: 0.0638 - val_root_mean_squared_error: 0.2526\n"
          ]
        }
      ],
      "source": [
        "history = autoencoder.fit(\n",
        "    x_train, y_train,\n",
        "    epochs = EPOCHS,\n",
        "    batch_size = 128,\n",
        "    validation_split = 0.15,\n",
        "    callbacks = [tf.keras.callbacks.EarlyStopping(patience=10)]\n",
        ")"
      ]
    },
    {
      "cell_type": "code",
      "execution_count": null,
      "metadata": {
        "colab": {
          "base_uri": "https://localhost:8080/",
          "height": 295
        },
        "id": "TXdwXiiyIHrC",
        "outputId": "b00d87cf-783b-4996-e800-254af53e2a16"
      },
      "outputs": [
        {
          "output_type": "display_data",
          "data": {
            "text/plain": [
              "<Figure size 432x288 with 1 Axes>"
            ],
            "image/png": "[encoded data removed]"
          },
          "metadata": {
            "needs_background": "light"
          }
        }
      ],
      "source": [
        "plt.plot(history.history[\"loss\"])\n",
        "plt.plot(history.history[\"val_loss\"])\n",
        "plt.xlabel(\"Epochs\")\n",
        "plt.ylabel(\"Loss\")\n",
        "plt.title(\"Loss vs Epochs for Autoencoder model \" \\\n",
        "          \"trained on CIFAR-10 noisydataset\")\n",
        "plt.legend([\"Training Loss\", \"Validation Loss\"])\n",
        "plt.show()"
      ]
    },
    {
      "cell_type": "code",
      "execution_count": null,
      "metadata": {
        "colab": {
          "base_uri": "https://localhost:8080/",
          "height": 234
        },
        "id": "pc_nC2GQIHrD",
        "outputId": "442d25e7-340a-4174-964e-a5892e4d3592"
      },
      "outputs": [
        {
          "output_type": "stream",
          "name": "stdout",
          "text": [
            "1/1 [==============================] - 0s 203ms/step\n"
          ]
        },
        {
          "output_type": "display_data",
          "data": {
            "text/plain": [
              "<Figure size 432x288 with 1 Axes>"
            ],
            "image/png": "[encoded data removed]"
          },
          "metadata": {
            "needs_background": "light"
          }
        }
      ],
      "source": [
        "i = np.random.randint(1, x_train.shape[0] - 1)\n",
        "p = autoencoder.predict(x_train[(i-1):i])\n",
        "plt.imshow(np.concatenate([p[0], *x_train[(i-1):i]], axis = 1))\n",
        "plt.show()"
      ]
    },
    {
      "cell_type": "code",
      "source": [
        "predictions = autoencoder.predict(y_test)\n",
        "average_rounded_accuracy(y_test, predictions)"
      ],
      "metadata": {
        "colab": {
          "base_uri": "https://localhost:8080/"
        },
        "id": "HS3hbpFSNGeb",
        "outputId": "f79b23ab-2e3c-4281-e14d-3aaca2731ed2"
      },
      "execution_count": null,
      "outputs": [
        {
          "output_type": "stream",
          "name": "stdout",
          "text": [
            "500/500 [==============================] - 1s 3ms/step\n"
          ]
        },
        {
          "output_type": "execute_result",
          "data": {
            "text/plain": [
              "0.85128725"
            ]
          },
          "metadata": {},
          "execution_count": 75
        }
      ]
    },
    {
      "cell_type": "markdown",
      "source": [
        "### AE + MobileNetV2 + Image Classifier"
      ],
      "metadata": {
        "id": "XJpI1MqY0kHn"
      }
    },
    {
      "cell_type": "code",
      "source": [
        "MobileNet = tf.keras.applications.mobilenet_v2.MobileNetV2(input_shape=(32, 32, 3), include_top=False, weights='imagenet', classes = 10)"
      ],
      "metadata": {
        "colab": {
          "base_uri": "https://localhost:8080/"
        },
        "id": "09CXtj4m0jmi",
        "outputId": "76e4935a-89ac-4818-f0d9-134fef5c5952"
      },
      "execution_count": 14,
      "outputs": [
        {
          "output_type": "stream",
          "name": "stderr",
          "text": [
            "WARNING:tensorflow:`input_shape` is undefined or non-square, or `rows` is not in [96, 128, 160, 192, 224]. Weights for input shape (224, 224) will be loaded as the default.\n"
          ]
        }
      ]
    },
    {
      "cell_type": "code",
      "source": [
        "MobileNet.summary()"
      ],
      "metadata": {
        "colab": {
          "base_uri": "https://localhost:8080/"
        },
        "id": "34C6Dka3a_Q3",
        "outputId": "c2fff24a-20c2-4659-f24b-82ccf65999d2"
      },
      "execution_count": 15,
      "outputs": [
        {
          "output_type": "stream",
          "name": "stdout",
          "text": [
            "Model: \"mobilenetv2_1.00_224\"\n",
            "__________________________________________________________________________________________________\n",
            " Layer (type)                   Output Shape         Param #     Connected to                     \n",
            "==================================================================================================\n",
            " input_4 (InputLayer)           [(None, 32, 32, 3)]  0           []                               \n",
            "                                                                                                  \n",
            " Conv1 (Conv2D)                 (None, 16, 16, 32)   864         ['input_4[0][0]']                \n",
            "                                                                                                  \n",
            " bn_Conv1 (BatchNormalization)  (None, 16, 16, 32)   128         ['Conv1[0][0]']                  \n",
            "                                                                                                  \n",
            " Conv1_relu (ReLU)              (None, 16, 16, 32)   0           ['bn_Conv1[0][0]']               \n",
            "                                                                                                  \n",
            " expanded_conv_depthwise (Depth  (None, 16, 16, 32)  288         ['Conv1_relu[0][0]']             \n",
            " wiseConv2D)                                                                                      \n",
            "                                                                                                  \n",
            " expanded_conv_depthwise_BN (Ba  (None, 16, 16, 32)  128         ['expanded_conv_depthwise[0][0]']\n",
            " tchNormalization)                                                                                \n",
            "                                                                                                  \n",
            " expanded_conv_depthwise_relu (  (None, 16, 16, 32)  0           ['expanded_conv_depthwise_BN[0][0\n",
            " ReLU)                                                           ]']                              \n",
            "                                                                                                  \n",
            " expanded_conv_project (Conv2D)  (None, 16, 16, 16)  512         ['expanded_conv_depthwise_relu[0]\n",
            "                                                                 [0]']                            \n",
            "                                                                                                  \n",
            " expanded_conv_project_BN (Batc  (None, 16, 16, 16)  64          ['expanded_conv_project[0][0]']  \n",
            " hNormalization)                                                                                  \n",
            "                                                                                                  \n",
            " block_1_expand (Conv2D)        (None, 16, 16, 96)   1536        ['expanded_conv_project_BN[0][0]'\n",
            "                                                                 ]                                \n",
            "                                                                                                  \n",
            " block_1_expand_BN (BatchNormal  (None, 16, 16, 96)  384         ['block_1_expand[0][0]']         \n",
            " ization)                                                                                         \n",
            "                                                                                                  \n",
            " block_1_expand_relu (ReLU)     (None, 16, 16, 96)   0           ['block_1_expand_BN[0][0]']      \n",
            "                                                                                                  \n",
            " block_1_pad (ZeroPadding2D)    (None, 17, 17, 96)   0           ['block_1_expand_relu[0][0]']    \n",
            "                                                                                                  \n",
            " block_1_depthwise (DepthwiseCo  (None, 8, 8, 96)    864         ['block_1_pad[0][0]']            \n",
            " nv2D)                                                                                            \n",
            "                                                                                                  \n",
            " block_1_depthwise_BN (BatchNor  (None, 8, 8, 96)    384         ['block_1_depthwise[0][0]']      \n",
            " malization)                                                                                      \n",
            "                                                                                                  \n",
            " block_1_depthwise_relu (ReLU)  (None, 8, 8, 96)     0           ['block_1_depthwise_BN[0][0]']   \n",
            "                                                                                                  \n",
            " block_1_project (Conv2D)       (None, 8, 8, 24)     2304        ['block_1_depthwise_relu[0][0]'] \n",
            "                                                                                                  \n",
            " block_1_project_BN (BatchNorma  (None, 8, 8, 24)    96          ['block_1_project[0][0]']        \n",
            " lization)                                                                                        \n",
            "                                                                                                  \n",
            " block_2_expand (Conv2D)        (None, 8, 8, 144)    3456        ['block_1_project_BN[0][0]']     \n",
            "                                                                                                  \n",
            " block_2_expand_BN (BatchNormal  (None, 8, 8, 144)   576         ['block_2_expand[0][0]']         \n",
            " ization)                                                                                         \n",
            "                                                                                                  \n",
            " block_2_expand_relu (ReLU)     (None, 8, 8, 144)    0           ['block_2_expand_BN[0][0]']      \n",
            "                                                                                                  \n",
            " block_2_depthwise (DepthwiseCo  (None, 8, 8, 144)   1296        ['block_2_expand_relu[0][0]']    \n",
            " nv2D)                                                                                            \n",
            "                                                                                                  \n",
            " block_2_depthwise_BN (BatchNor  (None, 8, 8, 144)   576         ['block_2_depthwise[0][0]']      \n",
            " malization)                                                                                      \n",
            "                                                                                                  \n",
            " block_2_depthwise_relu (ReLU)  (None, 8, 8, 144)    0           ['block_2_depthwise_BN[0][0]']   \n",
            "                                                                                                  \n",
            " block_2_project (Conv2D)       (None, 8, 8, 24)     3456        ['block_2_depthwise_relu[0][0]'] \n",
            "                                                                                                  \n",
            " block_2_project_BN (BatchNorma  (None, 8, 8, 24)    96          ['block_2_project[0][0]']        \n",
            " lization)                                                                                        \n",
            "                                                                                                  \n",
            " block_2_add (Add)              (None, 8, 8, 24)     0           ['block_1_project_BN[0][0]',     \n",
            "                                                                  'block_2_project_BN[0][0]']     \n",
            "                                                                                                  \n",
            " block_3_expand (Conv2D)        (None, 8, 8, 144)    3456        ['block_2_add[0][0]']            \n",
            "                                                                                                  \n",
            " block_3_expand_BN (BatchNormal  (None, 8, 8, 144)   576         ['block_3_expand[0][0]']         \n",
            " ization)                                                                                         \n",
            "                                                                                                  \n",
            " block_3_expand_relu (ReLU)     (None, 8, 8, 144)    0           ['block_3_expand_BN[0][0]']      \n",
            "                                                                                                  \n",
            " block_3_pad (ZeroPadding2D)    (None, 9, 9, 144)    0           ['block_3_expand_relu[0][0]']    \n",
            "                                                                                                  \n",
            " block_3_depthwise (DepthwiseCo  (None, 4, 4, 144)   1296        ['block_3_pad[0][0]']            \n",
            " nv2D)                                                                                            \n",
            "                                                                                                  \n",
            " block_3_depthwise_BN (BatchNor  (None, 4, 4, 144)   576         ['block_3_depthwise[0][0]']      \n",
            " malization)                                                                                      \n",
            "                                                                                                  \n",
            " block_3_depthwise_relu (ReLU)  (None, 4, 4, 144)    0           ['block_3_depthwise_BN[0][0]']   \n",
            "                                                                                                  \n",
            " block_3_project (Conv2D)       (None, 4, 4, 32)     4608        ['block_3_depthwise_relu[0][0]'] \n",
            "                                                                                                  \n",
            " block_3_project_BN (BatchNorma  (None, 4, 4, 32)    128         ['block_3_project[0][0]']        \n",
            " lization)                                                                                        \n",
            "                                                                                                  \n",
            " block_4_expand (Conv2D)        (None, 4, 4, 192)    6144        ['block_3_project_BN[0][0]']     \n",
            "                                                                                                  \n",
            " block_4_expand_BN (BatchNormal  (None, 4, 4, 192)   768         ['block_4_expand[0][0]']         \n",
            " ization)                                                                                         \n",
            "                                                                                                  \n",
            " block_4_expand_relu (ReLU)     (None, 4, 4, 192)    0           ['block_4_expand_BN[0][0]']      \n",
            "                                                                                                  \n",
            " block_4_depthwise (DepthwiseCo  (None, 4, 4, 192)   1728        ['block_4_expand_relu[0][0]']    \n",
            " nv2D)                                                                                            \n",
            "                                                                                                  \n",
            " block_4_depthwise_BN (BatchNor  (None, 4, 4, 192)   768         ['block_4_depthwise[0][0]']      \n",
            " malization)                                                                                      \n",
            "                                                                                                  \n",
            " block_4_depthwise_relu (ReLU)  (None, 4, 4, 192)    0           ['block_4_depthwise_BN[0][0]']   \n",
            "                                                                                                  \n",
            " block_4_project (Conv2D)       (None, 4, 4, 32)     6144        ['block_4_depthwise_relu[0][0]'] \n",
            "                                                                                                  \n",
            " block_4_project_BN (BatchNorma  (None, 4, 4, 32)    128         ['block_4_project[0][0]']        \n",
            " lization)                                                                                        \n",
            "                                                                                                  \n",
            " block_4_add (Add)              (None, 4, 4, 32)     0           ['block_3_project_BN[0][0]',     \n",
            "                                                                  'block_4_project_BN[0][0]']     \n",
            "                                                                                                  \n",
            " block_5_expand (Conv2D)        (None, 4, 4, 192)    6144        ['block_4_add[0][0]']            \n",
            "                                                                                                  \n",
            " block_5_expand_BN (BatchNormal  (None, 4, 4, 192)   768         ['block_5_expand[0][0]']         \n",
            " ization)                                                                                         \n",
            "                                                                                                  \n",
            " block_5_expand_relu (ReLU)     (None, 4, 4, 192)    0           ['block_5_expand_BN[0][0]']      \n",
            "                                                                                                  \n",
            " block_5_depthwise (DepthwiseCo  (None, 4, 4, 192)   1728        ['block_5_expand_relu[0][0]']    \n",
            " nv2D)                                                                                            \n",
            "                                                                                                  \n",
            " block_5_depthwise_BN (BatchNor  (None, 4, 4, 192)   768         ['block_5_depthwise[0][0]']      \n",
            " malization)                                                                                      \n",
            "                                                                                                  \n",
            " block_5_depthwise_relu (ReLU)  (None, 4, 4, 192)    0           ['block_5_depthwise_BN[0][0]']   \n",
            "                                                                                                  \n",
            " block_5_project (Conv2D)       (None, 4, 4, 32)     6144        ['block_5_depthwise_relu[0][0]'] \n",
            "                                                                                                  \n",
            " block_5_project_BN (BatchNorma  (None, 4, 4, 32)    128         ['block_5_project[0][0]']        \n",
            " lization)                                                                                        \n",
            "                                                                                                  \n",
            " block_5_add (Add)              (None, 4, 4, 32)     0           ['block_4_add[0][0]',            \n",
            "                                                                  'block_5_project_BN[0][0]']     \n",
            "                                                                                                  \n",
            " block_6_expand (Conv2D)        (None, 4, 4, 192)    6144        ['block_5_add[0][0]']            \n",
            "                                                                                                  \n",
            " block_6_expand_BN (BatchNormal  (None, 4, 4, 192)   768         ['block_6_expand[0][0]']         \n",
            " ization)                                                                                         \n",
            "                                                                                                  \n",
            " block_6_expand_relu (ReLU)     (None, 4, 4, 192)    0           ['block_6_expand_BN[0][0]']      \n",
            "                                                                                                  \n",
            " block_6_pad (ZeroPadding2D)    (None, 5, 5, 192)    0           ['block_6_expand_relu[0][0]']    \n",
            "                                                                                                  \n",
            " block_6_depthwise (DepthwiseCo  (None, 2, 2, 192)   1728        ['block_6_pad[0][0]']            \n",
            " nv2D)                                                                                            \n",
            "                                                                                                  \n",
            " block_6_depthwise_BN (BatchNor  (None, 2, 2, 192)   768         ['block_6_depthwise[0][0]']      \n",
            " malization)                                                                                      \n",
            "                                                                                                  \n",
            " block_6_depthwise_relu (ReLU)  (None, 2, 2, 192)    0           ['block_6_depthwise_BN[0][0]']   \n",
            "                                                                                                  \n",
            " block_6_project (Conv2D)       (None, 2, 2, 64)     12288       ['block_6_depthwise_relu[0][0]'] \n",
            "                                                                                                  \n",
            " block_6_project_BN (BatchNorma  (None, 2, 2, 64)    256         ['block_6_project[0][0]']        \n",
            " lization)                                                                                        \n",
            "                                                                                                  \n",
            " block_7_expand (Conv2D)        (None, 2, 2, 384)    24576       ['block_6_project_BN[0][0]']     \n",
            "                                                                                                  \n",
            " block_7_expand_BN (BatchNormal  (None, 2, 2, 384)   1536        ['block_7_expand[0][0]']         \n",
            " ization)                                                                                         \n",
            "                                                                                                  \n",
            " block_7_expand_relu (ReLU)     (None, 2, 2, 384)    0           ['block_7_expand_BN[0][0]']      \n",
            "                                                                                                  \n",
            " block_7_depthwise (DepthwiseCo  (None, 2, 2, 384)   3456        ['block_7_expand_relu[0][0]']    \n",
            " nv2D)                                                                                            \n",
            "                                                                                                  \n",
            " block_7_depthwise_BN (BatchNor  (None, 2, 2, 384)   1536        ['block_7_depthwise[0][0]']      \n",
            " malization)                                                                                      \n",
            "                                                                                                  \n",
            " block_7_depthwise_relu (ReLU)  (None, 2, 2, 384)    0           ['block_7_depthwise_BN[0][0]']   \n",
            "                                                                                                  \n",
            " block_7_project (Conv2D)       (None, 2, 2, 64)     24576       ['block_7_depthwise_relu[0][0]'] \n",
            "                                                                                                  \n",
            " block_7_project_BN (BatchNorma  (None, 2, 2, 64)    256         ['block_7_project[0][0]']        \n",
            " lization)                                                                                        \n",
            "                                                                                                  \n",
            " block_7_add (Add)              (None, 2, 2, 64)     0           ['block_6_project_BN[0][0]',     \n",
            "                                                                  'block_7_project_BN[0][0]']     \n",
            "                                                                                                  \n",
            " block_8_expand (Conv2D)        (None, 2, 2, 384)    24576       ['block_7_add[0][0]']            \n",
            "                                                                                                  \n",
            " block_8_expand_BN (BatchNormal  (None, 2, 2, 384)   1536        ['block_8_expand[0][0]']         \n",
            " ization)                                                                                         \n",
            "                                                                                                  \n",
            " block_8_expand_relu (ReLU)     (None, 2, 2, 384)    0           ['block_8_expand_BN[0][0]']      \n",
            "                                                                                                  \n",
            " block_8_depthwise (DepthwiseCo  (None, 2, 2, 384)   3456        ['block_8_expand_relu[0][0]']    \n",
            " nv2D)                                                                                            \n",
            "                                                                                                  \n",
            " block_8_depthwise_BN (BatchNor  (None, 2, 2, 384)   1536        ['block_8_depthwise[0][0]']      \n",
            " malization)                                                                                      \n",
            "                                                                                                  \n",
            " block_8_depthwise_relu (ReLU)  (None, 2, 2, 384)    0           ['block_8_depthwise_BN[0][0]']   \n",
            "                                                                                                  \n",
            " block_8_project (Conv2D)       (None, 2, 2, 64)     24576       ['block_8_depthwise_relu[0][0]'] \n",
            "                                                                                                  \n",
            " block_8_project_BN (BatchNorma  (None, 2, 2, 64)    256         ['block_8_project[0][0]']        \n",
            " lization)                                                                                        \n",
            "                                                                                                  \n",
            " block_8_add (Add)              (None, 2, 2, 64)     0           ['block_7_add[0][0]',            \n",
            "                                                                  'block_8_project_BN[0][0]']     \n",
            "                                                                                                  \n",
            " block_9_expand (Conv2D)        (None, 2, 2, 384)    24576       ['block_8_add[0][0]']            \n",
            "                                                                                                  \n",
            " block_9_expand_BN (BatchNormal  (None, 2, 2, 384)   1536        ['block_9_expand[0][0]']         \n",
            " ization)                                                                                         \n",
            "                                                                                                  \n",
            " block_9_expand_relu (ReLU)     (None, 2, 2, 384)    0           ['block_9_expand_BN[0][0]']      \n",
            "                                                                                                  \n",
            " block_9_depthwise (DepthwiseCo  (None, 2, 2, 384)   3456        ['block_9_expand_relu[0][0]']    \n",
            " nv2D)                                                                                            \n",
            "                                                                                                  \n",
            " block_9_depthwise_BN (BatchNor  (None, 2, 2, 384)   1536        ['block_9_depthwise[0][0]']      \n",
            " malization)                                                                                      \n",
            "                                                                                                  \n",
            " block_9_depthwise_relu (ReLU)  (None, 2, 2, 384)    0           ['block_9_depthwise_BN[0][0]']   \n",
            "                                                                                                  \n",
            " block_9_project (Conv2D)       (None, 2, 2, 64)     24576       ['block_9_depthwise_relu[0][0]'] \n",
            "                                                                                                  \n",
            " block_9_project_BN (BatchNorma  (None, 2, 2, 64)    256         ['block_9_project[0][0]']        \n",
            " lization)                                                                                        \n",
            "                                                                                                  \n",
            " block_9_add (Add)              (None, 2, 2, 64)     0           ['block_8_add[0][0]',            \n",
            "                                                                  'block_9_project_BN[0][0]']     \n",
            "                                                                                                  \n",
            " block_10_expand (Conv2D)       (None, 2, 2, 384)    24576       ['block_9_add[0][0]']            \n",
            "                                                                                                  \n",
            " block_10_expand_BN (BatchNorma  (None, 2, 2, 384)   1536        ['block_10_expand[0][0]']        \n",
            " lization)                                                                                        \n",
            "                                                                                                  \n",
            " block_10_expand_relu (ReLU)    (None, 2, 2, 384)    0           ['block_10_expand_BN[0][0]']     \n",
            "                                                                                                  \n",
            " block_10_depthwise (DepthwiseC  (None, 2, 2, 384)   3456        ['block_10_expand_relu[0][0]']   \n",
            " onv2D)                                                                                           \n",
            "                                                                                                  \n",
            " block_10_depthwise_BN (BatchNo  (None, 2, 2, 384)   1536        ['block_10_depthwise[0][0]']     \n",
            " rmalization)                                                                                     \n",
            "                                                                                                  \n",
            " block_10_depthwise_relu (ReLU)  (None, 2, 2, 384)   0           ['block_10_depthwise_BN[0][0]']  \n",
            "                                                                                                  \n",
            " block_10_project (Conv2D)      (None, 2, 2, 96)     36864       ['block_10_depthwise_relu[0][0]']\n",
            "                                                                                                  \n",
            " block_10_project_BN (BatchNorm  (None, 2, 2, 96)    384         ['block_10_project[0][0]']       \n",
            " alization)                                                                                       \n",
            "                                                                                                  \n",
            " block_11_expand (Conv2D)       (None, 2, 2, 576)    55296       ['block_10_project_BN[0][0]']    \n",
            "                                                                                                  \n",
            " block_11_expand_BN (BatchNorma  (None, 2, 2, 576)   2304        ['block_11_expand[0][0]']        \n",
            " lization)                                                                                        \n",
            "                                                                                                  \n",
            " block_11_expand_relu (ReLU)    (None, 2, 2, 576)    0           ['block_11_expand_BN[0][0]']     \n",
            "                                                                                                  \n",
            " block_11_depthwise (DepthwiseC  (None, 2, 2, 576)   5184        ['block_11_expand_relu[0][0]']   \n",
            " onv2D)                                                                                           \n",
            "                                                                                                  \n",
            " block_11_depthwise_BN (BatchNo  (None, 2, 2, 576)   2304        ['block_11_depthwise[0][0]']     \n",
            " rmalization)                                                                                     \n",
            "                                                                                                  \n",
            " block_11_depthwise_relu (ReLU)  (None, 2, 2, 576)   0           ['block_11_depthwise_BN[0][0]']  \n",
            "                                                                                                  \n",
            " block_11_project (Conv2D)      (None, 2, 2, 96)     55296       ['block_11_depthwise_relu[0][0]']\n",
            "                                                                                                  \n",
            " block_11_project_BN (BatchNorm  (None, 2, 2, 96)    384         ['block_11_project[0][0]']       \n",
            " alization)                                                                                       \n",
            "                                                                                                  \n",
            " block_11_add (Add)             (None, 2, 2, 96)     0           ['block_10_project_BN[0][0]',    \n",
            "                                                                  'block_11_project_BN[0][0]']    \n",
            "                                                                                                  \n",
            " block_12_expand (Conv2D)       (None, 2, 2, 576)    55296       ['block_11_add[0][0]']           \n",
            "                                                                                                  \n",
            " block_12_expand_BN (BatchNorma  (None, 2, 2, 576)   2304        ['block_12_expand[0][0]']        \n",
            " lization)                                                                                        \n",
            "                                                                                                  \n",
            " block_12_expand_relu (ReLU)    (None, 2, 2, 576)    0           ['block_12_expand_BN[0][0]']     \n",
            "                                                                                                  \n",
            " block_12_depthwise (DepthwiseC  (None, 2, 2, 576)   5184        ['block_12_expand_relu[0][0]']   \n",
            " onv2D)                                                                                           \n",
            "                                                                                                  \n",
            " block_12_depthwise_BN (BatchNo  (None, 2, 2, 576)   2304        ['block_12_depthwise[0][0]']     \n",
            " rmalization)                                                                                     \n",
            "                                                                                                  \n",
            " block_12_depthwise_relu (ReLU)  (None, 2, 2, 576)   0           ['block_12_depthwise_BN[0][0]']  \n",
            "                                                                                                  \n",
            " block_12_project (Conv2D)      (None, 2, 2, 96)     55296       ['block_12_depthwise_relu[0][0]']\n",
            "                                                                                                  \n",
            " block_12_project_BN (BatchNorm  (None, 2, 2, 96)    384         ['block_12_project[0][0]']       \n",
            " alization)                                                                                       \n",
            "                                                                                                  \n",
            " block_12_add (Add)             (None, 2, 2, 96)     0           ['block_11_add[0][0]',           \n",
            "                                                                  'block_12_project_BN[0][0]']    \n",
            "                                                                                                  \n",
            " block_13_expand (Conv2D)       (None, 2, 2, 576)    55296       ['block_12_add[0][0]']           \n",
            "                                                                                                  \n",
            " block_13_expand_BN (BatchNorma  (None, 2, 2, 576)   2304        ['block_13_expand[0][0]']        \n",
            " lization)                                                                                        \n",
            "                                                                                                  \n",
            " block_13_expand_relu (ReLU)    (None, 2, 2, 576)    0           ['block_13_expand_BN[0][0]']     \n",
            "                                                                                                  \n",
            " block_13_pad (ZeroPadding2D)   (None, 3, 3, 576)    0           ['block_13_expand_relu[0][0]']   \n",
            "                                                                                                  \n",
            " block_13_depthwise (DepthwiseC  (None, 1, 1, 576)   5184        ['block_13_pad[0][0]']           \n",
            " onv2D)                                                                                           \n",
            "                                                                                                  \n",
            " block_13_depthwise_BN (BatchNo  (None, 1, 1, 576)   2304        ['block_13_depthwise[0][0]']     \n",
            " rmalization)                                                                                     \n",
            "                                                                                                  \n",
            " block_13_depthwise_relu (ReLU)  (None, 1, 1, 576)   0           ['block_13_depthwise_BN[0][0]']  \n",
            "                                                                                                  \n",
            " block_13_project (Conv2D)      (None, 1, 1, 160)    92160       ['block_13_depthwise_relu[0][0]']\n",
            "                                                                                                  \n",
            " block_13_project_BN (BatchNorm  (None, 1, 1, 160)   640         ['block_13_project[0][0]']       \n",
            " alization)                                                                                       \n",
            "                                                                                                  \n",
            " block_14_expand (Conv2D)       (None, 1, 1, 960)    153600      ['block_13_project_BN[0][0]']    \n",
            "                                                                                                  \n",
            " block_14_expand_BN (BatchNorma  (None, 1, 1, 960)   3840        ['block_14_expand[0][0]']        \n",
            " lization)                                                                                        \n",
            "                                                                                                  \n",
            " block_14_expand_relu (ReLU)    (None, 1, 1, 960)    0           ['block_14_expand_BN[0][0]']     \n",
            "                                                                                                  \n",
            " block_14_depthwise (DepthwiseC  (None, 1, 1, 960)   8640        ['block_14_expand_relu[0][0]']   \n",
            " onv2D)                                                                                           \n",
            "                                                                                                  \n",
            " block_14_depthwise_BN (BatchNo  (None, 1, 1, 960)   3840        ['block_14_depthwise[0][0]']     \n",
            " rmalization)                                                                                     \n",
            "                                                                                                  \n",
            " block_14_depthwise_relu (ReLU)  (None, 1, 1, 960)   0           ['block_14_depthwise_BN[0][0]']  \n",
            "                                                                                                  \n",
            " block_14_project (Conv2D)      (None, 1, 1, 160)    153600      ['block_14_depthwise_relu[0][0]']\n",
            "                                                                                                  \n",
            " block_14_project_BN (BatchNorm  (None, 1, 1, 160)   640         ['block_14_project[0][0]']       \n",
            " alization)                                                                                       \n",
            "                                                                                                  \n",
            " block_14_add (Add)             (None, 1, 1, 160)    0           ['block_13_project_BN[0][0]',    \n",
            "                                                                  'block_14_project_BN[0][0]']    \n",
            "                                                                                                  \n",
            " block_15_expand (Conv2D)       (None, 1, 1, 960)    153600      ['block_14_add[0][0]']           \n",
            "                                                                                                  \n",
            " block_15_expand_BN (BatchNorma  (None, 1, 1, 960)   3840        ['block_15_expand[0][0]']        \n",
            " lization)                                                                                        \n",
            "                                                                                                  \n",
            " block_15_expand_relu (ReLU)    (None, 1, 1, 960)    0           ['block_15_expand_BN[0][0]']     \n",
            "                                                                                                  \n",
            " block_15_depthwise (DepthwiseC  (None, 1, 1, 960)   8640        ['block_15_expand_relu[0][0]']   \n",
            " onv2D)                                                                                           \n",
            "                                                                                                  \n",
            " block_15_depthwise_BN (BatchNo  (None, 1, 1, 960)   3840        ['block_15_depthwise[0][0]']     \n",
            " rmalization)                                                                                     \n",
            "                                                                                                  \n",
            " block_15_depthwise_relu (ReLU)  (None, 1, 1, 960)   0           ['block_15_depthwise_BN[0][0]']  \n",
            "                                                                                                  \n",
            " block_15_project (Conv2D)      (None, 1, 1, 160)    153600      ['block_15_depthwise_relu[0][0]']\n",
            "                                                                                                  \n",
            " block_15_project_BN (BatchNorm  (None, 1, 1, 160)   640         ['block_15_project[0][0]']       \n",
            " alization)                                                                                       \n",
            "                                                                                                  \n",
            " block_15_add (Add)             (None, 1, 1, 160)    0           ['block_14_add[0][0]',           \n",
            "                                                                  'block_15_project_BN[0][0]']    \n",
            "                                                                                                  \n",
            " block_16_expand (Conv2D)       (None, 1, 1, 960)    153600      ['block_15_add[0][0]']           \n",
            "                                                                                                  \n",
            " block_16_expand_BN (BatchNorma  (None, 1, 1, 960)   3840        ['block_16_expand[0][0]']        \n",
            " lization)                                                                                        \n",
            "                                                                                                  \n",
            " block_16_expand_relu (ReLU)    (None, 1, 1, 960)    0           ['block_16_expand_BN[0][0]']     \n",
            "                                                                                                  \n",
            " block_16_depthwise (DepthwiseC  (None, 1, 1, 960)   8640        ['block_16_expand_relu[0][0]']   \n",
            " onv2D)                                                                                           \n",
            "                                                                                                  \n",
            " block_16_depthwise_BN (BatchNo  (None, 1, 1, 960)   3840        ['block_16_depthwise[0][0]']     \n",
            " rmalization)                                                                                     \n",
            "                                                                                                  \n",
            " block_16_depthwise_relu (ReLU)  (None, 1, 1, 960)   0           ['block_16_depthwise_BN[0][0]']  \n",
            "                                                                                                  \n",
            " block_16_project (Conv2D)      (None, 1, 1, 320)    307200      ['block_16_depthwise_relu[0][0]']\n",
            "                                                                                                  \n",
            " block_16_project_BN (BatchNorm  (None, 1, 1, 320)   1280        ['block_16_project[0][0]']       \n",
            " alization)                                                                                       \n",
            "                                                                                                  \n",
            " Conv_1 (Conv2D)                (None, 1, 1, 1280)   409600      ['block_16_project_BN[0][0]']    \n",
            "                                                                                                  \n",
            " Conv_1_bn (BatchNormalization)  (None, 1, 1, 1280)  5120        ['Conv_1[0][0]']                 \n",
            "                                                                                                  \n",
            " out_relu (ReLU)                (None, 1, 1, 1280)   0           ['Conv_1_bn[0][0]']              \n",
            "                                                                                                  \n",
            "==================================================================================================\n",
            "Total params: 2,257,984\n",
            "Trainable params: 2,223,872\n",
            "Non-trainable params: 34,112\n",
            "__________________________________________________________________________________________________\n"
          ]
        }
      ]
    },
    {
      "cell_type": "code",
      "source": [
        "autoencoder.trainable=True\n",
        "MobileNet.trainable=False\n",
        "image_classifier = tf.keras.Sequential([\n",
        "    autoencoder,\n",
        "    MobileNet, \n",
        "    tf.keras.layers.GlobalAveragePooling2D(),\n",
        "    tf.keras.layers.Flatten(),\n",
        "    tf.keras.layers.Dense(units = 256, activation = \"linear\"),\n",
        "    tf.keras.layers.Dropout(0.2),\n",
        "    tf.keras.layers.Dense(units = 512, activation = \"sigmoid\"),\n",
        "    tf.keras.layers.Dropout(0.2),\n",
        "    tf.keras.layers.Dense(units = 256, activation = 'relu'),\n",
        "    tf.keras.layers.Dropout(0.2),\n",
        "    tf.keras.layers.Dense(units = 10)\n",
        "])"
      ],
      "metadata": {
        "id": "dbdscLfW0-Az"
      },
      "execution_count": null,
      "outputs": []
    },
    {
      "cell_type": "code",
      "source": [
        "image_classifier.compile(\n",
        "    optimizer = tf.keras.optimizers.Adam(),\n",
        "    loss = tf.keras.losses.SparseCategoricalCrossentropy(from_logits = True),\n",
        "    metrics = [tf.keras.metrics.SparseCategoricalAccuracy()]\n",
        ")"
      ],
      "metadata": {
        "id": "FTwr_ngb1QxW"
      },
      "execution_count": null,
      "outputs": []
    },
    {
      "cell_type": "code",
      "source": [
        "x_train_2 = x_train\n",
        "y_train_2 = np.array([[c for _ in range(8)] for c in clean_labels]).flatten()"
      ],
      "metadata": {
        "id": "FiHirAuM1rcG"
      },
      "execution_count": null,
      "outputs": []
    },
    {
      "cell_type": "code",
      "source": [
        "x_train_2 = x_train_raw[:n_clean]\n",
        "y_train_2 = clean_labels[:n_clean]"
      ],
      "metadata": {
        "id": "UuSRL-XH2R70"
      },
      "execution_count": null,
      "outputs": []
    },
    {
      "cell_type": "code",
      "source": [
        "y_train_2"
      ],
      "metadata": {
        "colab": {
          "base_uri": "https://localhost:8080/"
        },
        "id": "nCCJamzu8Eok",
        "outputId": "f0652aef-8e65-466c-91f7-bb288ec1fdbb"
      },
      "execution_count": null,
      "outputs": [
        {
          "output_type": "execute_result",
          "data": {
            "text/plain": [
              "<tf.Tensor: shape=(10000, 10), dtype=float32, numpy=\n",
              "array([[0., 0., 0., ..., 0., 0., 0.],\n",
              "       [0., 0., 0., ..., 0., 0., 1.],\n",
              "       [0., 0., 0., ..., 0., 0., 1.],\n",
              "       ...,\n",
              "       [0., 1., 0., ..., 0., 0., 0.],\n",
              "       [0., 1., 0., ..., 0., 0., 0.],\n",
              "       [0., 0., 0., ..., 0., 0., 0.]], dtype=float32)>"
            ]
          },
          "metadata": {},
          "execution_count": 111
        }
      ]
    },
    {
      "cell_type": "code",
      "source": [
        "history_2 = image_classifier.fit(\n",
        "    x_train_2, y_train_2,\n",
        "    epochs = 1000,\n",
        "    batch_size = 128,\n",
        "    validation_split = 0.20,\n",
        "    callbacks = [tf.keras.callbacks.EarlyStopping(patience=20)],\n",
        ")"
      ],
      "metadata": {
        "colab": {
          "base_uri": "https://localhost:8080/"
        },
        "id": "v3PmKWVY1jUa",
        "outputId": "fc932000-9f4d-4029-c408-deab2a4085e7"
      },
      "execution_count": null,
      "outputs": [
        {
          "output_type": "stream",
          "name": "stdout",
          "text": [
            "Epoch 1/1000\n",
            "400/400 [==============================] - 16s 33ms/step - loss: 2.3107 - sparse_categorical_accuracy: 0.1008 - val_loss: 2.3040 - val_sparse_categorical_accuracy: 0.0919\n",
            "Epoch 2/1000\n",
            "400/400 [==============================] - 12s 30ms/step - loss: 2.3023 - sparse_categorical_accuracy: 0.1019 - val_loss: 2.3045 - val_sparse_categorical_accuracy: 0.0994\n",
            "Epoch 3/1000\n",
            "400/400 [==============================] - 12s 30ms/step - loss: 2.3022 - sparse_categorical_accuracy: 0.1004 - val_loss: 2.3049 - val_sparse_categorical_accuracy: 0.0919\n",
            "Epoch 4/1000\n",
            "400/400 [==============================] - 12s 30ms/step - loss: 2.3022 - sparse_categorical_accuracy: 0.1003 - val_loss: 2.3050 - val_sparse_categorical_accuracy: 0.0919\n",
            "Epoch 5/1000\n",
            "400/400 [==============================] - 12s 30ms/step - loss: 2.3022 - sparse_categorical_accuracy: 0.1017 - val_loss: 2.3047 - val_sparse_categorical_accuracy: 0.0919\n",
            "Epoch 6/1000\n",
            "400/400 [==============================] - 12s 30ms/step - loss: 2.3022 - sparse_categorical_accuracy: 0.1012 - val_loss: 2.3049 - val_sparse_categorical_accuracy: 0.0919\n",
            "Epoch 7/1000\n",
            "400/400 [==============================] - 12s 30ms/step - loss: 2.3022 - sparse_categorical_accuracy: 0.1009 - val_loss: 2.3049 - val_sparse_categorical_accuracy: 0.0919\n",
            "Epoch 8/1000\n",
            "400/400 [==============================] - 12s 30ms/step - loss: 2.3021 - sparse_categorical_accuracy: 0.1015 - val_loss: 2.3048 - val_sparse_categorical_accuracy: 0.0919\n",
            "Epoch 9/1000\n",
            "400/400 [==============================] - 12s 30ms/step - loss: 2.3022 - sparse_categorical_accuracy: 0.1031 - val_loss: 2.3047 - val_sparse_categorical_accuracy: 0.0919\n",
            "Epoch 10/1000\n",
            "400/400 [==============================] - 12s 30ms/step - loss: 2.3022 - sparse_categorical_accuracy: 0.1024 - val_loss: 2.3049 - val_sparse_categorical_accuracy: 0.0838\n",
            "Epoch 11/1000\n",
            "400/400 [==============================] - 12s 30ms/step - loss: 2.3022 - sparse_categorical_accuracy: 0.1002 - val_loss: 2.3046 - val_sparse_categorical_accuracy: 0.0919\n",
            "Epoch 12/1000\n",
            "400/400 [==============================] - 13s 31ms/step - loss: 2.3022 - sparse_categorical_accuracy: 0.1011 - val_loss: 2.3050 - val_sparse_categorical_accuracy: 0.0838\n",
            "Epoch 13/1000\n",
            "400/400 [==============================] - 12s 30ms/step - loss: 2.3022 - sparse_categorical_accuracy: 0.1022 - val_loss: 2.3050 - val_sparse_categorical_accuracy: 0.0838\n",
            "Epoch 14/1000\n",
            "400/400 [==============================] - 12s 30ms/step - loss: 2.3021 - sparse_categorical_accuracy: 0.1003 - val_loss: 2.3050 - val_sparse_categorical_accuracy: 0.0838\n",
            "Epoch 15/1000\n",
            "400/400 [==============================] - 12s 30ms/step - loss: 2.3021 - sparse_categorical_accuracy: 0.1011 - val_loss: 2.3050 - val_sparse_categorical_accuracy: 0.0838\n",
            "Epoch 16/1000\n",
            "400/400 [==============================] - 12s 30ms/step - loss: 2.3021 - sparse_categorical_accuracy: 0.1024 - val_loss: 2.3049 - val_sparse_categorical_accuracy: 0.0994\n",
            "Epoch 17/1000\n",
            "400/400 [==============================] - 12s 31ms/step - loss: 2.3021 - sparse_categorical_accuracy: 0.1000 - val_loss: 2.3050 - val_sparse_categorical_accuracy: 0.0994\n",
            "Epoch 18/1000\n",
            "400/400 [==============================] - 12s 30ms/step - loss: 2.3022 - sparse_categorical_accuracy: 0.1021 - val_loss: 2.3046 - val_sparse_categorical_accuracy: 0.0994\n",
            "Epoch 19/1000\n",
            "400/400 [==============================] - 12s 30ms/step - loss: 2.3022 - sparse_categorical_accuracy: 0.1018 - val_loss: 2.3047 - val_sparse_categorical_accuracy: 0.0994\n",
            "Epoch 20/1000\n",
            "400/400 [==============================] - 12s 30ms/step - loss: 2.3022 - sparse_categorical_accuracy: 0.1022 - val_loss: 2.3047 - val_sparse_categorical_accuracy: 0.0919\n",
            "Epoch 21/1000\n",
            "400/400 [==============================] - 12s 30ms/step - loss: 2.3022 - sparse_categorical_accuracy: 0.1019 - val_loss: 2.3048 - val_sparse_categorical_accuracy: 0.0919\n"
          ]
        }
      ]
    },
    {
      "cell_type": "code",
      "source": [
        "plt.plot(history_2.history[\"loss\"])\n",
        "plt.plot(history_2.history[\"val_loss\"])\n",
        "plt.xlabel(\"Epochs\")\n",
        "plt.ylabel(\"Loss\")\n",
        "plt.title(\"Loss vs Epochs for Autoencoder model \" \\\n",
        "          \"trained on CIFAR-10 dataset\")\n",
        "plt.legend([\"Training Loss\", \"Validation Loss\"])\n",
        "plt.show()"
      ],
      "metadata": {
        "colab": {
          "base_uri": "https://localhost:8080/",
          "height": 295
        },
        "id": "qVMtEYK-7Qwo",
        "outputId": "5bb14e26-fa1f-4090-b766-19a74046bfce"
      },
      "execution_count": null,
      "outputs": [
        {
          "output_type": "display_data",
          "data": {
            "text/plain": [
              "<Figure size 432x288 with 1 Axes>"
            ],
            "image/png": "[encoded data removed]"
          },
          "metadata": {
            "needs_background": "light"
          }
        }
      ]
    },
    {
      "cell_type": "code",
      "source": [
        "p_2 = image_classifier.predict(images[0:1])"
      ],
      "metadata": {
        "colab": {
          "base_uri": "https://localhost:8080/"
        },
        "id": "28T6YJa65-Nr",
        "outputId": "a08345c5-d0ca-4f9b-c3d5-1e5382d85a21"
      },
      "execution_count": null,
      "outputs": [
        {
          "output_type": "stream",
          "name": "stdout",
          "text": [
            "1/1 [==============================] - 1s 817ms/step\n"
          ]
        }
      ]
    },
    {
      "cell_type": "code",
      "source": [
        "p_2.argmax(), clean_labels[0]"
      ],
      "metadata": {
        "colab": {
          "base_uri": "https://localhost:8080/"
        },
        "id": "faLp-YQU6MsT",
        "outputId": "a57ba769-37ef-4e09-93b4-dde07f3dac53"
      },
      "execution_count": null,
      "outputs": [
        {
          "output_type": "execute_result",
          "data": {
            "text/plain": [
              "(7, 6)"
            ]
          },
          "metadata": {},
          "execution_count": 200
        }
      ]
    },
    {
      "cell_type": "code",
      "source": [
        "class ImageClassifier(tf.keras.Model):\n",
        "\n",
        "    def __init__(self, CNN: tf.keras.Model):\n",
        "        super(ImageClassifier, self).__init__()\n",
        "        \n",
        "        # Base CNN model\n",
        "        self.CNN = CNN\n",
        "\n",
        "        # Fully connected dense layers\n",
        "        self.fc_1 = self.keras.layers.Dense(512)\n",
        "        self.fc_2 = self.keras.layers.Dense(10, activation = \"sigmoid\")\n",
        "\n",
        "    def call(self, inputs):\n",
        "        x = self.CNN(inputs)\n",
        "        x = self.fc_1(x)\n",
        "        x = self.fc_2(x)\n",
        "\n",
        "        return x"
      ],
      "metadata": {
        "id": "XwL0x00QvWsZ"
      },
      "execution_count": 20,
      "outputs": []
    },
    {
      "cell_type": "code",
      "source": [
        "class LabelCleaner(tf.keras.Model):\n",
        "\n",
        "    def __init__(self, CNN: tf.keras.Model):\n",
        "        super(LabelCleaner, self).__init__()\n",
        "\n",
        "        # Base CNN model\n",
        "        self.CNN = CNN\n",
        "\n",
        "        # Fully connected dense layers\n",
        "        self.fc_1 = tf.keras.layers.Dense(units = 20)\n",
        "        self.fc_2 = tf.keras.layers.Dense(units = 512, activation = \"relu\")\n",
        "        self.fc_3 = tf.keras.layers.Dense(units = 20)\n",
        "\n",
        "        # Batch Normalization layers\n",
        "        self.bn_1 = tf.keras.layers.BatchNormalization()\n",
        "        self.bn_2 = tf.keras.layers.BatchNormalization()\n",
        "\n",
        "    def call(self, inputs):\n",
        "        \n",
        "        x = self.CNN(inputs)\n",
        "        x = self.fc_1(x)\n",
        "        x = self.bn_1(x)\n",
        "        x = self.fc_2(x)\n",
        "        x = self.bn_2(x)\n",
        "        x = self.fc_3(x)\n",
        "\n",
        "        return x\n",
        "\n",
        "    "
      ],
      "metadata": {
        "id": "cWcHXu06yi5X"
      },
      "execution_count": 21,
      "outputs": []
    },
    {
      "cell_type": "code",
      "source": [
        "MobileNet.trainable = False\n",
        "label_cleaner_model = LabelCleaner(MobileNet)"
      ],
      "metadata": {
        "id": "danLTm6I5Wqg"
      },
      "execution_count": 22,
      "outputs": []
    },
    {
      "cell_type": "code",
      "source": [],
      "metadata": {
        "id": "p0HLw7N2iUCT"
      },
      "execution_count": null,
      "outputs": []
    }
  ],
  "metadata": {
    "kernelspec": {
      "display_name": "Python 3.9.7 ('base')",
      "language": "python",
      "name": "python3"
    },
    "language_info": {
      "codemirror_mode": {
        "name": "ipython",
        "version": 3
      },
      "file_extension": ".py",
      "mimetype": "text/x-python",
      "name": "python",
      "nbconvert_exporter": "python",
      "pygments_lexer": "ipython3",
      "version": "3.9.7"
    },
    "orig_nbformat": 4,
    "vscode": {
      "interpreter": {
        "hash": "b68576675d14688f13df6495c027427b1fa86cc0b514974591414d368704a84c"
      }
    },
    "colab": {
      "provenance": [],
      "collapsed_sections": []
    },
    "accelerator": "GPU",
    "gpuClass": "standard"
  },
  "nbformat": 4,
  "nbformat_minor": 0
}