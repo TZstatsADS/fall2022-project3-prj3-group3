{
  "cells": [
    {
      "cell_type": "markdown",
      "source": [
        "### 2.3. Model II"
      ],
      "metadata": {
        "id": "dbYcZfqOvHmW"
      }
    },
    {
      "cell_type": "code",
      "execution_count": null,
      "metadata": {
        "id": "HwS_zCs6vF16"
      },
      "outputs": [],
      "source": [
        "import numpy as np\n",
        "import pandas as pd\n",
        "import matplotlib.pyplot as plt\n",
        "import tensorflow as tf\n",
        "import cv2\n",
        "from sklearn.model_selection import train_test_split\n",
        "\n",
        "from zipfile import ZipFile\n",
        "import os\n",
        "import sys\n",
        "\n",
        "# Load modules from the lib directory\n",
        "sys.path.insert(0, \"../lib\")\n",
        "from resnet import load_resnet, ResNet18\n",
        "from lossFunctions import get_custom_cross_entropy, l1_loss\n",
        "from model2 import LabelCleaner, ImageClassifier"
      ]
    },
    {
      "cell_type": "code",
      "execution_count": null,
      "metadata": {
        "id": "-cW8f1zdv0MH"
      },
      "outputs": [],
      "source": [
        "if not os.path.exists(\"./drive\"):\n",
        "    drive.mount('/content/drive')\n",
        "\n",
        "if not os.path.exists(\"../data\"):\n",
        "    os.mkdir(\"../data\")\n",
        "\n",
        "# loading the temp.zip and creating a zip object\n",
        "with ZipFile(\"./drive/MyDrive/train_data.zip\", 'r') as zip_object:\n",
        "\n",
        "    # Extracting all the members of the zip \n",
        "    # into a specific location.\n",
        "    zip_object.extractall(path=\"../data\")\n"
      ]
    },
    {
      "cell_type": "code",
      "execution_count": null,
      "metadata": {
        "id": "fBZhbRv0vF1-"
      },
      "outputs": [],
      "source": [
        "# [DO NOT MODIFY THIS CELL]\n",
        "\n",
        "n_images: int = 50_000\n",
        "n_noisy: int = 40_000\n",
        "n_clean: int = n_images - n_noisy\n",
        "\n",
        "images : np.ndarray = np.empty((n_images, 32, 32, 3), dtype=np.float32)\n",
        "\n",
        "# Load the data\n",
        "for i in range(n_images):\n",
        "    image_path = f\"../data/images/{i+1:05d}.png\"\n",
        "    images[i,:,:,:] = cv2.cvtColor(cv2.imread(image_path),cv2.COLOR_BGR2RGB)\n",
        "\n",
        "# load the labels\n",
        "clean_labels = np.genfromtxt('../data/clean_labels.csv', delimiter=',', dtype=\"int8\")\n",
        "noisy_labels = np.genfromtxt('../data/noisy_labels.csv', delimiter=',', dtype=\"int8\")"
      ]
    },
    {
      "cell_type": "code",
      "execution_count": null,
      "metadata": {
        "id": "gBZBwGnHvF1-"
      },
      "outputs": [],
      "source": [
        "test_ratio: float = 0.2\n",
        "train_size: float = n_images - (n_clean * test_ratio)\n",
        "clean_noisy_ratio: float = 1 / 9\n",
        "train_clean_size: int = int(np.floor(train_size * clean_noisy_ratio))\n",
        "val_clean_size: int = int(np.floor((n_clean * (1 - test_ratio)) - train_clean_size))\n",
        "test_clean_size: int = n_clean - train_clean_size - val_clean_size\n",
        "\n",
        "IMG_SIZE: int = 32\n",
        "IMG_SHAPE: tuple = (IMG_SIZE, IMG_SIZE, 3)\n",
        "\n",
        "BATCH_SIZE: int = 128"
      ]
    },
    {
      "cell_type": "code",
      "execution_count": null,
      "metadata": {
        "id": "2vs0t5yvvF1-"
      },
      "outputs": [],
      "source": [
        "images_normalized = tf.cast(images, dtype = tf.float32) / 255.0\n",
        "clean_labels_one_hot = tf.one_hot(clean_labels, depth = 10)\n",
        "noisy_labels_one_hot = tf.one_hot(noisy_labels, depth = 10)"
      ]
    },
    {
      "cell_type": "code",
      "execution_count": null,
      "metadata": {
        "id": "BsX4zG-7vF1_"
      },
      "outputs": [],
      "source": [
        "x_clean = images_normalized[:n_clean]\n",
        "y_clean = clean_labels_one_hot\n",
        "x_noisy = images_normalized[n_clean:]\n",
        "y_noisy = noisy_labels_one_hot"
      ]
    },
    {
      "cell_type": "code",
      "source": [
        "x_clean_train_full, x_clean_test, y_clean_train_full, y_clean_test = train_test_split(x_clean.numpy(), y_clean.numpy(), test_size = 0.1) "
      ],
      "metadata": {
        "id": "pLBnnLQtH0qY"
      },
      "execution_count": null,
      "outputs": []
    },
    {
      "cell_type": "code",
      "source": [
        "x_clean_train, x_clean_val, y_clean_train, y_clean_val = train_test_split(x_clean_train_full, y_clean_train_full, test_size = 0.2) "
      ],
      "metadata": {
        "id": "UE_cvg3AJC3m"
      },
      "execution_count": null,
      "outputs": []
    },
    {
      "cell_type": "code",
      "source": [
        "x_clean_train_size = len(x_clean_train)\n",
        "x_clean_val_size = len(x_clean_val)\n",
        "x_clean_test_size = len(x_clean_test)"
      ],
      "metadata": {
        "id": "ByKxNdowANkf"
      },
      "execution_count": null,
      "outputs": []
    },
    {
      "cell_type": "code",
      "execution_count": null,
      "metadata": {
        "id": "Hv0U9JSdLDjt"
      },
      "outputs": [],
      "source": [
        "V = tf.data.Dataset.from_tensor_slices((\n",
        "    (\n",
        "        x_clean_train_full,\n",
        "        noisy_labels_one_hot[:len(y_clean_train_full)]\n",
        "    ),\n",
        "    y_clean_train_full\n",
        "))\n",
        "V_test = tf.data.Dataset.from_tensor_slices((\n",
        "    (\n",
        "        x_clean_test,\n",
        "        noisy_labels_one_hot[x_clean_train_size + x_clean_val_size:10000]\n",
        "    ),\n",
        "    y_clean_test\n",
        ")).batch(batch_size = BATCH_SIZE)"
      ]
    },
    {
      "cell_type": "code",
      "execution_count": null,
      "metadata": {
        "id": "EYzZqgKmvF2B"
      },
      "outputs": [],
      "source": [
        "V_train = V.take(x_clean_train_size).batch(batch_size = BATCH_SIZE)\n",
        "V_val = V.skip(x_clean_train_size).take(x_clean_val_size).batch(batch_size = BATCH_SIZE)\n",
        "del V"
      ]
    },
    {
      "cell_type": "code",
      "source": [
        "es = tf.keras.callbacks.EarlyStopping(patience = 10, restore_best_weights = True)"
      ],
      "metadata": {
        "id": "tSArOgqgHld1"
      },
      "execution_count": null,
      "outputs": []
    },
    {
      "cell_type": "code",
      "source": [
        "cnn_1 = load_resnet(10, (32, 32, 3))\n",
        "cnn_1.compile(\n",
        "    loss = tf.keras.losses.CategoricalCrossentropy(),\n",
        "    optimizer = tf.keras.optimizers.Adam(learning_rate = 0.001),\n",
        "    metrics = [\"accuracy\"]\n",
        ")\n",
        "cnn_1.trainable = False"
      ],
      "metadata": {
        "id": "t2oDsKHiirq5"
      },
      "execution_count": null,
      "outputs": []
    },
    {
      "cell_type": "code",
      "source": [
        "cnn_1.evaluate(x_clean_test, y_clean_test)"
      ],
      "metadata": {
        "colab": {
          "base_uri": "https://localhost:8080/"
        },
        "id": "5qp2XNgN-5E-",
        "outputId": "04ac3a4e-cf5a-41d1-9014-2601a411b69a"
      },
      "execution_count": null,
      "outputs": [
        {
          "output_type": "stream",
          "name": "stderr",
          "text": [
            "WARNING:tensorflow:Detecting that an object or model or tf.train.Checkpoint is being deleted with unrestored values. See the following logs for the specific values in question. To silence these warnings, use `status.expect_partial()`. See https://www.tensorflow.org/api_docs/python/tf/train/Checkpoint#restorefor details about the status object returned by the restore function.\n",
            "WARNING:tensorflow:Value in checkpoint could not be found in the restored object: (root).optimizer.iter\n",
            "WARNING:tensorflow:Value in checkpoint could not be found in the restored object: (root).optimizer.beta_1\n",
            "WARNING:tensorflow:Value in checkpoint could not be found in the restored object: (root).optimizer.beta_2\n",
            "WARNING:tensorflow:Value in checkpoint could not be found in the restored object: (root).optimizer.decay\n",
            "WARNING:tensorflow:Value in checkpoint could not be found in the restored object: (root).optimizer.learning_rate\n",
            "WARNING:tensorflow:Value in checkpoint could not be found in the restored object: (root).optimizer's state 'm' for (root).conv_1.kernel\n",
            "WARNING:tensorflow:Value in checkpoint could not be found in the restored object: (root).optimizer's state 'm' for (root).conv_1.bias\n",
            "WARNING:tensorflow:Value in checkpoint could not be found in the restored object: (root).optimizer's state 'm' for (root).init_bn.gamma\n",
            "WARNING:tensorflow:Value in checkpoint could not be found in the restored object: (root).optimizer's state 'm' for (root).init_bn.beta\n",
            "WARNING:tensorflow:Value in checkpoint could not be found in the restored object: (root).optimizer's state 'm' for (root).fc.kernel\n",
            "WARNING:tensorflow:Value in checkpoint could not be found in the restored object: (root).optimizer's state 'm' for (root).fc.bias\n",
            "WARNING:tensorflow:Value in checkpoint could not be found in the restored object: (root).optimizer's state 'm' for (root).res_1_1.conv_1.kernel\n",
            "WARNING:tensorflow:Value in checkpoint could not be found in the restored object: (root).optimizer's state 'm' for (root).res_1_1.conv_1.bias\n",
            "WARNING:tensorflow:Value in checkpoint could not be found in the restored object: (root).optimizer's state 'm' for (root).res_1_1.bn_1.gamma\n",
            "WARNING:tensorflow:Value in checkpoint could not be found in the restored object: (root).optimizer's state 'm' for (root).res_1_1.bn_1.beta\n",
            "WARNING:tensorflow:Value in checkpoint could not be found in the restored object: (root).optimizer's state 'm' for (root).res_1_1.conv_2.kernel\n",
            "WARNING:tensorflow:Value in checkpoint could not be found in the restored object: (root).optimizer's state 'm' for (root).res_1_1.conv_2.bias\n",
            "WARNING:tensorflow:Value in checkpoint could not be found in the restored object: (root).optimizer's state 'm' for (root).res_1_1.bn_2.gamma\n",
            "WARNING:tensorflow:Value in checkpoint could not be found in the restored object: (root).optimizer's state 'm' for (root).res_1_1.bn_2.beta\n",
            "WARNING:tensorflow:Value in checkpoint could not be found in the restored object: (root).optimizer's state 'm' for (root).res_1_2.conv_1.kernel\n",
            "WARNING:tensorflow:Value in checkpoint could not be found in the restored object: (root).optimizer's state 'm' for (root).res_1_2.conv_1.bias\n",
            "WARNING:tensorflow:Value in checkpoint could not be found in the restored object: (root).optimizer's state 'm' for (root).res_1_2.bn_1.gamma\n",
            "WARNING:tensorflow:Value in checkpoint could not be found in the restored object: (root).optimizer's state 'm' for (root).res_1_2.bn_1.beta\n",
            "WARNING:tensorflow:Value in checkpoint could not be found in the restored object: (root).optimizer's state 'm' for (root).res_1_2.conv_2.kernel\n",
            "WARNING:tensorflow:Value in checkpoint could not be found in the restored object: (root).optimizer's state 'm' for (root).res_1_2.conv_2.bias\n",
            "WARNING:tensorflow:Value in checkpoint could not be found in the restored object: (root).optimizer's state 'm' for (root).res_1_2.bn_2.gamma\n",
            "WARNING:tensorflow:Value in checkpoint could not be found in the restored object: (root).optimizer's state 'm' for (root).res_1_2.bn_2.beta\n",
            "WARNING:tensorflow:Value in checkpoint could not be found in the restored object: (root).optimizer's state 'm' for (root).res_2_1.conv_1.kernel\n",
            "WARNING:tensorflow:Value in checkpoint could not be found in the restored object: (root).optimizer's state 'm' for (root).res_2_1.conv_1.bias\n",
            "WARNING:tensorflow:Value in checkpoint could not be found in the restored object: (root).optimizer's state 'm' for (root).res_2_1.bn_1.gamma\n",
            "WARNING:tensorflow:Value in checkpoint could not be found in the restored object: (root).optimizer's state 'm' for (root).res_2_1.bn_1.beta\n",
            "WARNING:tensorflow:Value in checkpoint could not be found in the restored object: (root).optimizer's state 'm' for (root).res_2_1.conv_2.kernel\n",
            "WARNING:tensorflow:Value in checkpoint could not be found in the restored object: (root).optimizer's state 'm' for (root).res_2_1.conv_2.bias\n",
            "WARNING:tensorflow:Value in checkpoint could not be found in the restored object: (root).optimizer's state 'm' for (root).res_2_1.bn_2.gamma\n",
            "WARNING:tensorflow:Value in checkpoint could not be found in the restored object: (root).optimizer's state 'm' for (root).res_2_1.bn_2.beta\n",
            "WARNING:tensorflow:Value in checkpoint could not be found in the restored object: (root).optimizer's state 'm' for (root).res_2_1.res_conv.kernel\n",
            "WARNING:tensorflow:Value in checkpoint could not be found in the restored object: (root).optimizer's state 'm' for (root).res_2_1.res_conv.bias\n",
            "WARNING:tensorflow:Value in checkpoint could not be found in the restored object: (root).optimizer's state 'm' for (root).res_2_1.res_bn.gamma\n",
            "WARNING:tensorflow:Value in checkpoint could not be found in the restored object: (root).optimizer's state 'm' for (root).res_2_1.res_bn.beta\n",
            "WARNING:tensorflow:Value in checkpoint could not be found in the restored object: (root).optimizer's state 'm' for (root).res_2_2.conv_1.kernel\n",
            "WARNING:tensorflow:Value in checkpoint could not be found in the restored object: (root).optimizer's state 'm' for (root).res_2_2.conv_1.bias\n",
            "WARNING:tensorflow:Value in checkpoint could not be found in the restored object: (root).optimizer's state 'm' for (root).res_2_2.bn_1.gamma\n",
            "WARNING:tensorflow:Value in checkpoint could not be found in the restored object: (root).optimizer's state 'm' for (root).res_2_2.bn_1.beta\n",
            "WARNING:tensorflow:Value in checkpoint could not be found in the restored object: (root).optimizer's state 'm' for (root).res_2_2.conv_2.kernel\n",
            "WARNING:tensorflow:Value in checkpoint could not be found in the restored object: (root).optimizer's state 'm' for (root).res_2_2.conv_2.bias\n",
            "WARNING:tensorflow:Value in checkpoint could not be found in the restored object: (root).optimizer's state 'm' for (root).res_2_2.bn_2.gamma\n",
            "WARNING:tensorflow:Value in checkpoint could not be found in the restored object: (root).optimizer's state 'm' for (root).res_2_2.bn_2.beta\n",
            "WARNING:tensorflow:Value in checkpoint could not be found in the restored object: (root).optimizer's state 'm' for (root).res_3_1.conv_1.kernel\n",
            "WARNING:tensorflow:Value in checkpoint could not be found in the restored object: (root).optimizer's state 'm' for (root).res_3_1.conv_1.bias\n",
            "WARNING:tensorflow:Value in checkpoint could not be found in the restored object: (root).optimizer's state 'm' for (root).res_3_1.bn_1.gamma\n",
            "WARNING:tensorflow:Value in checkpoint could not be found in the restored object: (root).optimizer's state 'm' for (root).res_3_1.bn_1.beta\n",
            "WARNING:tensorflow:Value in checkpoint could not be found in the restored object: (root).optimizer's state 'm' for (root).res_3_1.conv_2.kernel\n",
            "WARNING:tensorflow:Value in checkpoint could not be found in the restored object: (root).optimizer's state 'm' for (root).res_3_1.conv_2.bias\n",
            "WARNING:tensorflow:Value in checkpoint could not be found in the restored object: (root).optimizer's state 'm' for (root).res_3_1.bn_2.gamma\n",
            "WARNING:tensorflow:Value in checkpoint could not be found in the restored object: (root).optimizer's state 'm' for (root).res_3_1.bn_2.beta\n",
            "WARNING:tensorflow:Value in checkpoint could not be found in the restored object: (root).optimizer's state 'm' for (root).res_3_1.res_conv.kernel\n",
            "WARNING:tensorflow:Value in checkpoint could not be found in the restored object: (root).optimizer's state 'm' for (root).res_3_1.res_conv.bias\n",
            "WARNING:tensorflow:Value in checkpoint could not be found in the restored object: (root).optimizer's state 'm' for (root).res_3_1.res_bn.gamma\n",
            "WARNING:tensorflow:Value in checkpoint could not be found in the restored object: (root).optimizer's state 'm' for (root).res_3_1.res_bn.beta\n",
            "WARNING:tensorflow:Value in checkpoint could not be found in the restored object: (root).optimizer's state 'm' for (root).res_3_2.conv_1.kernel\n",
            "WARNING:tensorflow:Value in checkpoint could not be found in the restored object: (root).optimizer's state 'm' for (root).res_3_2.conv_1.bias\n",
            "WARNING:tensorflow:Value in checkpoint could not be found in the restored object: (root).optimizer's state 'm' for (root).res_3_2.bn_1.gamma\n",
            "WARNING:tensorflow:Value in checkpoint could not be found in the restored object: (root).optimizer's state 'm' for (root).res_3_2.bn_1.beta\n",
            "WARNING:tensorflow:Value in checkpoint could not be found in the restored object: (root).optimizer's state 'm' for (root).res_3_2.conv_2.kernel\n",
            "WARNING:tensorflow:Value in checkpoint could not be found in the restored object: (root).optimizer's state 'm' for (root).res_3_2.conv_2.bias\n",
            "WARNING:tensorflow:Value in checkpoint could not be found in the restored object: (root).optimizer's state 'm' for (root).res_3_2.bn_2.gamma\n",
            "WARNING:tensorflow:Value in checkpoint could not be found in the restored object: (root).optimizer's state 'm' for (root).res_3_2.bn_2.beta\n",
            "WARNING:tensorflow:Value in checkpoint could not be found in the restored object: (root).optimizer's state 'm' for (root).res_4_1.conv_1.kernel\n",
            "WARNING:tensorflow:Value in checkpoint could not be found in the restored object: (root).optimizer's state 'm' for (root).res_4_1.conv_1.bias\n",
            "WARNING:tensorflow:Value in checkpoint could not be found in the restored object: (root).optimizer's state 'm' for (root).res_4_1.bn_1.gamma\n",
            "WARNING:tensorflow:Value in checkpoint could not be found in the restored object: (root).optimizer's state 'm' for (root).res_4_1.bn_1.beta\n",
            "WARNING:tensorflow:Value in checkpoint could not be found in the restored object: (root).optimizer's state 'm' for (root).res_4_1.conv_2.kernel\n",
            "WARNING:tensorflow:Value in checkpoint could not be found in the restored object: (root).optimizer's state 'm' for (root).res_4_1.conv_2.bias\n",
            "WARNING:tensorflow:Value in checkpoint could not be found in the restored object: (root).optimizer's state 'm' for (root).res_4_1.bn_2.gamma\n",
            "WARNING:tensorflow:Value in checkpoint could not be found in the restored object: (root).optimizer's state 'm' for (root).res_4_1.bn_2.beta\n",
            "WARNING:tensorflow:Value in checkpoint could not be found in the restored object: (root).optimizer's state 'm' for (root).res_4_1.res_conv.kernel\n",
            "WARNING:tensorflow:Value in checkpoint could not be found in the restored object: (root).optimizer's state 'm' for (root).res_4_1.res_conv.bias\n",
            "WARNING:tensorflow:Value in checkpoint could not be found in the restored object: (root).optimizer's state 'm' for (root).res_4_1.res_bn.gamma\n",
            "WARNING:tensorflow:Value in checkpoint could not be found in the restored object: (root).optimizer's state 'm' for (root).res_4_1.res_bn.beta\n",
            "WARNING:tensorflow:Value in checkpoint could not be found in the restored object: (root).optimizer's state 'm' for (root).res_4_2.conv_1.kernel\n",
            "WARNING:tensorflow:Value in checkpoint could not be found in the restored object: (root).optimizer's state 'm' for (root).res_4_2.conv_1.bias\n",
            "WARNING:tensorflow:Value in checkpoint could not be found in the restored object: (root).optimizer's state 'm' for (root).res_4_2.bn_1.gamma\n",
            "WARNING:tensorflow:Value in checkpoint could not be found in the restored object: (root).optimizer's state 'm' for (root).res_4_2.bn_1.beta\n",
            "WARNING:tensorflow:Value in checkpoint could not be found in the restored object: (root).optimizer's state 'm' for (root).res_4_2.conv_2.kernel\n",
            "WARNING:tensorflow:Value in checkpoint could not be found in the restored object: (root).optimizer's state 'm' for (root).res_4_2.conv_2.bias\n",
            "WARNING:tensorflow:Value in checkpoint could not be found in the restored object: (root).optimizer's state 'm' for (root).res_4_2.bn_2.gamma\n",
            "WARNING:tensorflow:Value in checkpoint could not be found in the restored object: (root).optimizer's state 'm' for (root).res_4_2.bn_2.beta\n",
            "WARNING:tensorflow:Value in checkpoint could not be found in the restored object: (root).optimizer's state 'v' for (root).conv_1.kernel\n",
            "WARNING:tensorflow:Value in checkpoint could not be found in the restored object: (root).optimizer's state 'v' for (root).conv_1.bias\n",
            "WARNING:tensorflow:Value in checkpoint could not be found in the restored object: (root).optimizer's state 'v' for (root).init_bn.gamma\n",
            "WARNING:tensorflow:Value in checkpoint could not be found in the restored object: (root).optimizer's state 'v' for (root).init_bn.beta\n",
            "WARNING:tensorflow:Value in checkpoint could not be found in the restored object: (root).optimizer's state 'v' for (root).fc.kernel\n",
            "WARNING:tensorflow:Value in checkpoint could not be found in the restored object: (root).optimizer's state 'v' for (root).fc.bias\n",
            "WARNING:tensorflow:Value in checkpoint could not be found in the restored object: (root).optimizer's state 'v' for (root).res_1_1.conv_1.kernel\n",
            "WARNING:tensorflow:Value in checkpoint could not be found in the restored object: (root).optimizer's state 'v' for (root).res_1_1.conv_1.bias\n",
            "WARNING:tensorflow:Value in checkpoint could not be found in the restored object: (root).optimizer's state 'v' for (root).res_1_1.bn_1.gamma\n",
            "WARNING:tensorflow:Value in checkpoint could not be found in the restored object: (root).optimizer's state 'v' for (root).res_1_1.bn_1.beta\n",
            "WARNING:tensorflow:Value in checkpoint could not be found in the restored object: (root).optimizer's state 'v' for (root).res_1_1.conv_2.kernel\n",
            "WARNING:tensorflow:Value in checkpoint could not be found in the restored object: (root).optimizer's state 'v' for (root).res_1_1.conv_2.bias\n",
            "WARNING:tensorflow:Value in checkpoint could not be found in the restored object: (root).optimizer's state 'v' for (root).res_1_1.bn_2.gamma\n",
            "WARNING:tensorflow:Value in checkpoint could not be found in the restored object: (root).optimizer's state 'v' for (root).res_1_1.bn_2.beta\n",
            "WARNING:tensorflow:Value in checkpoint could not be found in the restored object: (root).optimizer's state 'v' for (root).res_1_2.conv_1.kernel\n",
            "WARNING:tensorflow:Value in checkpoint could not be found in the restored object: (root).optimizer's state 'v' for (root).res_1_2.conv_1.bias\n",
            "WARNING:tensorflow:Value in checkpoint could not be found in the restored object: (root).optimizer's state 'v' for (root).res_1_2.bn_1.gamma\n",
            "WARNING:tensorflow:Value in checkpoint could not be found in the restored object: (root).optimizer's state 'v' for (root).res_1_2.bn_1.beta\n",
            "WARNING:tensorflow:Value in checkpoint could not be found in the restored object: (root).optimizer's state 'v' for (root).res_1_2.conv_2.kernel\n",
            "WARNING:tensorflow:Value in checkpoint could not be found in the restored object: (root).optimizer's state 'v' for (root).res_1_2.conv_2.bias\n",
            "WARNING:tensorflow:Value in checkpoint could not be found in the restored object: (root).optimizer's state 'v' for (root).res_1_2.bn_2.gamma\n",
            "WARNING:tensorflow:Value in checkpoint could not be found in the restored object: (root).optimizer's state 'v' for (root).res_1_2.bn_2.beta\n",
            "WARNING:tensorflow:Value in checkpoint could not be found in the restored object: (root).optimizer's state 'v' for (root).res_2_1.conv_1.kernel\n",
            "WARNING:tensorflow:Value in checkpoint could not be found in the restored object: (root).optimizer's state 'v' for (root).res_2_1.conv_1.bias\n",
            "WARNING:tensorflow:Value in checkpoint could not be found in the restored object: (root).optimizer's state 'v' for (root).res_2_1.bn_1.gamma\n",
            "WARNING:tensorflow:Value in checkpoint could not be found in the restored object: (root).optimizer's state 'v' for (root).res_2_1.bn_1.beta\n",
            "WARNING:tensorflow:Value in checkpoint could not be found in the restored object: (root).optimizer's state 'v' for (root).res_2_1.conv_2.kernel\n",
            "WARNING:tensorflow:Value in checkpoint could not be found in the restored object: (root).optimizer's state 'v' for (root).res_2_1.conv_2.bias\n",
            "WARNING:tensorflow:Value in checkpoint could not be found in the restored object: (root).optimizer's state 'v' for (root).res_2_1.bn_2.gamma\n",
            "WARNING:tensorflow:Value in checkpoint could not be found in the restored object: (root).optimizer's state 'v' for (root).res_2_1.bn_2.beta\n",
            "WARNING:tensorflow:Value in checkpoint could not be found in the restored object: (root).optimizer's state 'v' for (root).res_2_1.res_conv.kernel\n",
            "WARNING:tensorflow:Value in checkpoint could not be found in the restored object: (root).optimizer's state 'v' for (root).res_2_1.res_conv.bias\n",
            "WARNING:tensorflow:Value in checkpoint could not be found in the restored object: (root).optimizer's state 'v' for (root).res_2_1.res_bn.gamma\n",
            "WARNING:tensorflow:Value in checkpoint could not be found in the restored object: (root).optimizer's state 'v' for (root).res_2_1.res_bn.beta\n",
            "WARNING:tensorflow:Value in checkpoint could not be found in the restored object: (root).optimizer's state 'v' for (root).res_2_2.conv_1.kernel\n",
            "WARNING:tensorflow:Value in checkpoint could not be found in the restored object: (root).optimizer's state 'v' for (root).res_2_2.conv_1.bias\n",
            "WARNING:tensorflow:Value in checkpoint could not be found in the restored object: (root).optimizer's state 'v' for (root).res_2_2.bn_1.gamma\n",
            "WARNING:tensorflow:Value in checkpoint could not be found in the restored object: (root).optimizer's state 'v' for (root).res_2_2.bn_1.beta\n",
            "WARNING:tensorflow:Value in checkpoint could not be found in the restored object: (root).optimizer's state 'v' for (root).res_2_2.conv_2.kernel\n",
            "WARNING:tensorflow:Value in checkpoint could not be found in the restored object: (root).optimizer's state 'v' for (root).res_2_2.conv_2.bias\n",
            "WARNING:tensorflow:Value in checkpoint could not be found in the restored object: (root).optimizer's state 'v' for (root).res_2_2.bn_2.gamma\n",
            "WARNING:tensorflow:Value in checkpoint could not be found in the restored object: (root).optimizer's state 'v' for (root).res_2_2.bn_2.beta\n",
            "WARNING:tensorflow:Value in checkpoint could not be found in the restored object: (root).optimizer's state 'v' for (root).res_3_1.conv_1.kernel\n",
            "WARNING:tensorflow:Value in checkpoint could not be found in the restored object: (root).optimizer's state 'v' for (root).res_3_1.conv_1.bias\n",
            "WARNING:tensorflow:Value in checkpoint could not be found in the restored object: (root).optimizer's state 'v' for (root).res_3_1.bn_1.gamma\n",
            "WARNING:tensorflow:Value in checkpoint could not be found in the restored object: (root).optimizer's state 'v' for (root).res_3_1.bn_1.beta\n",
            "WARNING:tensorflow:Value in checkpoint could not be found in the restored object: (root).optimizer's state 'v' for (root).res_3_1.conv_2.kernel\n",
            "WARNING:tensorflow:Value in checkpoint could not be found in the restored object: (root).optimizer's state 'v' for (root).res_3_1.conv_2.bias\n",
            "WARNING:tensorflow:Value in checkpoint could not be found in the restored object: (root).optimizer's state 'v' for (root).res_3_1.bn_2.gamma\n",
            "WARNING:tensorflow:Value in checkpoint could not be found in the restored object: (root).optimizer's state 'v' for (root).res_3_1.bn_2.beta\n",
            "WARNING:tensorflow:Value in checkpoint could not be found in the restored object: (root).optimizer's state 'v' for (root).res_3_1.res_conv.kernel\n",
            "WARNING:tensorflow:Value in checkpoint could not be found in the restored object: (root).optimizer's state 'v' for (root).res_3_1.res_conv.bias\n",
            "WARNING:tensorflow:Value in checkpoint could not be found in the restored object: (root).optimizer's state 'v' for (root).res_3_1.res_bn.gamma\n",
            "WARNING:tensorflow:Value in checkpoint could not be found in the restored object: (root).optimizer's state 'v' for (root).res_3_1.res_bn.beta\n",
            "WARNING:tensorflow:Value in checkpoint could not be found in the restored object: (root).optimizer's state 'v' for (root).res_3_2.conv_1.kernel\n",
            "WARNING:tensorflow:Value in checkpoint could not be found in the restored object: (root).optimizer's state 'v' for (root).res_3_2.conv_1.bias\n",
            "WARNING:tensorflow:Value in checkpoint could not be found in the restored object: (root).optimizer's state 'v' for (root).res_3_2.bn_1.gamma\n",
            "WARNING:tensorflow:Value in checkpoint could not be found in the restored object: (root).optimizer's state 'v' for (root).res_3_2.bn_1.beta\n",
            "WARNING:tensorflow:Value in checkpoint could not be found in the restored object: (root).optimizer's state 'v' for (root).res_3_2.conv_2.kernel\n",
            "WARNING:tensorflow:Value in checkpoint could not be found in the restored object: (root).optimizer's state 'v' for (root).res_3_2.conv_2.bias\n",
            "WARNING:tensorflow:Value in checkpoint could not be found in the restored object: (root).optimizer's state 'v' for (root).res_3_2.bn_2.gamma\n",
            "WARNING:tensorflow:Value in checkpoint could not be found in the restored object: (root).optimizer's state 'v' for (root).res_3_2.bn_2.beta\n",
            "WARNING:tensorflow:Value in checkpoint could not be found in the restored object: (root).optimizer's state 'v' for (root).res_4_1.conv_1.kernel\n",
            "WARNING:tensorflow:Value in checkpoint could not be found in the restored object: (root).optimizer's state 'v' for (root).res_4_1.conv_1.bias\n",
            "WARNING:tensorflow:Value in checkpoint could not be found in the restored object: (root).optimizer's state 'v' for (root).res_4_1.bn_1.gamma\n",
            "WARNING:tensorflow:Value in checkpoint could not be found in the restored object: (root).optimizer's state 'v' for (root).res_4_1.bn_1.beta\n",
            "WARNING:tensorflow:Value in checkpoint could not be found in the restored object: (root).optimizer's state 'v' for (root).res_4_1.conv_2.kernel\n",
            "WARNING:tensorflow:Value in checkpoint could not be found in the restored object: (root).optimizer's state 'v' for (root).res_4_1.conv_2.bias\n",
            "WARNING:tensorflow:Value in checkpoint could not be found in the restored object: (root).optimizer's state 'v' for (root).res_4_1.bn_2.gamma\n",
            "WARNING:tensorflow:Value in checkpoint could not be found in the restored object: (root).optimizer's state 'v' for (root).res_4_1.bn_2.beta\n",
            "WARNING:tensorflow:Value in checkpoint could not be found in the restored object: (root).optimizer's state 'v' for (root).res_4_1.res_conv.kernel\n",
            "WARNING:tensorflow:Value in checkpoint could not be found in the restored object: (root).optimizer's state 'v' for (root).res_4_1.res_conv.bias\n",
            "WARNING:tensorflow:Value in checkpoint could not be found in the restored object: (root).optimizer's state 'v' for (root).res_4_1.res_bn.gamma\n",
            "WARNING:tensorflow:Value in checkpoint could not be found in the restored object: (root).optimizer's state 'v' for (root).res_4_1.res_bn.beta\n",
            "WARNING:tensorflow:Value in checkpoint could not be found in the restored object: (root).optimizer's state 'v' for (root).res_4_2.conv_1.kernel\n",
            "WARNING:tensorflow:Value in checkpoint could not be found in the restored object: (root).optimizer's state 'v' for (root).res_4_2.conv_1.bias\n",
            "WARNING:tensorflow:Value in checkpoint could not be found in the restored object: (root).optimizer's state 'v' for (root).res_4_2.bn_1.gamma\n",
            "WARNING:tensorflow:Value in checkpoint could not be found in the restored object: (root).optimizer's state 'v' for (root).res_4_2.bn_1.beta\n",
            "WARNING:tensorflow:Value in checkpoint could not be found in the restored object: (root).optimizer's state 'v' for (root).res_4_2.conv_2.kernel\n",
            "WARNING:tensorflow:Value in checkpoint could not be found in the restored object: (root).optimizer's state 'v' for (root).res_4_2.conv_2.bias\n",
            "WARNING:tensorflow:Value in checkpoint could not be found in the restored object: (root).optimizer's state 'v' for (root).res_4_2.bn_2.gamma\n",
            "WARNING:tensorflow:Value in checkpoint could not be found in the restored object: (root).optimizer's state 'v' for (root).res_4_2.bn_2.beta\n",
            "WARNING:tensorflow:Detecting that an object or model or tf.train.Checkpoint is being deleted with unrestored values. See the following logs for the specific values in question. To silence these warnings, use `status.expect_partial()`. See https://www.tensorflow.org/api_docs/python/tf/train/Checkpoint#restorefor details about the status object returned by the restore function.\n",
            "WARNING:tensorflow:Value in checkpoint could not be found in the restored object: (root).optimizer.iter\n",
            "WARNING:tensorflow:Value in checkpoint could not be found in the restored object: (root).optimizer.beta_1\n",
            "WARNING:tensorflow:Value in checkpoint could not be found in the restored object: (root).optimizer.beta_2\n",
            "WARNING:tensorflow:Value in checkpoint could not be found in the restored object: (root).optimizer.decay\n",
            "WARNING:tensorflow:Value in checkpoint could not be found in the restored object: (root).optimizer.learning_rate\n",
            "WARNING:tensorflow:Value in checkpoint could not be found in the restored object: (root).optimizer's state 'm' for (root).conv_1.kernel\n",
            "WARNING:tensorflow:Value in checkpoint could not be found in the restored object: (root).optimizer's state 'm' for (root).conv_1.bias\n",
            "WARNING:tensorflow:Value in checkpoint could not be found in the restored object: (root).optimizer's state 'm' for (root).init_bn.gamma\n",
            "WARNING:tensorflow:Value in checkpoint could not be found in the restored object: (root).optimizer's state 'm' for (root).init_bn.beta\n",
            "WARNING:tensorflow:Value in checkpoint could not be found in the restored object: (root).optimizer's state 'm' for (root).fc.kernel\n",
            "WARNING:tensorflow:Value in checkpoint could not be found in the restored object: (root).optimizer's state 'm' for (root).fc.bias\n",
            "WARNING:tensorflow:Value in checkpoint could not be found in the restored object: (root).optimizer's state 'm' for (root).res_1_1.conv_1.kernel\n",
            "WARNING:tensorflow:Value in checkpoint could not be found in the restored object: (root).optimizer's state 'm' for (root).res_1_1.conv_1.bias\n",
            "WARNING:tensorflow:Value in checkpoint could not be found in the restored object: (root).optimizer's state 'm' for (root).res_1_1.bn_1.gamma\n",
            "WARNING:tensorflow:Value in checkpoint could not be found in the restored object: (root).optimizer's state 'm' for (root).res_1_1.bn_1.beta\n",
            "WARNING:tensorflow:Value in checkpoint could not be found in the restored object: (root).optimizer's state 'm' for (root).res_1_1.conv_2.kernel\n",
            "WARNING:tensorflow:Value in checkpoint could not be found in the restored object: (root).optimizer's state 'm' for (root).res_1_1.conv_2.bias\n",
            "WARNING:tensorflow:Value in checkpoint could not be found in the restored object: (root).optimizer's state 'm' for (root).res_1_1.bn_2.gamma\n",
            "WARNING:tensorflow:Value in checkpoint could not be found in the restored object: (root).optimizer's state 'm' for (root).res_1_1.bn_2.beta\n",
            "WARNING:tensorflow:Value in checkpoint could not be found in the restored object: (root).optimizer's state 'm' for (root).res_1_2.conv_1.kernel\n",
            "WARNING:tensorflow:Value in checkpoint could not be found in the restored object: (root).optimizer's state 'm' for (root).res_1_2.conv_1.bias\n",
            "WARNING:tensorflow:Value in checkpoint could not be found in the restored object: (root).optimizer's state 'm' for (root).res_1_2.bn_1.gamma\n",
            "WARNING:tensorflow:Value in checkpoint could not be found in the restored object: (root).optimizer's state 'm' for (root).res_1_2.bn_1.beta\n",
            "WARNING:tensorflow:Value in checkpoint could not be found in the restored object: (root).optimizer's state 'm' for (root).res_1_2.conv_2.kernel\n",
            "WARNING:tensorflow:Value in checkpoint could not be found in the restored object: (root).optimizer's state 'm' for (root).res_1_2.conv_2.bias\n",
            "WARNING:tensorflow:Value in checkpoint could not be found in the restored object: (root).optimizer's state 'm' for (root).res_1_2.bn_2.gamma\n",
            "WARNING:tensorflow:Value in checkpoint could not be found in the restored object: (root).optimizer's state 'm' for (root).res_1_2.bn_2.beta\n",
            "WARNING:tensorflow:Value in checkpoint could not be found in the restored object: (root).optimizer's state 'm' for (root).res_2_1.conv_1.kernel\n",
            "WARNING:tensorflow:Value in checkpoint could not be found in the restored object: (root).optimizer's state 'm' for (root).res_2_1.conv_1.bias\n",
            "WARNING:tensorflow:Value in checkpoint could not be found in the restored object: (root).optimizer's state 'm' for (root).res_2_1.bn_1.gamma\n",
            "WARNING:tensorflow:Value in checkpoint could not be found in the restored object: (root).optimizer's state 'm' for (root).res_2_1.bn_1.beta\n",
            "WARNING:tensorflow:Value in checkpoint could not be found in the restored object: (root).optimizer's state 'm' for (root).res_2_1.conv_2.kernel\n",
            "WARNING:tensorflow:Value in checkpoint could not be found in the restored object: (root).optimizer's state 'm' for (root).res_2_1.conv_2.bias\n",
            "WARNING:tensorflow:Value in checkpoint could not be found in the restored object: (root).optimizer's state 'm' for (root).res_2_1.bn_2.gamma\n",
            "WARNING:tensorflow:Value in checkpoint could not be found in the restored object: (root).optimizer's state 'm' for (root).res_2_1.bn_2.beta\n",
            "WARNING:tensorflow:Value in checkpoint could not be found in the restored object: (root).optimizer's state 'm' for (root).res_2_1.res_conv.kernel\n",
            "WARNING:tensorflow:Value in checkpoint could not be found in the restored object: (root).optimizer's state 'm' for (root).res_2_1.res_conv.bias\n",
            "WARNING:tensorflow:Value in checkpoint could not be found in the restored object: (root).optimizer's state 'm' for (root).res_2_1.res_bn.gamma\n",
            "WARNING:tensorflow:Value in checkpoint could not be found in the restored object: (root).optimizer's state 'm' for (root).res_2_1.res_bn.beta\n",
            "WARNING:tensorflow:Value in checkpoint could not be found in the restored object: (root).optimizer's state 'm' for (root).res_2_2.conv_1.kernel\n",
            "WARNING:tensorflow:Value in checkpoint could not be found in the restored object: (root).optimizer's state 'm' for (root).res_2_2.conv_1.bias\n",
            "WARNING:tensorflow:Value in checkpoint could not be found in the restored object: (root).optimizer's state 'm' for (root).res_2_2.bn_1.gamma\n",
            "WARNING:tensorflow:Value in checkpoint could not be found in the restored object: (root).optimizer's state 'm' for (root).res_2_2.bn_1.beta\n",
            "WARNING:tensorflow:Value in checkpoint could not be found in the restored object: (root).optimizer's state 'm' for (root).res_2_2.conv_2.kernel\n",
            "WARNING:tensorflow:Value in checkpoint could not be found in the restored object: (root).optimizer's state 'm' for (root).res_2_2.conv_2.bias\n",
            "WARNING:tensorflow:Value in checkpoint could not be found in the restored object: (root).optimizer's state 'm' for (root).res_2_2.bn_2.gamma\n",
            "WARNING:tensorflow:Value in checkpoint could not be found in the restored object: (root).optimizer's state 'm' for (root).res_2_2.bn_2.beta\n",
            "WARNING:tensorflow:Value in checkpoint could not be found in the restored object: (root).optimizer's state 'm' for (root).res_3_1.conv_1.kernel\n",
            "WARNING:tensorflow:Value in checkpoint could not be found in the restored object: (root).optimizer's state 'm' for (root).res_3_1.conv_1.bias\n",
            "WARNING:tensorflow:Value in checkpoint could not be found in the restored object: (root).optimizer's state 'm' for (root).res_3_1.bn_1.gamma\n",
            "WARNING:tensorflow:Value in checkpoint could not be found in the restored object: (root).optimizer's state 'm' for (root).res_3_1.bn_1.beta\n",
            "WARNING:tensorflow:Value in checkpoint could not be found in the restored object: (root).optimizer's state 'm' for (root).res_3_1.conv_2.kernel\n",
            "WARNING:tensorflow:Value in checkpoint could not be found in the restored object: (root).optimizer's state 'm' for (root).res_3_1.conv_2.bias\n",
            "WARNING:tensorflow:Value in checkpoint could not be found in the restored object: (root).optimizer's state 'm' for (root).res_3_1.bn_2.gamma\n",
            "WARNING:tensorflow:Value in checkpoint could not be found in the restored object: (root).optimizer's state 'm' for (root).res_3_1.bn_2.beta\n",
            "WARNING:tensorflow:Value in checkpoint could not be found in the restored object: (root).optimizer's state 'm' for (root).res_3_1.res_conv.kernel\n",
            "WARNING:tensorflow:Value in checkpoint could not be found in the restored object: (root).optimizer's state 'm' for (root).res_3_1.res_conv.bias\n",
            "WARNING:tensorflow:Value in checkpoint could not be found in the restored object: (root).optimizer's state 'm' for (root).res_3_1.res_bn.gamma\n",
            "WARNING:tensorflow:Value in checkpoint could not be found in the restored object: (root).optimizer's state 'm' for (root).res_3_1.res_bn.beta\n",
            "WARNING:tensorflow:Value in checkpoint could not be found in the restored object: (root).optimizer's state 'm' for (root).res_3_2.conv_1.kernel\n",
            "WARNING:tensorflow:Value in checkpoint could not be found in the restored object: (root).optimizer's state 'm' for (root).res_3_2.conv_1.bias\n",
            "WARNING:tensorflow:Value in checkpoint could not be found in the restored object: (root).optimizer's state 'm' for (root).res_3_2.bn_1.gamma\n",
            "WARNING:tensorflow:Value in checkpoint could not be found in the restored object: (root).optimizer's state 'm' for (root).res_3_2.bn_1.beta\n",
            "WARNING:tensorflow:Value in checkpoint could not be found in the restored object: (root).optimizer's state 'm' for (root).res_3_2.conv_2.kernel\n",
            "WARNING:tensorflow:Value in checkpoint could not be found in the restored object: (root).optimizer's state 'm' for (root).res_3_2.conv_2.bias\n",
            "WARNING:tensorflow:Value in checkpoint could not be found in the restored object: (root).optimizer's state 'm' for (root).res_3_2.bn_2.gamma\n",
            "WARNING:tensorflow:Value in checkpoint could not be found in the restored object: (root).optimizer's state 'm' for (root).res_3_2.bn_2.beta\n",
            "WARNING:tensorflow:Value in checkpoint could not be found in the restored object: (root).optimizer's state 'm' for (root).res_4_1.conv_1.kernel\n",
            "WARNING:tensorflow:Value in checkpoint could not be found in the restored object: (root).optimizer's state 'm' for (root).res_4_1.conv_1.bias\n",
            "WARNING:tensorflow:Value in checkpoint could not be found in the restored object: (root).optimizer's state 'm' for (root).res_4_1.bn_1.gamma\n",
            "WARNING:tensorflow:Value in checkpoint could not be found in the restored object: (root).optimizer's state 'm' for (root).res_4_1.bn_1.beta\n",
            "WARNING:tensorflow:Value in checkpoint could not be found in the restored object: (root).optimizer's state 'm' for (root).res_4_1.conv_2.kernel\n",
            "WARNING:tensorflow:Value in checkpoint could not be found in the restored object: (root).optimizer's state 'm' for (root).res_4_1.conv_2.bias\n",
            "WARNING:tensorflow:Value in checkpoint could not be found in the restored object: (root).optimizer's state 'm' for (root).res_4_1.bn_2.gamma\n",
            "WARNING:tensorflow:Value in checkpoint could not be found in the restored object: (root).optimizer's state 'm' for (root).res_4_1.bn_2.beta\n",
            "WARNING:tensorflow:Value in checkpoint could not be found in the restored object: (root).optimizer's state 'm' for (root).res_4_1.res_conv.kernel\n",
            "WARNING:tensorflow:Value in checkpoint could not be found in the restored object: (root).optimizer's state 'm' for (root).res_4_1.res_conv.bias\n",
            "WARNING:tensorflow:Value in checkpoint could not be found in the restored object: (root).optimizer's state 'm' for (root).res_4_1.res_bn.gamma\n",
            "WARNING:tensorflow:Value in checkpoint could not be found in the restored object: (root).optimizer's state 'm' for (root).res_4_1.res_bn.beta\n",
            "WARNING:tensorflow:Value in checkpoint could not be found in the restored object: (root).optimizer's state 'm' for (root).res_4_2.conv_1.kernel\n",
            "WARNING:tensorflow:Value in checkpoint could not be found in the restored object: (root).optimizer's state 'm' for (root).res_4_2.conv_1.bias\n",
            "WARNING:tensorflow:Value in checkpoint could not be found in the restored object: (root).optimizer's state 'm' for (root).res_4_2.bn_1.gamma\n",
            "WARNING:tensorflow:Value in checkpoint could not be found in the restored object: (root).optimizer's state 'm' for (root).res_4_2.bn_1.beta\n",
            "WARNING:tensorflow:Value in checkpoint could not be found in the restored object: (root).optimizer's state 'm' for (root).res_4_2.conv_2.kernel\n",
            "WARNING:tensorflow:Value in checkpoint could not be found in the restored object: (root).optimizer's state 'm' for (root).res_4_2.conv_2.bias\n",
            "WARNING:tensorflow:Value in checkpoint could not be found in the restored object: (root).optimizer's state 'm' for (root).res_4_2.bn_2.gamma\n",
            "WARNING:tensorflow:Value in checkpoint could not be found in the restored object: (root).optimizer's state 'm' for (root).res_4_2.bn_2.beta\n",
            "WARNING:tensorflow:Value in checkpoint could not be found in the restored object: (root).optimizer's state 'v' for (root).conv_1.kernel\n",
            "WARNING:tensorflow:Value in checkpoint could not be found in the restored object: (root).optimizer's state 'v' for (root).conv_1.bias\n",
            "WARNING:tensorflow:Value in checkpoint could not be found in the restored object: (root).optimizer's state 'v' for (root).init_bn.gamma\n",
            "WARNING:tensorflow:Value in checkpoint could not be found in the restored object: (root).optimizer's state 'v' for (root).init_bn.beta\n",
            "WARNING:tensorflow:Value in checkpoint could not be found in the restored object: (root).optimizer's state 'v' for (root).fc.kernel\n",
            "WARNING:tensorflow:Value in checkpoint could not be found in the restored object: (root).optimizer's state 'v' for (root).fc.bias\n",
            "WARNING:tensorflow:Value in checkpoint could not be found in the restored object: (root).optimizer's state 'v' for (root).res_1_1.conv_1.kernel\n",
            "WARNING:tensorflow:Value in checkpoint could not be found in the restored object: (root).optimizer's state 'v' for (root).res_1_1.conv_1.bias\n",
            "WARNING:tensorflow:Value in checkpoint could not be found in the restored object: (root).optimizer's state 'v' for (root).res_1_1.bn_1.gamma\n",
            "WARNING:tensorflow:Value in checkpoint could not be found in the restored object: (root).optimizer's state 'v' for (root).res_1_1.bn_1.beta\n",
            "WARNING:tensorflow:Value in checkpoint could not be found in the restored object: (root).optimizer's state 'v' for (root).res_1_1.conv_2.kernel\n",
            "WARNING:tensorflow:Value in checkpoint could not be found in the restored object: (root).optimizer's state 'v' for (root).res_1_1.conv_2.bias\n",
            "WARNING:tensorflow:Value in checkpoint could not be found in the restored object: (root).optimizer's state 'v' for (root).res_1_1.bn_2.gamma\n",
            "WARNING:tensorflow:Value in checkpoint could not be found in the restored object: (root).optimizer's state 'v' for (root).res_1_1.bn_2.beta\n",
            "WARNING:tensorflow:Value in checkpoint could not be found in the restored object: (root).optimizer's state 'v' for (root).res_1_2.conv_1.kernel\n",
            "WARNING:tensorflow:Value in checkpoint could not be found in the restored object: (root).optimizer's state 'v' for (root).res_1_2.conv_1.bias\n",
            "WARNING:tensorflow:Value in checkpoint could not be found in the restored object: (root).optimizer's state 'v' for (root).res_1_2.bn_1.gamma\n",
            "WARNING:tensorflow:Value in checkpoint could not be found in the restored object: (root).optimizer's state 'v' for (root).res_1_2.bn_1.beta\n",
            "WARNING:tensorflow:Value in checkpoint could not be found in the restored object: (root).optimizer's state 'v' for (root).res_1_2.conv_2.kernel\n",
            "WARNING:tensorflow:Value in checkpoint could not be found in the restored object: (root).optimizer's state 'v' for (root).res_1_2.conv_2.bias\n",
            "WARNING:tensorflow:Value in checkpoint could not be found in the restored object: (root).optimizer's state 'v' for (root).res_1_2.bn_2.gamma\n",
            "WARNING:tensorflow:Value in checkpoint could not be found in the restored object: (root).optimizer's state 'v' for (root).res_1_2.bn_2.beta\n",
            "WARNING:tensorflow:Value in checkpoint could not be found in the restored object: (root).optimizer's state 'v' for (root).res_2_1.conv_1.kernel\n",
            "WARNING:tensorflow:Value in checkpoint could not be found in the restored object: (root).optimizer's state 'v' for (root).res_2_1.conv_1.bias\n",
            "WARNING:tensorflow:Value in checkpoint could not be found in the restored object: (root).optimizer's state 'v' for (root).res_2_1.bn_1.gamma\n",
            "WARNING:tensorflow:Value in checkpoint could not be found in the restored object: (root).optimizer's state 'v' for (root).res_2_1.bn_1.beta\n",
            "WARNING:tensorflow:Value in checkpoint could not be found in the restored object: (root).optimizer's state 'v' for (root).res_2_1.conv_2.kernel\n",
            "WARNING:tensorflow:Value in checkpoint could not be found in the restored object: (root).optimizer's state 'v' for (root).res_2_1.conv_2.bias\n",
            "WARNING:tensorflow:Value in checkpoint could not be found in the restored object: (root).optimizer's state 'v' for (root).res_2_1.bn_2.gamma\n",
            "WARNING:tensorflow:Value in checkpoint could not be found in the restored object: (root).optimizer's state 'v' for (root).res_2_1.bn_2.beta\n",
            "WARNING:tensorflow:Value in checkpoint could not be found in the restored object: (root).optimizer's state 'v' for (root).res_2_1.res_conv.kernel\n",
            "WARNING:tensorflow:Value in checkpoint could not be found in the restored object: (root).optimizer's state 'v' for (root).res_2_1.res_conv.bias\n",
            "WARNING:tensorflow:Value in checkpoint could not be found in the restored object: (root).optimizer's state 'v' for (root).res_2_1.res_bn.gamma\n",
            "WARNING:tensorflow:Value in checkpoint could not be found in the restored object: (root).optimizer's state 'v' for (root).res_2_1.res_bn.beta\n",
            "WARNING:tensorflow:Value in checkpoint could not be found in the restored object: (root).optimizer's state 'v' for (root).res_2_2.conv_1.kernel\n",
            "WARNING:tensorflow:Value in checkpoint could not be found in the restored object: (root).optimizer's state 'v' for (root).res_2_2.conv_1.bias\n",
            "WARNING:tensorflow:Value in checkpoint could not be found in the restored object: (root).optimizer's state 'v' for (root).res_2_2.bn_1.gamma\n",
            "WARNING:tensorflow:Value in checkpoint could not be found in the restored object: (root).optimizer's state 'v' for (root).res_2_2.bn_1.beta\n",
            "WARNING:tensorflow:Value in checkpoint could not be found in the restored object: (root).optimizer's state 'v' for (root).res_2_2.conv_2.kernel\n",
            "WARNING:tensorflow:Value in checkpoint could not be found in the restored object: (root).optimizer's state 'v' for (root).res_2_2.conv_2.bias\n",
            "WARNING:tensorflow:Value in checkpoint could not be found in the restored object: (root).optimizer's state 'v' for (root).res_2_2.bn_2.gamma\n",
            "WARNING:tensorflow:Value in checkpoint could not be found in the restored object: (root).optimizer's state 'v' for (root).res_2_2.bn_2.beta\n",
            "WARNING:tensorflow:Value in checkpoint could not be found in the restored object: (root).optimizer's state 'v' for (root).res_3_1.conv_1.kernel\n",
            "WARNING:tensorflow:Value in checkpoint could not be found in the restored object: (root).optimizer's state 'v' for (root).res_3_1.conv_1.bias\n",
            "WARNING:tensorflow:Value in checkpoint could not be found in the restored object: (root).optimizer's state 'v' for (root).res_3_1.bn_1.gamma\n",
            "WARNING:tensorflow:Value in checkpoint could not be found in the restored object: (root).optimizer's state 'v' for (root).res_3_1.bn_1.beta\n",
            "WARNING:tensorflow:Value in checkpoint could not be found in the restored object: (root).optimizer's state 'v' for (root).res_3_1.conv_2.kernel\n",
            "WARNING:tensorflow:Value in checkpoint could not be found in the restored object: (root).optimizer's state 'v' for (root).res_3_1.conv_2.bias\n",
            "WARNING:tensorflow:Value in checkpoint could not be found in the restored object: (root).optimizer's state 'v' for (root).res_3_1.bn_2.gamma\n",
            "WARNING:tensorflow:Value in checkpoint could not be found in the restored object: (root).optimizer's state 'v' for (root).res_3_1.bn_2.beta\n",
            "WARNING:tensorflow:Value in checkpoint could not be found in the restored object: (root).optimizer's state 'v' for (root).res_3_1.res_conv.kernel\n",
            "WARNING:tensorflow:Value in checkpoint could not be found in the restored object: (root).optimizer's state 'v' for (root).res_3_1.res_conv.bias\n",
            "WARNING:tensorflow:Value in checkpoint could not be found in the restored object: (root).optimizer's state 'v' for (root).res_3_1.res_bn.gamma\n",
            "WARNING:tensorflow:Value in checkpoint could not be found in the restored object: (root).optimizer's state 'v' for (root).res_3_1.res_bn.beta\n",
            "WARNING:tensorflow:Value in checkpoint could not be found in the restored object: (root).optimizer's state 'v' for (root).res_3_2.conv_1.kernel\n",
            "WARNING:tensorflow:Value in checkpoint could not be found in the restored object: (root).optimizer's state 'v' for (root).res_3_2.conv_1.bias\n",
            "WARNING:tensorflow:Value in checkpoint could not be found in the restored object: (root).optimizer's state 'v' for (root).res_3_2.bn_1.gamma\n",
            "WARNING:tensorflow:Value in checkpoint could not be found in the restored object: (root).optimizer's state 'v' for (root).res_3_2.bn_1.beta\n",
            "WARNING:tensorflow:Value in checkpoint could not be found in the restored object: (root).optimizer's state 'v' for (root).res_3_2.conv_2.kernel\n",
            "WARNING:tensorflow:Value in checkpoint could not be found in the restored object: (root).optimizer's state 'v' for (root).res_3_2.conv_2.bias\n",
            "WARNING:tensorflow:Value in checkpoint could not be found in the restored object: (root).optimizer's state 'v' for (root).res_3_2.bn_2.gamma\n",
            "WARNING:tensorflow:Value in checkpoint could not be found in the restored object: (root).optimizer's state 'v' for (root).res_3_2.bn_2.beta\n",
            "WARNING:tensorflow:Value in checkpoint could not be found in the restored object: (root).optimizer's state 'v' for (root).res_4_1.conv_1.kernel\n",
            "WARNING:tensorflow:Value in checkpoint could not be found in the restored object: (root).optimizer's state 'v' for (root).res_4_1.conv_1.bias\n",
            "WARNING:tensorflow:Value in checkpoint could not be found in the restored object: (root).optimizer's state 'v' for (root).res_4_1.bn_1.gamma\n",
            "WARNING:tensorflow:Value in checkpoint could not be found in the restored object: (root).optimizer's state 'v' for (root).res_4_1.bn_1.beta\n",
            "WARNING:tensorflow:Value in checkpoint could not be found in the restored object: (root).optimizer's state 'v' for (root).res_4_1.conv_2.kernel\n",
            "WARNING:tensorflow:Value in checkpoint could not be found in the restored object: (root).optimizer's state 'v' for (root).res_4_1.conv_2.bias\n",
            "WARNING:tensorflow:Value in checkpoint could not be found in the restored object: (root).optimizer's state 'v' for (root).res_4_1.bn_2.gamma\n",
            "WARNING:tensorflow:Value in checkpoint could not be found in the restored object: (root).optimizer's state 'v' for (root).res_4_1.bn_2.beta\n",
            "WARNING:tensorflow:Value in checkpoint could not be found in the restored object: (root).optimizer's state 'v' for (root).res_4_1.res_conv.kernel\n",
            "WARNING:tensorflow:Value in checkpoint could not be found in the restored object: (root).optimizer's state 'v' for (root).res_4_1.res_conv.bias\n",
            "WARNING:tensorflow:Value in checkpoint could not be found in the restored object: (root).optimizer's state 'v' for (root).res_4_1.res_bn.gamma\n",
            "WARNING:tensorflow:Value in checkpoint could not be found in the restored object: (root).optimizer's state 'v' for (root).res_4_1.res_bn.beta\n",
            "WARNING:tensorflow:Value in checkpoint could not be found in the restored object: (root).optimizer's state 'v' for (root).res_4_2.conv_1.kernel\n",
            "WARNING:tensorflow:Value in checkpoint could not be found in the restored object: (root).optimizer's state 'v' for (root).res_4_2.conv_1.bias\n",
            "WARNING:tensorflow:Value in checkpoint could not be found in the restored object: (root).optimizer's state 'v' for (root).res_4_2.bn_1.gamma\n",
            "WARNING:tensorflow:Value in checkpoint could not be found in the restored object: (root).optimizer's state 'v' for (root).res_4_2.bn_1.beta\n",
            "WARNING:tensorflow:Value in checkpoint could not be found in the restored object: (root).optimizer's state 'v' for (root).res_4_2.conv_2.kernel\n",
            "WARNING:tensorflow:Value in checkpoint could not be found in the restored object: (root).optimizer's state 'v' for (root).res_4_2.conv_2.bias\n",
            "WARNING:tensorflow:Value in checkpoint could not be found in the restored object: (root).optimizer's state 'v' for (root).res_4_2.bn_2.gamma\n",
            "WARNING:tensorflow:Value in checkpoint could not be found in the restored object: (root).optimizer's state 'v' for (root).res_4_2.bn_2.beta\n"
          ]
        },
        {
          "output_type": "stream",
          "name": "stdout",
          "text": [
            "32/32 [==============================] - 2s 10ms/step - loss: 0.3171 - accuracy: 0.9110\n"
          ]
        },
        {
          "output_type": "execute_result",
          "data": {
            "text/plain": [
              "[0.31712672114372253, 0.9110000133514404]"
            ]
          },
          "metadata": {},
          "execution_count": 61
        }
      ]
    },
    {
      "cell_type": "code",
      "execution_count": null,
      "metadata": {
        "id": "4COoIcpPvF2C"
      },
      "outputs": [],
      "source": [
        "cnn_1.trainable = False\n",
        "cleaner = LabelCleaner(cnn_1)\n",
        "\n",
        "cleaner.compile(\n",
        "    optimizer = tf.keras.optimizers.Adam(0.001),\n",
        "    loss = l1_loss,\n",
        "    metrics = ['accuracy']\n",
        ")"
      ]
    },
    {
      "cell_type": "code",
      "execution_count": null,
      "metadata": {
        "colab": {
          "base_uri": "https://localhost:8080/"
        },
        "id": "-XTzVVR_vF2C",
        "outputId": "7359b8c6-a26e-48c8-c6a5-b16743871d8b"
      },
      "outputs": [
        {
          "output_type": "stream",
          "name": "stdout",
          "text": [
            "Epoch 1/60\n",
            "57/57 [==============================] - 3s 25ms/step - loss: 144.2127 - accuracy: 0.6825 - val_loss: 147.1830 - val_accuracy: 0.5156\n",
            "Epoch 2/60\n",
            "57/57 [==============================] - 1s 14ms/step - loss: 40.1163 - accuracy: 0.8618 - val_loss: 102.0742 - val_accuracy: 0.7211\n",
            "Epoch 3/60\n",
            "57/57 [==============================] - 1s 14ms/step - loss: 33.7128 - accuracy: 0.8629 - val_loss: 76.0516 - val_accuracy: 0.8339\n",
            "Epoch 4/60\n",
            "57/57 [==============================] - 1s 14ms/step - loss: 32.9007 - accuracy: 0.8635 - val_loss: 55.0190 - val_accuracy: 0.8639\n",
            "Epoch 5/60\n",
            "57/57 [==============================] - 1s 14ms/step - loss: 32.2837 - accuracy: 0.8650 - val_loss: 41.2236 - val_accuracy: 0.8661\n",
            "Epoch 6/60\n",
            "57/57 [==============================] - 1s 14ms/step - loss: 31.7482 - accuracy: 0.8664 - val_loss: 35.3415 - val_accuracy: 0.8656\n",
            "Epoch 7/60\n",
            "57/57 [==============================] - 1s 14ms/step - loss: 31.3158 - accuracy: 0.8668 - val_loss: 33.2966 - val_accuracy: 0.8661\n",
            "Epoch 8/60\n",
            "57/57 [==============================] - 1s 14ms/step - loss: 30.9005 - accuracy: 0.8672 - val_loss: 32.9001 - val_accuracy: 0.8656\n",
            "Epoch 9/60\n",
            "57/57 [==============================] - 1s 13ms/step - loss: 30.5254 - accuracy: 0.8683 - val_loss: 33.3832 - val_accuracy: 0.8678\n",
            "Epoch 10/60\n",
            "57/57 [==============================] - 1s 13ms/step - loss: 30.3263 - accuracy: 0.8687 - val_loss: 33.0628 - val_accuracy: 0.8667\n",
            "Epoch 11/60\n",
            "57/57 [==============================] - 1s 14ms/step - loss: 29.9822 - accuracy: 0.8697 - val_loss: 32.6230 - val_accuracy: 0.8667\n",
            "Epoch 12/60\n",
            "57/57 [==============================] - 1s 13ms/step - loss: 29.8359 - accuracy: 0.8704 - val_loss: 32.6833 - val_accuracy: 0.8667\n",
            "Epoch 13/60\n",
            "57/57 [==============================] - 1s 14ms/step - loss: 29.6976 - accuracy: 0.8701 - val_loss: 32.1719 - val_accuracy: 0.8683\n",
            "Epoch 14/60\n",
            "57/57 [==============================] - 1s 13ms/step - loss: 29.4056 - accuracy: 0.8703 - val_loss: 32.3488 - val_accuracy: 0.8678\n",
            "Epoch 15/60\n",
            "57/57 [==============================] - 1s 14ms/step - loss: 29.2821 - accuracy: 0.8718 - val_loss: 32.0218 - val_accuracy: 0.8694\n",
            "Epoch 16/60\n",
            "57/57 [==============================] - 1s 14ms/step - loss: 29.1975 - accuracy: 0.8711 - val_loss: 31.6924 - val_accuracy: 0.8689\n",
            "Epoch 17/60\n",
            "57/57 [==============================] - 1s 13ms/step - loss: 29.1457 - accuracy: 0.8714 - val_loss: 31.7353 - val_accuracy: 0.8683\n",
            "Epoch 18/60\n",
            "57/57 [==============================] - 1s 14ms/step - loss: 28.8578 - accuracy: 0.8721 - val_loss: 31.6458 - val_accuracy: 0.8700\n",
            "Epoch 19/60\n",
            "57/57 [==============================] - 1s 13ms/step - loss: 28.6731 - accuracy: 0.8729 - val_loss: 31.8186 - val_accuracy: 0.8689\n",
            "Epoch 20/60\n",
            "57/57 [==============================] - 1s 14ms/step - loss: 28.5593 - accuracy: 0.8731 - val_loss: 31.6456 - val_accuracy: 0.8700\n",
            "Epoch 21/60\n",
            "57/57 [==============================] - 1s 13ms/step - loss: 28.5263 - accuracy: 0.8740 - val_loss: 31.9543 - val_accuracy: 0.8683\n",
            "Epoch 22/60\n",
            "57/57 [==============================] - 1s 13ms/step - loss: 28.4680 - accuracy: 0.8732 - val_loss: 31.6660 - val_accuracy: 0.8678\n",
            "Epoch 23/60\n",
            "57/57 [==============================] - 1s 13ms/step - loss: 28.1531 - accuracy: 0.8754 - val_loss: 31.8029 - val_accuracy: 0.8706\n",
            "Epoch 24/60\n",
            "57/57 [==============================] - 1s 14ms/step - loss: 28.3030 - accuracy: 0.8740 - val_loss: 31.6323 - val_accuracy: 0.8689\n",
            "Epoch 25/60\n",
            "57/57 [==============================] - 1s 14ms/step - loss: 28.2648 - accuracy: 0.8765 - val_loss: 31.3427 - val_accuracy: 0.8694\n",
            "Epoch 26/60\n",
            "57/57 [==============================] - 1s 13ms/step - loss: 28.0794 - accuracy: 0.8754 - val_loss: 31.4929 - val_accuracy: 0.8711\n",
            "Epoch 27/60\n",
            "57/57 [==============================] - 1s 13ms/step - loss: 28.0483 - accuracy: 0.8763 - val_loss: 31.4669 - val_accuracy: 0.8717\n",
            "Epoch 28/60\n",
            "57/57 [==============================] - 1s 13ms/step - loss: 27.9692 - accuracy: 0.8765 - val_loss: 31.4872 - val_accuracy: 0.8711\n",
            "Epoch 29/60\n",
            "57/57 [==============================] - 1s 13ms/step - loss: 27.9077 - accuracy: 0.8761 - val_loss: 31.3515 - val_accuracy: 0.8728\n",
            "Epoch 30/60\n",
            "57/57 [==============================] - 1s 13ms/step - loss: 27.6583 - accuracy: 0.8776 - val_loss: 31.5206 - val_accuracy: 0.8706\n",
            "Epoch 31/60\n",
            "57/57 [==============================] - 1s 14ms/step - loss: 26.9778 - accuracy: 0.8825 - val_loss: 29.8108 - val_accuracy: 0.8839\n",
            "Epoch 32/60\n",
            "57/57 [==============================] - 1s 13ms/step - loss: 26.7351 - accuracy: 0.8863 - val_loss: 29.9785 - val_accuracy: 0.8822\n",
            "Epoch 33/60\n",
            "57/57 [==============================] - 1s 14ms/step - loss: 26.4671 - accuracy: 0.8868 - val_loss: 29.3014 - val_accuracy: 0.8961\n",
            "Epoch 34/60\n",
            "57/57 [==============================] - 1s 14ms/step - loss: 18.5209 - accuracy: 0.9325 - val_loss: 18.5981 - val_accuracy: 0.9278\n",
            "Epoch 35/60\n",
            "57/57 [==============================] - 1s 14ms/step - loss: 16.0708 - accuracy: 0.9381 - val_loss: 18.2304 - val_accuracy: 0.9294\n",
            "Epoch 36/60\n",
            "57/57 [==============================] - 1s 13ms/step - loss: 15.6734 - accuracy: 0.9396 - val_loss: 18.2561 - val_accuracy: 0.9272\n",
            "Epoch 37/60\n",
            "57/57 [==============================] - 1s 13ms/step - loss: 15.7077 - accuracy: 0.9397 - val_loss: 18.4675 - val_accuracy: 0.9283\n",
            "Epoch 38/60\n",
            "57/57 [==============================] - 1s 13ms/step - loss: 15.5144 - accuracy: 0.9400 - val_loss: 18.3966 - val_accuracy: 0.9267\n",
            "Epoch 39/60\n",
            "57/57 [==============================] - 1s 13ms/step - loss: 15.4156 - accuracy: 0.9401 - val_loss: 18.2500 - val_accuracy: 0.9267\n",
            "Epoch 40/60\n",
            "57/57 [==============================] - 1s 14ms/step - loss: 15.3753 - accuracy: 0.9404 - val_loss: 18.1604 - val_accuracy: 0.9278\n",
            "Epoch 41/60\n",
            "57/57 [==============================] - 1s 13ms/step - loss: 15.2652 - accuracy: 0.9413 - val_loss: 18.4661 - val_accuracy: 0.9244\n",
            "Epoch 42/60\n",
            "57/57 [==============================] - 1s 13ms/step - loss: 15.2784 - accuracy: 0.9401 - val_loss: 18.4473 - val_accuracy: 0.9244\n",
            "Epoch 43/60\n",
            "57/57 [==============================] - 1s 13ms/step - loss: 15.1652 - accuracy: 0.9410 - val_loss: 18.3328 - val_accuracy: 0.9261\n",
            "Epoch 44/60\n",
            "57/57 [==============================] - 1s 13ms/step - loss: 15.1593 - accuracy: 0.9413 - val_loss: 18.9192 - val_accuracy: 0.9261\n",
            "Epoch 45/60\n",
            "57/57 [==============================] - 1s 13ms/step - loss: 15.0368 - accuracy: 0.9424 - val_loss: 18.3384 - val_accuracy: 0.9272\n",
            "Epoch 46/60\n",
            "57/57 [==============================] - 1s 13ms/step - loss: 15.0386 - accuracy: 0.9413 - val_loss: 18.2480 - val_accuracy: 0.9278\n",
            "Epoch 47/60\n",
            "57/57 [==============================] - 1s 13ms/step - loss: 14.8684 - accuracy: 0.9417 - val_loss: 18.3713 - val_accuracy: 0.9261\n",
            "Epoch 48/60\n",
            "57/57 [==============================] - 1s 14ms/step - loss: 14.9243 - accuracy: 0.9414 - val_loss: 17.9589 - val_accuracy: 0.9300\n",
            "Epoch 49/60\n",
            "57/57 [==============================] - 1s 13ms/step - loss: 14.8779 - accuracy: 0.9411 - val_loss: 18.3441 - val_accuracy: 0.9261\n",
            "Epoch 50/60\n",
            "57/57 [==============================] - 1s 14ms/step - loss: 14.9845 - accuracy: 0.9419 - val_loss: 17.9183 - val_accuracy: 0.9294\n",
            "Epoch 51/60\n",
            "57/57 [==============================] - 1s 13ms/step - loss: 14.6604 - accuracy: 0.9422 - val_loss: 18.1177 - val_accuracy: 0.9272\n",
            "Epoch 52/60\n",
            "57/57 [==============================] - 1s 13ms/step - loss: 14.7114 - accuracy: 0.9421 - val_loss: 18.1657 - val_accuracy: 0.9272\n",
            "Epoch 53/60\n",
            "57/57 [==============================] - 1s 13ms/step - loss: 14.6706 - accuracy: 0.9428 - val_loss: 18.3589 - val_accuracy: 0.9272\n",
            "Epoch 54/60\n",
            "57/57 [==============================] - 1s 13ms/step - loss: 14.5373 - accuracy: 0.9431 - val_loss: 18.0170 - val_accuracy: 0.9294\n",
            "Epoch 55/60\n",
            "57/57 [==============================] - 1s 13ms/step - loss: 14.5484 - accuracy: 0.9429 - val_loss: 17.9400 - val_accuracy: 0.9272\n",
            "Epoch 56/60\n",
            "57/57 [==============================] - 1s 13ms/step - loss: 14.7120 - accuracy: 0.9426 - val_loss: 18.0593 - val_accuracy: 0.9283\n",
            "Epoch 57/60\n",
            "57/57 [==============================] - 1s 13ms/step - loss: 14.6741 - accuracy: 0.9428 - val_loss: 17.9750 - val_accuracy: 0.9300\n",
            "Epoch 58/60\n",
            "57/57 [==============================] - 1s 13ms/step - loss: 14.5798 - accuracy: 0.9425 - val_loss: 18.2836 - val_accuracy: 0.9289\n",
            "Epoch 59/60\n",
            "57/57 [==============================] - 1s 13ms/step - loss: 14.5435 - accuracy: 0.9432 - val_loss: 18.0208 - val_accuracy: 0.9278\n",
            "Epoch 60/60\n",
            "57/57 [==============================] - 1s 14ms/step - loss: 14.4863 - accuracy: 0.9436 - val_loss: 18.0674 - val_accuracy: 0.9317\n"
          ]
        },
        {
          "output_type": "execute_result",
          "data": {
            "text/plain": [
              "<keras.callbacks.History at 0x7f08fae76ad0>"
            ]
          },
          "metadata": {},
          "execution_count": 63
        }
      ],
      "source": [
        "cleaner.fit(\n",
        "    V_train,\n",
        "    epochs = 60,\n",
        "    validation_data = V_val,\n",
        "    callbacks = [es]\n",
        ")"
      ]
    },
    {
      "cell_type": "code",
      "execution_count": null,
      "metadata": {
        "colab": {
          "base_uri": "https://localhost:8080/"
        },
        "id": "JGwM4HwTvF2C",
        "outputId": "98be20dd-2b05-471b-8712-8437403830b1"
      },
      "outputs": [
        {
          "output_type": "stream",
          "name": "stdout",
          "text": [
            "8/8 [==============================] - 0s 18ms/step - loss: 18.5810 - accuracy: 0.9230\n"
          ]
        }
      ],
      "source": [
        "cleaner.evaluate(V_test)\n",
        "cleaner.trainable = False"
      ]
    },
    {
      "cell_type": "code",
      "source": [
        "c_train_full = tf.nn.softmax(\n",
        "    cleaner.predict([\n",
        "        images_normalized,\n",
        "        y_noisy\n",
        "    ])\n",
        ")"
      ],
      "metadata": {
        "colab": {
          "base_uri": "https://localhost:8080/"
        },
        "id": "FuHxu35PatfH",
        "outputId": "b18451a9-2f49-40bd-ee6f-4d323cc94eb6"
      },
      "execution_count": null,
      "outputs": [
        {
          "output_type": "stream",
          "name": "stdout",
          "text": [
            "1563/1563 [==============================] - 10s 6ms/step\n"
          ]
        }
      ]
    },
    {
      "cell_type": "code",
      "execution_count": null,
      "metadata": {
        "id": "M8BoK41lASid"
      },
      "outputs": [],
      "source": [
        "cnn_1.trainable = False\n",
        "# image_classifier = tf.keras.Sequential([\n",
        "#     cnn_1,\n",
        "#     tf.keras.layers.Dense(units = 512),\n",
        "#     tf.keras.layers.Dense(units = 10, activation = \"sigmoid\")\n",
        "# ])\n",
        "image_classifier = ImageClassifier(cnn_1)\n",
        "\n",
        "image_classifier.compile(\n",
        "    loss = tf.keras.losses.CategoricalCrossentropy(),\n",
        "    optimizer = tf.keras.optimizers.Adam(0.001),\n",
        "    metrics = ['accuracy']\n",
        ")"
      ]
    },
    {
      "cell_type": "code",
      "source": [
        "def ImageClassifier(cnn: tf.keras.Model) -> tf.keras.Model:\n",
        "    \"\"\"\n",
        "    Build a new model that takes images as input and outputs class probabilities.\n",
        "\n",
        "    Parameters:\n",
        "    -----------\n",
        "\n",
        "    `cnn: tf.keras.Model` \n",
        "        The base CNN model to use.\n",
        "\n",
        "    `return`\n",
        "        The new model.\n",
        "    \"\"\"\n",
        "    return tf.keras.Sequential([\n",
        "        cnn,\n",
        "        tf.keras.layers.Dense(units = 64),\n",
        "        tf.keras.layers.Dense(units = 10, activation = \"sigmoid\")\n",
        "    ])"
      ],
      "metadata": {
        "id": "gp8s-j41NmUo"
      },
      "execution_count": null,
      "outputs": []
    },
    {
      "cell_type": "code",
      "source": [
        "image_classifier.fit(\n",
        "    images_normalized,\n",
        "    c_train_full,\n",
        "    epochs = 30,\n",
        "    batch_size = BATCH_SIZE,\n",
        ")"
      ],
      "metadata": {
        "colab": {
          "base_uri": "https://localhost:8080/"
        },
        "id": "7sRDsrQHC3g-",
        "outputId": "edf46a0d-f11f-4dcb-85bb-9d9007fb1f32"
      },
      "execution_count": null,
      "outputs": [
        {
          "output_type": "stream",
          "name": "stdout",
          "text": [
            "Epoch 1/30\n",
            "391/391 [==============================] - 6s 11ms/step - loss: 2.2450 - accuracy: 0.8976\n",
            "Epoch 2/30\n",
            "391/391 [==============================] - 4s 10ms/step - loss: 2.2386 - accuracy: 0.9390\n",
            "Epoch 3/30\n",
            "391/391 [==============================] - 4s 10ms/step - loss: 2.2386 - accuracy: 0.9390\n",
            "Epoch 4/30\n",
            "391/391 [==============================] - 4s 10ms/step - loss: 2.2386 - accuracy: 0.9394\n",
            "Epoch 5/30\n",
            "391/391 [==============================] - 4s 10ms/step - loss: 2.2386 - accuracy: 0.9393\n",
            "Epoch 6/30\n",
            "391/391 [==============================] - 4s 10ms/step - loss: 2.2386 - accuracy: 0.9390\n",
            "Epoch 7/30\n",
            "391/391 [==============================] - 4s 10ms/step - loss: 2.2386 - accuracy: 0.9391\n",
            "Epoch 8/30\n",
            "391/391 [==============================] - 4s 10ms/step - loss: 2.2386 - accuracy: 0.9391\n",
            "Epoch 9/30\n",
            "391/391 [==============================] - 4s 10ms/step - loss: 2.2386 - accuracy: 0.9389\n",
            "Epoch 10/30\n",
            "391/391 [==============================] - 4s 10ms/step - loss: 2.2386 - accuracy: 0.9391\n",
            "Epoch 11/30\n",
            "391/391 [==============================] - 4s 10ms/step - loss: 2.2386 - accuracy: 0.9392\n",
            "Epoch 12/30\n",
            "391/391 [==============================] - 4s 10ms/step - loss: 2.2386 - accuracy: 0.9392\n",
            "Epoch 13/30\n",
            "391/391 [==============================] - 4s 10ms/step - loss: 2.2386 - accuracy: 0.9392\n",
            "Epoch 14/30\n",
            "391/391 [==============================] - 4s 10ms/step - loss: 2.2386 - accuracy: 0.9392\n",
            "Epoch 15/30\n",
            "391/391 [==============================] - 4s 10ms/step - loss: 2.2386 - accuracy: 0.9391\n",
            "Epoch 16/30\n",
            "391/391 [==============================] - 4s 11ms/step - loss: 2.2386 - accuracy: 0.9390\n",
            "Epoch 17/30\n",
            "391/391 [==============================] - 4s 10ms/step - loss: 2.2386 - accuracy: 0.9389\n",
            "Epoch 18/30\n",
            "391/391 [==============================] - 4s 11ms/step - loss: 2.2386 - accuracy: 0.9392\n",
            "Epoch 19/30\n",
            "391/391 [==============================] - 4s 10ms/step - loss: 2.2386 - accuracy: 0.9393\n",
            "Epoch 20/30\n",
            "391/391 [==============================] - 4s 10ms/step - loss: 2.2386 - accuracy: 0.9392\n",
            "Epoch 21/30\n",
            "391/391 [==============================] - 4s 10ms/step - loss: 2.2386 - accuracy: 0.9391\n",
            "Epoch 22/30\n",
            "391/391 [==============================] - 4s 10ms/step - loss: 2.2386 - accuracy: 0.9392\n",
            "Epoch 23/30\n",
            "391/391 [==============================] - 4s 10ms/step - loss: 2.2386 - accuracy: 0.9393\n",
            "Epoch 24/30\n",
            "391/391 [==============================] - 4s 10ms/step - loss: 2.2386 - accuracy: 0.9393\n",
            "Epoch 25/30\n",
            "391/391 [==============================] - 4s 10ms/step - loss: 2.2386 - accuracy: 0.9391\n",
            "Epoch 26/30\n",
            "391/391 [==============================] - 4s 10ms/step - loss: 2.2386 - accuracy: 0.9392\n",
            "Epoch 27/30\n",
            "391/391 [==============================] - 4s 10ms/step - loss: 2.2386 - accuracy: 0.9390\n",
            "Epoch 28/30\n",
            "391/391 [==============================] - 4s 10ms/step - loss: 2.2386 - accuracy: 0.9391\n",
            "Epoch 29/30\n",
            "391/391 [==============================] - 4s 10ms/step - loss: 2.2386 - accuracy: 0.9394\n",
            "Epoch 30/30\n",
            "391/391 [==============================] - 4s 10ms/step - loss: 2.2386 - accuracy: 0.9394\n"
          ]
        },
        {
          "output_type": "execute_result",
          "data": {
            "text/plain": [
              "<keras.callbacks.History at 0x7f07efb1efd0>"
            ]
          },
          "metadata": {},
          "execution_count": 83
        }
      ]
    },
    {
      "cell_type": "code",
      "source": [
        "image_classifier.fit(\n",
        "    x_clean_train,\n",
        "    y_clean_train,\n",
        "    epochs = 30,\n",
        "    batch_size = BATCH_SIZE,\n",
        "    validation_data = (x_clean_val, y_clean_val),\n",
        "    callbacks = [es]\n",
        ")"
      ],
      "metadata": {
        "colab": {
          "base_uri": "https://localhost:8080/"
        },
        "id": "GJBYSIcQC3UF",
        "outputId": "1885c302-21e4-4bbe-8646-445275531a72"
      },
      "execution_count": null,
      "outputs": [
        {
          "output_type": "stream",
          "name": "stdout",
          "text": [
            "Epoch 1/30\n",
            "57/57 [==============================] - 1s 25ms/step - loss: 0.5831 - accuracy: 0.9244 - val_loss: 0.3229 - val_accuracy: 0.9222\n",
            "Epoch 2/30\n",
            "57/57 [==============================] - 1s 13ms/step - loss: 0.3031 - accuracy: 0.9276 - val_loss: 0.3202 - val_accuracy: 0.9217\n",
            "Epoch 3/30\n",
            "57/57 [==============================] - 1s 13ms/step - loss: 0.2979 - accuracy: 0.9281 - val_loss: 0.3195 - val_accuracy: 0.9228\n",
            "Epoch 4/30\n",
            "57/57 [==============================] - 1s 13ms/step - loss: 0.2960 - accuracy: 0.9282 - val_loss: 0.3192 - val_accuracy: 0.9211\n",
            "Epoch 5/30\n",
            "57/57 [==============================] - 1s 13ms/step - loss: 0.2949 - accuracy: 0.9290 - val_loss: 0.3185 - val_accuracy: 0.9222\n",
            "Epoch 6/30\n",
            "57/57 [==============================] - 1s 12ms/step - loss: 0.2939 - accuracy: 0.9287 - val_loss: 0.3192 - val_accuracy: 0.9222\n",
            "Epoch 7/30\n",
            "57/57 [==============================] - 1s 13ms/step - loss: 0.2931 - accuracy: 0.9285 - val_loss: 0.3201 - val_accuracy: 0.9222\n",
            "Epoch 8/30\n",
            "57/57 [==============================] - 1s 12ms/step - loss: 0.2925 - accuracy: 0.9293 - val_loss: 0.3197 - val_accuracy: 0.9222\n",
            "Epoch 9/30\n",
            "57/57 [==============================] - 1s 12ms/step - loss: 0.2921 - accuracy: 0.9297 - val_loss: 0.3205 - val_accuracy: 0.9222\n",
            "Epoch 10/30\n",
            "57/57 [==============================] - 1s 13ms/step - loss: 0.2915 - accuracy: 0.9297 - val_loss: 0.3204 - val_accuracy: 0.9217\n",
            "Epoch 11/30\n",
            "57/57 [==============================] - 1s 13ms/step - loss: 0.2914 - accuracy: 0.9290 - val_loss: 0.3205 - val_accuracy: 0.9211\n",
            "Epoch 12/30\n",
            "57/57 [==============================] - 1s 13ms/step - loss: 0.2911 - accuracy: 0.9306 - val_loss: 0.3202 - val_accuracy: 0.9217\n",
            "Epoch 13/30\n",
            "57/57 [==============================] - 1s 13ms/step - loss: 0.2912 - accuracy: 0.9296 - val_loss: 0.3209 - val_accuracy: 0.9222\n",
            "Epoch 14/30\n",
            "57/57 [==============================] - 1s 12ms/step - loss: 0.2909 - accuracy: 0.9290 - val_loss: 0.3204 - val_accuracy: 0.9228\n",
            "Epoch 15/30\n",
            "57/57 [==============================] - 1s 13ms/step - loss: 0.2907 - accuracy: 0.9303 - val_loss: 0.3206 - val_accuracy: 0.9228\n"
          ]
        },
        {
          "output_type": "execute_result",
          "data": {
            "text/plain": [
              "<keras.callbacks.History at 0x7f07ef8b9650>"
            ]
          },
          "metadata": {},
          "execution_count": 84
        }
      ]
    },
    {
      "cell_type": "code",
      "source": [
        "image_classifier.evaluate(images_normalized, c_train_full)"
      ],
      "metadata": {
        "colab": {
          "base_uri": "https://localhost:8080/"
        },
        "id": "e6BDJ2mXU5-1",
        "outputId": "7cf415aa-a55f-4a52-cbbe-0ed12d7a7143"
      },
      "execution_count": null,
      "outputs": [
        {
          "output_type": "stream",
          "name": "stdout",
          "text": [
            "1563/1563 [==============================] - 12s 8ms/step - loss: 4.3865 - accuracy: 0.9573\n"
          ]
        },
        {
          "output_type": "execute_result",
          "data": {
            "text/plain": [
              "[4.386488914489746, 0.9573400020599365]"
            ]
          },
          "metadata": {},
          "execution_count": 85
        }
      ]
    },
    {
      "cell_type": "code",
      "source": [
        "image_classifier.save_weights(\"image_classifier/image_classifier\")"
      ],
      "metadata": {
        "id": "UhQrycfLQXFc"
      },
      "execution_count": null,
      "outputs": []
    },
    {
      "cell_type": "code",
      "source": [
        "image_classifier(images_normalized[10001, :].numpy().reshape(1, 32, 32, 3))"
      ],
      "metadata": {
        "colab": {
          "base_uri": "https://localhost:8080/"
        },
        "id": "sQK_wAoXP0bQ",
        "outputId": "b5b4b8d7-5d05-4ec7-91a3-20c0d37e7eac"
      },
      "execution_count": null,
      "outputs": [
        {
          "output_type": "execute_result",
          "data": {
            "text/plain": [
              "<tf.Tensor: shape=(1, 10), dtype=float32, numpy=\n",
              "array([[0.07706565, 0.13732249, 0.51214194, 0.81049645, 0.23788972,\n",
              "        0.29260194, 0.99920964, 0.40492126, 0.14081003, 0.241903  ]],\n",
              "      dtype=float32)>"
            ]
          },
          "metadata": {},
          "execution_count": 97
        }
      ]
    },
    {
      "cell_type": "code",
      "source": [
        "preds = image_classifier.predict(x_noisy)\n"
      ],
      "metadata": {
        "colab": {
          "base_uri": "https://localhost:8080/"
        },
        "id": "_tA-T4SliZBI",
        "outputId": "4209d7ca-0f44-46a1-a2aa-7be05bbdcb3c"
      },
      "execution_count": null,
      "outputs": [
        {
          "output_type": "stream",
          "name": "stdout",
          "text": [
            "1250/1250 [==============================] - 8s 6ms/step\n"
          ]
        }
      ]
    },
    {
      "cell_type": "code",
      "source": [
        "probs = tf.nn.softmax(preds)"
      ],
      "metadata": {
        "id": "VFmbuEa4ZMN3"
      },
      "execution_count": null,
      "outputs": []
    },
    {
      "cell_type": "code",
      "source": [
        "labels = tf.argmax(probs, 1)"
      ],
      "metadata": {
        "id": "zU2SgFNLZetI"
      },
      "execution_count": null,
      "outputs": []
    },
    {
      "cell_type": "code",
      "source": [
        "labels.numpy()[:100]"
      ],
      "metadata": {
        "colab": {
          "base_uri": "https://localhost:8080/"
        },
        "id": "y_yr5VgrZpTq",
        "outputId": "502a16d2-7f28-4c75-87bf-d50e72d553cd"
      },
      "execution_count": null,
      "outputs": [
        {
          "output_type": "execute_result",
          "data": {
            "text/plain": [
              "array([8, 6, 6, 8, 8, 3, 4, 6, 0, 6, 0, 5, 6, 6, 5, 4, 8, 5, 2, 6, 0, 3,\n",
              "       1, 4, 0, 3, 0, 0, 7, 7, 9, 0, 6, 5, 6, 1, 8, 5, 9, 1, 7, 7, 8, 0,\n",
              "       2, 7, 4, 9, 2, 0, 0, 3, 6, 6, 0, 4, 9, 2, 6, 4, 5, 0, 4, 3, 0, 8,\n",
              "       3, 2, 8, 8, 3, 1, 5, 7, 1, 9, 4, 7, 9, 9, 1, 7, 3, 5, 7, 3, 3, 8,\n",
              "       4, 5, 1, 2, 9, 2, 7, 0, 8, 6, 8, 8])"
            ]
          },
          "metadata": {},
          "execution_count": 56
        }
      ]
    },
    {
      "cell_type": "code",
      "source": [
        "plt.hist(tf.argmax(c_train_full, 1))"
      ],
      "metadata": {
        "colab": {
          "base_uri": "https://localhost:8080/",
          "height": 338
        },
        "id": "kAdP0pQSXmWM",
        "outputId": "0193d95c-60a7-4841-cc9f-22bb06852d14"
      },
      "execution_count": null,
      "outputs": [
        {
          "output_type": "execute_result",
          "data": {
            "text/plain": [
              "(array([6072., 4927., 5064., 4835., 4743., 4949., 4445., 4505., 5157.,\n",
              "        5303.]),\n",
              " array([0. , 0.9, 1.8, 2.7, 3.6, 4.5, 5.4, 6.3, 7.2, 8.1, 9. ]),\n",
              " <a list of 10 Patch objects>)"
            ]
          },
          "metadata": {},
          "execution_count": 57
        },
        {
          "output_type": "display_data",
          "data": {
            "text/plain": [
              "<Figure size 432x288 with 1 Axes>"
            ],
            "image/png": "[encoded data removed]"
          },
          "metadata": {
            "needs_background": "light"
          }
        }
      ]
    },
    {
      "cell_type": "code",
      "source": [
        "classes = (\n",
        "\"airplane\",\n",
        "\"automobile\",\n",
        "\"bird\",\n",
        "\"cat\",\n",
        "\"deer\",\n",
        "\"dog\",\n",
        "\"frog\",\n",
        "\"horse\",\n",
        "\"ship\",\n",
        "\"truck\"\n",
        ")"
      ],
      "metadata": {
        "id": "_3zSz1YFdbvS"
      },
      "execution_count": null,
      "outputs": []
    },
    {
      "cell_type": "code",
      "source": [
        "# [ADD WEAKLY SUPERVISED LEARNING FEATURE TO MODEL I]\n",
        "\n",
        "# write your code here...\n",
        "\n",
        "def model_II(image):\n",
        "    '''\n",
        "    This function should takes in the image of dimension 32*32*3 as input and returns a label prediction\n",
        "    '''\n",
        "    # write your code here...\n",
        "    image_classifier.load_weights(\"image_classifier/image_classifier\")\n",
        "\n",
        "\n",
        "    pred = image_classifier(image.numpy().reshape(1, 32, 32, 3))\n",
        "    label = int(tf.argmax(pred, 1))\n",
        "\n",
        "    return label\n",
        "\n"
      ],
      "metadata": {
        "id": "LrPXZOydRdmq"
      },
      "execution_count": null,
      "outputs": []
    },
    {
      "cell_type": "code",
      "source": [
        "classes[model_II(x_noisy[1])]"
      ],
      "metadata": {
        "colab": {
          "base_uri": "https://localhost:8080/",
          "height": 36
        },
        "id": "UT7hwadxR2sB",
        "outputId": "cbcee9fe-9bb7-4a06-ed5f-57f539d81955"
      },
      "execution_count": null,
      "outputs": [
        {
          "output_type": "execute_result",
          "data": {
            "text/plain": [
              "'frog'"
            ],
            "application/vnd.google.colaboratory.intrinsic+json": {
              "type": "string"
            }
          },
          "metadata": {},
          "execution_count": 113
        }
      ]
    }
  ],
  "metadata": {
    "accelerator": "GPU",
    "colab": {
      "collapsed_sections": [],
      "provenance": []
    },
    "gpuClass": "standard",
    "kernelspec": {
      "display_name": "Python 3.9.7 ('base')",
      "language": "python",
      "name": "python3"
    },
    "language_info": {
      "codemirror_mode": {
        "name": "ipython",
        "version": 3
      },
      "file_extension": ".py",
      "mimetype": "text/x-python",
      "name": "python",
      "nbconvert_exporter": "python",
      "pygments_lexer": "ipython3",
      "version": "3.9.7"
    },
    "vscode": {
      "interpreter": {
        "hash": "b68576675d14688f13df6495c027427b1fa86cc0b514974591414d368704a84c"
      }
    }
  },
  "nbformat": 4,
  "nbformat_minor": 0
}