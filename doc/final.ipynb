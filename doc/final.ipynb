{
  "cells": [
    {
      "cell_type": "code",
      "execution_count": null,
      "metadata": {
        "colab": {
          "base_uri": "https://localhost:8080/"
        },
        "id": "dbYcZfqOvHmW",
        "outputId": "18e4c1a3-3dcc-4678-80c2-03b99e2f548e"
      },
      "outputs": [
        {
          "output_type": "stream",
          "name": "stdout",
          "text": [
            "Drive already mounted at /content/drive; to attempt to forcibly remount, call drive.mount(\"/content/drive\", force_remount=True).\n"
          ]
        }
      ],
      "source": [
        "from google.colab import drive\n",
        "drive.mount('/content/drive')"
      ]
    },
    {
      "cell_type": "code",
      "execution_count": null,
      "metadata": {
        "id": "HwS_zCs6vF16"
      },
      "outputs": [],
      "source": [
        "import numpy as np\n",
        "import pandas as pd\n",
        "import matplotlib.pyplot as plt\n",
        "import tensorflow as tf\n",
        "import cv2\n",
        "from sklearn.model_selection import train_test_split\n",
        "\n",
        "from zipfile import ZipFile\n",
        "import os\n",
        "import sys\n",
        "\n",
        "# Load modules from the lib directory\n",
        "sys.path.insert(0, \"../lib\")\n",
        "from resnet import load_resnet, ResNet18\n",
        "from lossFunctions import get_custom_cross_entropy, l1_loss"
      ]
    },
    {
      "cell_type": "code",
      "execution_count": null,
      "metadata": {
        "id": "-cW8f1zdv0MH"
      },
      "outputs": [],
      "source": [
        "if not os.path.exists(\"./drive\"):\n",
        "    drive.mount('/content/drive')\n",
        "\n",
        "if not os.path.exists(\"../data\"):\n",
        "    os.mkdir(\"../data\")\n",
        "\n",
        "# loading the temp.zip and creating a zip object\n",
        "with ZipFile(\"./drive/MyDrive/train_data.zip\", 'r') as zip_object:\n",
        "\n",
        "    # Extracting all the members of the zip \n",
        "    # into a specific location.\n",
        "    zip_object.extractall(path=\"../data\")\n"
      ]
    },
    {
      "cell_type": "code",
      "execution_count": null,
      "metadata": {
        "id": "pUYbQqMWvF19"
      },
      "outputs": [],
      "source": [
        "class LabelCleaner(tf.keras.Model):\n",
        "\n",
        "    def __init__(self, CNN: tf.keras.Model):\n",
        "        super(LabelCleaner, self).__init__()\n",
        "\n",
        "        # Base CNN model\n",
        "        self.CNN = CNN\n",
        "        \n",
        "        # Fully connected dense layers\n",
        "        self.fc_1 = tf.keras.layers.Dense(units = 20, use_bias=False)\n",
        "        self.fc_2 = tf.keras.layers.Dense(units = 256)\n",
        "        self.fc_3 = tf.keras.layers.Dense(units = 256, use_bias=False, activation = \"relu\")\n",
        "        self.fc_4 = tf.keras.layers.Dense(units = 10, use_bias=False,)\n",
        "        \n",
        "        # Batch Normalization layers\n",
        "        self.bn_1 = tf.keras.layers.BatchNormalization()\n",
        "        self.bn_2 = tf.keras.layers.BatchNormalization()\n",
        "        self.bn_3 = tf.keras.layers.BatchNormalization()\n",
        "\n",
        "    def call(self, inputs):\n",
        "        img, y = inputs\n",
        "\n",
        "        # Get the CNN output\n",
        "        x = self.CNN(img)\n",
        "\n",
        "        # Embed the output of the CNN to the noisy labels\n",
        "        x = tf.concat([x, y], axis = 1)\n",
        "        \n",
        "        x = self.fc_1(x)    # Linear followed by batch normalization\n",
        "        x = self.bn_1(x)\n",
        "\n",
        "        x = self.fc_2(x)    # Linear followed by batch normalization\n",
        "        x = self.bn_2(x)\n",
        "\n",
        "        x = self.fc_3(x)    # ReLU\n",
        "\n",
        "        x = self.fc_4(x)    # Linear followed by batch normalization\n",
        "        x = self.bn_3(x)\n",
        "\n",
        "        x = x + y           # Residual connection\n",
        "        x = tf.minimum(x, 1)\n",
        "        x = tf.maximum(x, 0)\n",
        "\n",
        "        return x"
      ]
    },
    {
      "cell_type": "code",
      "execution_count": null,
      "metadata": {
        "id": "fBZhbRv0vF1-"
      },
      "outputs": [],
      "source": [
        "# [DO NOT MODIFY THIS CELL]\n",
        "\n",
        "n_images: int = 50_000\n",
        "n_noisy: int = 40_000\n",
        "n_clean: int = n_images - n_noisy\n",
        "\n",
        "images : np.ndarray = np.empty((n_images, 32, 32, 3), dtype=np.float32)\n",
        "\n",
        "# Load the data\n",
        "for i in range(n_images):\n",
        "    image_path = f\"../data/images/{i+1:05d}.png\"\n",
        "    images[i,:,:,:] = cv2.cvtColor(cv2.imread(image_path),cv2.COLOR_BGR2RGB)\n",
        "\n",
        "# load the labels\n",
        "clean_labels = np.genfromtxt('../data/clean_labels.csv', delimiter=',', dtype=\"int8\")\n",
        "noisy_labels = np.genfromtxt('../data/noisy_labels.csv', delimiter=',', dtype=\"int8\")"
      ]
    },
    {
      "cell_type": "code",
      "execution_count": null,
      "metadata": {
        "id": "F0gmVFrQ2F8I"
      },
      "outputs": [],
      "source": [
        "cnn_1 = load_resnet(shape = (32, 32, 3))\n",
        "cnn_1.trainable = False"
      ]
    },
    {
      "cell_type": "code",
      "execution_count": null,
      "metadata": {
        "id": "gBZBwGnHvF1-"
      },
      "outputs": [],
      "source": [
        "test_ratio: float = 0.2\n",
        "train_size: float = n_images - (n_clean * test_ratio)\n",
        "clean_noisy_ratio: float = 1 / 9\n",
        "train_clean_size: int = int(np.floor(train_size * clean_noisy_ratio))\n",
        "val_clean_size: int = int(np.floor((n_clean * (1 - test_ratio)) - train_clean_size))\n",
        "test_clean_size: int = n_clean - train_clean_size - val_clean_size\n",
        "\n",
        "IMG_SIZE: int = 32\n",
        "IMG_SHAPE: tuple = (IMG_SIZE, IMG_SIZE, 3)\n",
        "\n",
        "BATCH_SIZE: int = 128"
      ]
    },
    {
      "cell_type": "code",
      "execution_count": null,
      "metadata": {
        "id": "2vs0t5yvvF1-"
      },
      "outputs": [],
      "source": [
        "images_normalized = tf.cast(images, dtype = tf.float32) / 255.0\n",
        "clean_labels_one_hot = tf.one_hot(clean_labels, depth = 10)\n",
        "noisy_labels_one_hot = tf.one_hot(noisy_labels, depth = 10)"
      ]
    },
    {
      "cell_type": "code",
      "execution_count": null,
      "metadata": {
        "id": "BsX4zG-7vF1_"
      },
      "outputs": [],
      "source": [
        "x_clean = images_normalized[:n_clean]\n",
        "y_clean = clean_labels_one_hot\n",
        "x_noisy = images_normalized[n_clean:]\n",
        "y_noisy = noisy_labels_one_hot"
      ]
    },
    {
      "cell_type": "code",
      "execution_count": null,
      "metadata": {
        "id": "kf2HmkYKvF2B"
      },
      "outputs": [],
      "source": [
        "def build_base_cnn(cnn:tf.keras.Model) -> tf.keras.Model:\n",
        "    \"\"\"\n",
        "    Build the base CNN model.\n",
        "\n",
        "    `return`\n",
        "        The base CNN model.\n",
        "    \"\"\"\n",
        "    model = tf.keras.models.Sequential([\n",
        "        cnn,\n",
        "        tf.keras.layers.Flatten(),\n",
        "        tf.keras.layers.Dense(10)\n",
        "    ])\n",
        "    return model"
      ]
    },
    {
      "cell_type": "code",
      "source": [
        "x_clean_train_full, x_clean_test, y_clean_train_full, y_clean_test = train_test_split(x_clean.numpy(), y_clean.numpy(), test_size = 0.1) "
      ],
      "metadata": {
        "id": "pLBnnLQtH0qY"
      },
      "execution_count": null,
      "outputs": []
    },
    {
      "cell_type": "code",
      "source": [
        "x_clean_train, x_clean_val, y_clean_train, y_clean_val = train_test_split(x_clean_train_full, y_clean_train_full, test_size = 0.2) "
      ],
      "metadata": {
        "id": "UE_cvg3AJC3m"
      },
      "execution_count": null,
      "outputs": []
    },
    {
      "cell_type": "code",
      "source": [
        "x_clean_train_size = len(x_clean_train)\n",
        "x_clean_val_size = len(x_clean_val)\n",
        "x_clean_test_size = len(x_clean_test)"
      ],
      "metadata": {
        "id": "ByKxNdowANkf"
      },
      "execution_count": null,
      "outputs": []
    },
    {
      "cell_type": "code",
      "execution_count": null,
      "metadata": {
        "id": "Hv0U9JSdLDjt"
      },
      "outputs": [],
      "source": [
        "V = tf.data.Dataset.from_tensor_slices((\n",
        "    (\n",
        "        x_clean_train_full,\n",
        "        noisy_labels_one_hot[:len(y_clean_train_full)]\n",
        "    ),\n",
        "    y_clean_train_full\n",
        "))\n",
        "V_test = tf.data.Dataset.from_tensor_slices((\n",
        "    (\n",
        "        x_clean_test,\n",
        "        noisy_labels_one_hot[x_clean_train_size + x_clean_val_size:10000]\n",
        "    ),\n",
        "    y_clean_test\n",
        ")).batch(batch_size = BATCH_SIZE)"
      ]
    },
    {
      "cell_type": "code",
      "execution_count": null,
      "metadata": {
        "id": "EYzZqgKmvF2B"
      },
      "outputs": [],
      "source": [
        "V_train = V.take(x_clean_train_size).batch(batch_size = BATCH_SIZE)\n",
        "V_val = V.skip(x_clean_train_size).take(x_clean_val_size).batch(batch_size = BATCH_SIZE)"
      ]
    },
    {
      "cell_type": "code",
      "source": [
        "del V"
      ],
      "metadata": {
        "id": "MzzBYUlQTbI-"
      },
      "execution_count": null,
      "outputs": []
    },
    {
      "cell_type": "code",
      "source": [
        "len(V_train), len(V_val), len(V_test)"
      ],
      "metadata": {
        "colab": {
          "base_uri": "https://localhost:8080/"
        },
        "id": "aJHH6sViAi90",
        "outputId": "cd74952b-714a-41fe-8390-429070c29c5b"
      },
      "execution_count": null,
      "outputs": [
        {
          "output_type": "execute_result",
          "data": {
            "text/plain": [
              "(57, 15, 8)"
            ]
          },
          "metadata": {},
          "execution_count": 20
        }
      ]
    },
    {
      "cell_type": "code",
      "source": [
        "aug = tf.keras.preprocessing.image.ImageDataGenerator(horizontal_flip=True, width_shift_range=0.05,\n",
        "                             height_shift_range=0.05)\n",
        "aug.fit(x_clean_train)"
      ],
      "metadata": {
        "id": "ACbLzTJ1G4rR"
      },
      "execution_count": null,
      "outputs": []
    },
    {
      "cell_type": "code",
      "source": [
        "es = tf.keras.callbacks.EarlyStopping(patience = 15, restore_best_weights = True)"
      ],
      "metadata": {
        "id": "tSArOgqgHld1"
      },
      "execution_count": null,
      "outputs": []
    },
    {
      "cell_type": "code",
      "source": [
        "# Model 1\n",
        "cnn_1 = tf.keras.Sequential([ \n",
        "    tf.keras.layers.Conv2D(filters=32, kernel_size=(3,3), \n",
        "                        strides=1, padding='same',\n",
        "                        input_shape=(32,32,3), use_bias=True), \n",
        "    # keras.layers.BatchNormalization(), \n",
        "    tf.keras.layers.Activation('relu'), \n",
        "    tf.keras.layers.MaxPool2D(pool_size=(2,2), strides=2, padding='valid'), \n",
        "    tf.keras.layers.Dropout(0.2),\n",
        "    \n",
        "    tf.keras.layers.Conv2D(filters=64, kernel_size=(3,3), \n",
        "                       strides=1, padding='same', use_bias=True), \n",
        "    # keras.layers.BatchNormalization(), \n",
        "    tf.keras.layers.Activation('relu'), \n",
        "    tf.keras.layers.MaxPool2D(pool_size=(2,2), strides=2, padding='valid'), \n",
        "    tf.keras.layers.Dropout(0.2),\n",
        "    \n",
        "    tf.keras.layers.Conv2D(filters=128, kernel_size=(3,3), \n",
        "                       strides=1, padding='same', use_bias=True), \n",
        "    tf.keras.layers.Activation('relu'), \n",
        "    # tf.keras.layers.MaxPool2D(pool_size=(2,2), strides=2, padding='valid'), \n",
        "    # tf.keras.layers.Dropout(0.2), \n",
        "    tf.keras.layers.GlobalAvgPool2D(),\n",
        "\n",
        "    tf.keras.layers.Flatten(), \n",
        "    tf.keras.layers.Dense(64, use_bias=False), \n",
        "    tf.keras.layers.BatchNormalization(),\n",
        "    tf.keras.layers.Activation('relu'), \n",
        "    tf.keras.layers.Dense(10, activation='softmax') \n",
        "]) "
      ],
      "metadata": {
        "id": "x-CuCQcYJtS0"
      },
      "execution_count": null,
      "outputs": []
    },
    {
      "cell_type": "code",
      "source": [
        "cnn_1.compile(\n",
        "    loss = tf.keras.losses.CategoricalCrossentropy(),\n",
        "    optimizer = tf.keras.optimizers.Adam(learning_rate = 0.001),\n",
        "    metrics = [\"accuracy\"]\n",
        ")"
      ],
      "metadata": {
        "id": "JKu6gdrQGbCv"
      },
      "execution_count": null,
      "outputs": []
    },
    {
      "cell_type": "code",
      "source": [
        "STEPS = len(x_clean_train) / 256"
      ],
      "metadata": {
        "id": "MIpd070UNG_X"
      },
      "execution_count": null,
      "outputs": []
    },
    {
      "cell_type": "code",
      "source": [
        "cnn_1.fit(\n",
        "    aug.flow(x_clean_train, y_clean_train, batch_size = 256),\n",
        "    steps_per_epoch=STEPS,\n",
        "    batch_size = 256,\n",
        "    epochs = 100,\n",
        "    validation_data = (x_clean_val, y_clean_val),\n",
        "    callbacks = [es]\n",
        ")"
      ],
      "metadata": {
        "colab": {
          "base_uri": "https://localhost:8080/"
        },
        "id": "1se37LA_Gq-l",
        "outputId": "7e3898ca-2878-45ce-d957-71ad0d30c661"
      },
      "execution_count": null,
      "outputs": [
        {
          "output_type": "stream",
          "name": "stdout",
          "text": [
            "Epoch 1/100\n",
            "28/28 [==============================] - 12s 128ms/step - loss: 2.0466 - accuracy: 0.2549 - val_loss: 2.2651 - val_accuracy: 0.1044\n",
            "Epoch 2/100\n",
            "28/28 [==============================] - 3s 119ms/step - loss: 1.8072 - accuracy: 0.3401 - val_loss: 2.2202 - val_accuracy: 0.2611\n",
            "Epoch 3/100\n",
            "28/28 [==============================] - 3s 123ms/step - loss: 1.6811 - accuracy: 0.3832 - val_loss: 2.1917 - val_accuracy: 0.2439\n",
            "Epoch 4/100\n",
            "28/28 [==============================] - 3s 117ms/step - loss: 1.5968 - accuracy: 0.4131 - val_loss: 2.1456 - val_accuracy: 0.2689\n",
            "Epoch 5/100\n",
            "28/28 [==============================] - 3s 118ms/step - loss: 1.5397 - accuracy: 0.4367 - val_loss: 2.0894 - val_accuracy: 0.3344\n",
            "Epoch 6/100\n",
            "28/28 [==============================] - 3s 121ms/step - loss: 1.4651 - accuracy: 0.4642 - val_loss: 2.0440 - val_accuracy: 0.4561\n",
            "Epoch 7/100\n",
            "28/28 [==============================] - 3s 119ms/step - loss: 1.4294 - accuracy: 0.4821 - val_loss: 1.9829 - val_accuracy: 0.4483\n",
            "Epoch 8/100\n",
            "28/28 [==============================] - 3s 119ms/step - loss: 1.3876 - accuracy: 0.4968 - val_loss: 1.9163 - val_accuracy: 0.4739\n",
            "Epoch 9/100\n",
            "28/28 [==============================] - 4s 147ms/step - loss: 1.3458 - accuracy: 0.5126 - val_loss: 1.8102 - val_accuracy: 0.4761\n",
            "Epoch 10/100\n",
            "28/28 [==============================] - 3s 119ms/step - loss: 1.3179 - accuracy: 0.5244 - val_loss: 1.7546 - val_accuracy: 0.4956\n",
            "Epoch 11/100\n",
            "28/28 [==============================] - 3s 118ms/step - loss: 1.2788 - accuracy: 0.5344 - val_loss: 1.6823 - val_accuracy: 0.4989\n",
            "Epoch 12/100\n",
            "28/28 [==============================] - 4s 134ms/step - loss: 1.2605 - accuracy: 0.5429 - val_loss: 1.6152 - val_accuracy: 0.5556\n",
            "Epoch 13/100\n",
            "28/28 [==============================] - 3s 120ms/step - loss: 1.2504 - accuracy: 0.5400 - val_loss: 1.6115 - val_accuracy: 0.4339\n",
            "Epoch 14/100\n",
            "28/28 [==============================] - 3s 123ms/step - loss: 1.2288 - accuracy: 0.5569 - val_loss: 1.4954 - val_accuracy: 0.5133\n",
            "Epoch 15/100\n",
            "28/28 [==============================] - 3s 124ms/step - loss: 1.1839 - accuracy: 0.5754 - val_loss: 1.5935 - val_accuracy: 0.4011\n",
            "Epoch 16/100\n",
            "28/28 [==============================] - 3s 119ms/step - loss: 1.1755 - accuracy: 0.5708 - val_loss: 1.3252 - val_accuracy: 0.5744\n",
            "Epoch 17/100\n",
            "28/28 [==============================] - 3s 116ms/step - loss: 1.1613 - accuracy: 0.5771 - val_loss: 1.3936 - val_accuracy: 0.5033\n",
            "Epoch 18/100\n",
            "28/28 [==============================] - 3s 123ms/step - loss: 1.1369 - accuracy: 0.5950 - val_loss: 1.3021 - val_accuracy: 0.5572\n",
            "Epoch 19/100\n",
            "28/28 [==============================] - 3s 119ms/step - loss: 1.1153 - accuracy: 0.5974 - val_loss: 1.3096 - val_accuracy: 0.5367\n",
            "Epoch 20/100\n",
            "28/28 [==============================] - 3s 115ms/step - loss: 1.0977 - accuracy: 0.6057 - val_loss: 1.2468 - val_accuracy: 0.5444\n",
            "Epoch 21/100\n",
            "28/28 [==============================] - 3s 115ms/step - loss: 1.0976 - accuracy: 0.6075 - val_loss: 1.2762 - val_accuracy: 0.5306\n",
            "Epoch 22/100\n",
            "28/28 [==============================] - 3s 116ms/step - loss: 1.0481 - accuracy: 0.6228 - val_loss: 1.1226 - val_accuracy: 0.5889\n",
            "Epoch 23/100\n",
            "28/28 [==============================] - 3s 122ms/step - loss: 1.0690 - accuracy: 0.6114 - val_loss: 1.5064 - val_accuracy: 0.4706\n",
            "Epoch 24/100\n",
            "28/28 [==============================] - 3s 117ms/step - loss: 1.0560 - accuracy: 0.6201 - val_loss: 1.3689 - val_accuracy: 0.5194\n",
            "Epoch 25/100\n",
            "28/28 [==============================] - 3s 121ms/step - loss: 1.0483 - accuracy: 0.6212 - val_loss: 1.4622 - val_accuracy: 0.5144\n",
            "Epoch 26/100\n",
            "28/28 [==============================] - 4s 144ms/step - loss: 1.0152 - accuracy: 0.6338 - val_loss: 1.1723 - val_accuracy: 0.5856\n",
            "Epoch 27/100\n",
            "28/28 [==============================] - 3s 120ms/step - loss: 0.9990 - accuracy: 0.6435 - val_loss: 1.0816 - val_accuracy: 0.6106\n",
            "Epoch 28/100\n",
            "28/28 [==============================] - 3s 119ms/step - loss: 1.0058 - accuracy: 0.6397 - val_loss: 1.1313 - val_accuracy: 0.5889\n",
            "Epoch 29/100\n",
            "28/28 [==============================] - 3s 116ms/step - loss: 0.9820 - accuracy: 0.6493 - val_loss: 1.0700 - val_accuracy: 0.6339\n",
            "Epoch 30/100\n",
            "28/28 [==============================] - 3s 122ms/step - loss: 0.9693 - accuracy: 0.6475 - val_loss: 1.2139 - val_accuracy: 0.5756\n",
            "Epoch 31/100\n",
            "28/28 [==============================] - 3s 117ms/step - loss: 0.9489 - accuracy: 0.6582 - val_loss: 1.1387 - val_accuracy: 0.5967\n",
            "Epoch 32/100\n",
            "28/28 [==============================] - 4s 124ms/step - loss: 0.9641 - accuracy: 0.6522 - val_loss: 1.3052 - val_accuracy: 0.5461\n",
            "Epoch 33/100\n",
            "28/28 [==============================] - 4s 128ms/step - loss: 0.9393 - accuracy: 0.6690 - val_loss: 1.0893 - val_accuracy: 0.6100\n",
            "Epoch 34/100\n",
            "28/28 [==============================] - 3s 120ms/step - loss: 0.9239 - accuracy: 0.6608 - val_loss: 1.2881 - val_accuracy: 0.5500\n",
            "Epoch 35/100\n",
            "28/28 [==============================] - 3s 123ms/step - loss: 0.9307 - accuracy: 0.6587 - val_loss: 1.2402 - val_accuracy: 0.5850\n",
            "Epoch 36/100\n",
            "28/28 [==============================] - 3s 122ms/step - loss: 0.9132 - accuracy: 0.6762 - val_loss: 1.0113 - val_accuracy: 0.6489\n",
            "Epoch 37/100\n",
            "28/28 [==============================] - 5s 192ms/step - loss: 0.8928 - accuracy: 0.6729 - val_loss: 1.1393 - val_accuracy: 0.6061\n",
            "Epoch 38/100\n",
            "28/28 [==============================] - 7s 234ms/step - loss: 0.8831 - accuracy: 0.6824 - val_loss: 1.2190 - val_accuracy: 0.5739\n",
            "Epoch 39/100\n",
            "28/28 [==============================] - 5s 164ms/step - loss: 0.8789 - accuracy: 0.6837 - val_loss: 1.1317 - val_accuracy: 0.6094\n",
            "Epoch 40/100\n",
            "28/28 [==============================] - 4s 128ms/step - loss: 0.8817 - accuracy: 0.6824 - val_loss: 1.2047 - val_accuracy: 0.5944\n",
            "Epoch 41/100\n",
            "28/28 [==============================] - 3s 118ms/step - loss: 0.8690 - accuracy: 0.6833 - val_loss: 1.1331 - val_accuracy: 0.6250\n",
            "Epoch 42/100\n",
            "28/28 [==============================] - 3s 121ms/step - loss: 0.8563 - accuracy: 0.6956 - val_loss: 1.4136 - val_accuracy: 0.5539\n",
            "Epoch 43/100\n",
            "28/28 [==============================] - 3s 120ms/step - loss: 0.8483 - accuracy: 0.6981 - val_loss: 1.0693 - val_accuracy: 0.6444\n",
            "Epoch 44/100\n",
            "28/28 [==============================] - 4s 142ms/step - loss: 0.8483 - accuracy: 0.6976 - val_loss: 1.1407 - val_accuracy: 0.6072\n",
            "Epoch 45/100\n",
            "28/28 [==============================] - 3s 116ms/step - loss: 0.8362 - accuracy: 0.6965 - val_loss: 1.1262 - val_accuracy: 0.6228\n",
            "Epoch 46/100\n",
            "28/28 [==============================] - 3s 119ms/step - loss: 0.8299 - accuracy: 0.6975 - val_loss: 1.1494 - val_accuracy: 0.6106\n",
            "Epoch 47/100\n",
            "28/28 [==============================] - 3s 119ms/step - loss: 0.7994 - accuracy: 0.7142 - val_loss: 1.2621 - val_accuracy: 0.5844\n",
            "Epoch 48/100\n",
            "28/28 [==============================] - 3s 122ms/step - loss: 0.8092 - accuracy: 0.7103 - val_loss: 1.1052 - val_accuracy: 0.6172\n",
            "Epoch 49/100\n",
            "28/28 [==============================] - 3s 123ms/step - loss: 0.8131 - accuracy: 0.7015 - val_loss: 1.1873 - val_accuracy: 0.6183\n",
            "Epoch 50/100\n",
            "28/28 [==============================] - 3s 120ms/step - loss: 0.7826 - accuracy: 0.7150 - val_loss: 0.9592 - val_accuracy: 0.6650\n",
            "Epoch 51/100\n",
            "28/28 [==============================] - 3s 117ms/step - loss: 0.7741 - accuracy: 0.7243 - val_loss: 1.2628 - val_accuracy: 0.6100\n",
            "Epoch 52/100\n",
            "28/28 [==============================] - 3s 117ms/step - loss: 0.7629 - accuracy: 0.7201 - val_loss: 1.0054 - val_accuracy: 0.6550\n",
            "Epoch 53/100\n",
            "28/28 [==============================] - 3s 116ms/step - loss: 0.7757 - accuracy: 0.7181 - val_loss: 0.9775 - val_accuracy: 0.6778\n",
            "Epoch 54/100\n",
            "28/28 [==============================] - 3s 117ms/step - loss: 0.7587 - accuracy: 0.7258 - val_loss: 1.1569 - val_accuracy: 0.6244\n",
            "Epoch 55/100\n",
            "28/28 [==============================] - 3s 117ms/step - loss: 0.7328 - accuracy: 0.7404 - val_loss: 0.9553 - val_accuracy: 0.6650\n",
            "Epoch 56/100\n",
            "28/28 [==============================] - 3s 115ms/step - loss: 0.7349 - accuracy: 0.7337 - val_loss: 1.0668 - val_accuracy: 0.6578\n",
            "Epoch 57/100\n",
            "28/28 [==============================] - 3s 118ms/step - loss: 0.7605 - accuracy: 0.7236 - val_loss: 1.0653 - val_accuracy: 0.6539\n",
            "Epoch 58/100\n",
            "28/28 [==============================] - 3s 117ms/step - loss: 0.7296 - accuracy: 0.7372 - val_loss: 1.0923 - val_accuracy: 0.6350\n",
            "Epoch 59/100\n",
            "28/28 [==============================] - 3s 114ms/step - loss: 0.7190 - accuracy: 0.7400 - val_loss: 0.9657 - val_accuracy: 0.6856\n",
            "Epoch 60/100\n",
            "28/28 [==============================] - 3s 117ms/step - loss: 0.7183 - accuracy: 0.7393 - val_loss: 1.0163 - val_accuracy: 0.6622\n",
            "Epoch 61/100\n",
            "28/28 [==============================] - 3s 118ms/step - loss: 0.7212 - accuracy: 0.7431 - val_loss: 1.0060 - val_accuracy: 0.6622\n",
            "Epoch 62/100\n",
            "28/28 [==============================] - 3s 118ms/step - loss: 0.7111 - accuracy: 0.7421 - val_loss: 1.0199 - val_accuracy: 0.6667\n",
            "Epoch 63/100\n",
            "28/28 [==============================] - 3s 121ms/step - loss: 0.7013 - accuracy: 0.7511 - val_loss: 1.1443 - val_accuracy: 0.6561\n",
            "Epoch 64/100\n",
            "28/28 [==============================] - 3s 118ms/step - loss: 0.7097 - accuracy: 0.7421 - val_loss: 0.9806 - val_accuracy: 0.6689\n",
            "Epoch 65/100\n",
            "28/28 [==============================] - 3s 121ms/step - loss: 0.6958 - accuracy: 0.7490 - val_loss: 0.9421 - val_accuracy: 0.6689\n",
            "Epoch 66/100\n",
            "28/28 [==============================] - 3s 117ms/step - loss: 0.6909 - accuracy: 0.7533 - val_loss: 0.9819 - val_accuracy: 0.6639\n",
            "Epoch 67/100\n",
            "28/28 [==============================] - 4s 126ms/step - loss: 0.6682 - accuracy: 0.7628 - val_loss: 0.9881 - val_accuracy: 0.6822\n",
            "Epoch 68/100\n",
            "28/28 [==============================] - 3s 116ms/step - loss: 0.6513 - accuracy: 0.7661 - val_loss: 1.0286 - val_accuracy: 0.6700\n",
            "Epoch 69/100\n",
            "28/28 [==============================] - 3s 116ms/step - loss: 0.6523 - accuracy: 0.7676 - val_loss: 0.9719 - val_accuracy: 0.6750\n",
            "Epoch 70/100\n",
            "28/28 [==============================] - 4s 127ms/step - loss: 0.6649 - accuracy: 0.7603 - val_loss: 1.1564 - val_accuracy: 0.6283\n",
            "Epoch 71/100\n",
            "28/28 [==============================] - 3s 118ms/step - loss: 0.6424 - accuracy: 0.7718 - val_loss: 1.1233 - val_accuracy: 0.6322\n",
            "Epoch 72/100\n",
            "28/28 [==============================] - 3s 119ms/step - loss: 0.6731 - accuracy: 0.7571 - val_loss: 0.9598 - val_accuracy: 0.6750\n",
            "Epoch 73/100\n",
            "28/28 [==============================] - 3s 119ms/step - loss: 0.6651 - accuracy: 0.7631 - val_loss: 1.0365 - val_accuracy: 0.6639\n",
            "Epoch 74/100\n",
            "28/28 [==============================] - 3s 116ms/step - loss: 0.6462 - accuracy: 0.7693 - val_loss: 1.0830 - val_accuracy: 0.6628\n",
            "Epoch 75/100\n",
            "28/28 [==============================] - 3s 121ms/step - loss: 0.6527 - accuracy: 0.7613 - val_loss: 1.1137 - val_accuracy: 0.6422\n",
            "Epoch 76/100\n",
            "28/28 [==============================] - 3s 122ms/step - loss: 0.6194 - accuracy: 0.7799 - val_loss: 1.0859 - val_accuracy: 0.6617\n",
            "Epoch 77/100\n",
            "28/28 [==============================] - 4s 132ms/step - loss: 0.6218 - accuracy: 0.7774 - val_loss: 0.9812 - val_accuracy: 0.6817\n",
            "Epoch 78/100\n",
            "28/28 [==============================] - 3s 116ms/step - loss: 0.6128 - accuracy: 0.7794 - val_loss: 1.0355 - val_accuracy: 0.6694\n",
            "Epoch 79/100\n",
            "28/28 [==============================] - 3s 116ms/step - loss: 0.6048 - accuracy: 0.7829 - val_loss: 0.9342 - val_accuracy: 0.6889\n",
            "Epoch 80/100\n",
            "28/28 [==============================] - 3s 113ms/step - loss: 0.6137 - accuracy: 0.7800 - val_loss: 1.0185 - val_accuracy: 0.6744\n",
            "Epoch 81/100\n",
            "28/28 [==============================] - 3s 113ms/step - loss: 0.5937 - accuracy: 0.7928 - val_loss: 1.0346 - val_accuracy: 0.6728\n",
            "Epoch 82/100\n",
            "28/28 [==============================] - 3s 117ms/step - loss: 0.5917 - accuracy: 0.7889 - val_loss: 1.0062 - val_accuracy: 0.6689\n",
            "Epoch 83/100\n",
            "28/28 [==============================] - 3s 114ms/step - loss: 0.6032 - accuracy: 0.7774 - val_loss: 1.0095 - val_accuracy: 0.6800\n",
            "Epoch 84/100\n",
            "28/28 [==============================] - 3s 115ms/step - loss: 0.5853 - accuracy: 0.7921 - val_loss: 0.9836 - val_accuracy: 0.6839\n",
            "Epoch 85/100\n",
            "28/28 [==============================] - 3s 119ms/step - loss: 0.5962 - accuracy: 0.7901 - val_loss: 0.9766 - val_accuracy: 0.6839\n",
            "Epoch 86/100\n",
            "28/28 [==============================] - 3s 116ms/step - loss: 0.5771 - accuracy: 0.7943 - val_loss: 0.9823 - val_accuracy: 0.7039\n",
            "Epoch 87/100\n",
            "28/28 [==============================] - 3s 115ms/step - loss: 0.5608 - accuracy: 0.8043 - val_loss: 1.0908 - val_accuracy: 0.6572\n",
            "Epoch 88/100\n",
            "28/28 [==============================] - 3s 118ms/step - loss: 0.5736 - accuracy: 0.7933 - val_loss: 0.9533 - val_accuracy: 0.6894\n",
            "Epoch 89/100\n",
            "28/28 [==============================] - 3s 118ms/step - loss: 0.5709 - accuracy: 0.7987 - val_loss: 1.0478 - val_accuracy: 0.6661\n",
            "Epoch 90/100\n",
            "28/28 [==============================] - 3s 119ms/step - loss: 0.5887 - accuracy: 0.7886 - val_loss: 1.1126 - val_accuracy: 0.6561\n",
            "Epoch 91/100\n",
            "28/28 [==============================] - 3s 115ms/step - loss: 0.5677 - accuracy: 0.7953 - val_loss: 1.0089 - val_accuracy: 0.6856\n",
            "Epoch 92/100\n",
            "28/28 [==============================] - 3s 115ms/step - loss: 0.5554 - accuracy: 0.7981 - val_loss: 0.8904 - val_accuracy: 0.7117\n",
            "Epoch 93/100\n",
            "28/28 [==============================] - 3s 118ms/step - loss: 0.5469 - accuracy: 0.8031 - val_loss: 0.9670 - val_accuracy: 0.6950\n",
            "Epoch 94/100\n",
            "28/28 [==============================] - 3s 117ms/step - loss: 0.5432 - accuracy: 0.8074 - val_loss: 1.0413 - val_accuracy: 0.6956\n",
            "Epoch 95/100\n",
            "28/28 [==============================] - 3s 116ms/step - loss: 0.5629 - accuracy: 0.7982 - val_loss: 1.0424 - val_accuracy: 0.6811\n",
            "Epoch 96/100\n",
            "28/28 [==============================] - 3s 114ms/step - loss: 0.5364 - accuracy: 0.8057 - val_loss: 0.9953 - val_accuracy: 0.7006\n",
            "Epoch 97/100\n",
            "28/28 [==============================] - 3s 115ms/step - loss: 0.5317 - accuracy: 0.8094 - val_loss: 1.0353 - val_accuracy: 0.6822\n",
            "Epoch 98/100\n",
            "28/28 [==============================] - 3s 115ms/step - loss: 0.5305 - accuracy: 0.8143 - val_loss: 1.0620 - val_accuracy: 0.6783\n",
            "Epoch 99/100\n",
            "28/28 [==============================] - 3s 119ms/step - loss: 0.5373 - accuracy: 0.8071 - val_loss: 0.9863 - val_accuracy: 0.6961\n",
            "Epoch 100/100\n",
            "28/28 [==============================] - 3s 123ms/step - loss: 0.5235 - accuracy: 0.8096 - val_loss: 0.9980 - val_accuracy: 0.6861\n"
          ]
        },
        {
          "output_type": "execute_result",
          "data": {
            "text/plain": [
              "<keras.callbacks.History at 0x7f91504ae790>"
            ]
          },
          "metadata": {},
          "execution_count": 20
        }
      ]
    },
    {
      "cell_type": "code",
      "source": [
        "cnn_1.evaluate(x_clean_test, y_clean_test)"
      ],
      "metadata": {
        "colab": {
          "base_uri": "https://localhost:8080/"
        },
        "id": "5qp2XNgN-5E-",
        "outputId": "7db1ed82-ba3c-42d8-bf9c-c4dabd6b1b72"
      },
      "execution_count": null,
      "outputs": [
        {
          "output_type": "stream",
          "name": "stdout",
          "text": [
            "32/32 [==============================] - 0s 10ms/step - loss: 1.0284 - accuracy: 0.6650\n"
          ]
        },
        {
          "output_type": "execute_result",
          "data": {
            "text/plain": [
              "[1.028435468673706, 0.6650000214576721]"
            ]
          },
          "metadata": {},
          "execution_count": 21
        }
      ]
    },
    {
      "cell_type": "code",
      "source": [
        "cnn_1 = load_resnet(10, (32, 32, 3))"
      ],
      "metadata": {
        "colab": {
          "base_uri": "https://localhost:8080/"
        },
        "id": "t2oDsKHiirq5",
        "outputId": "5436900a-df20-440b-ca01-dd40c092efbc"
      },
      "execution_count": null,
      "outputs": [
        {
          "output_type": "stream",
          "name": "stderr",
          "text": [
            "WARNING:tensorflow:Detecting that an object or model or tf.train.Checkpoint is being deleted with unrestored values. See the following logs for the specific values in question. To silence these warnings, use `status.expect_partial()`. See https://www.tensorflow.org/api_docs/python/tf/train/Checkpoint#restorefor details about the status object returned by the restore function.\n",
            "WARNING:tensorflow:Value in checkpoint could not be found in the restored object: (root).optimizer.iter\n",
            "WARNING:tensorflow:Value in checkpoint could not be found in the restored object: (root).optimizer.beta_1\n",
            "WARNING:tensorflow:Value in checkpoint could not be found in the restored object: (root).optimizer.beta_2\n",
            "WARNING:tensorflow:Value in checkpoint could not be found in the restored object: (root).optimizer.decay\n",
            "WARNING:tensorflow:Value in checkpoint could not be found in the restored object: (root).optimizer.learning_rate\n",
            "WARNING:tensorflow:Value in checkpoint could not be found in the restored object: (root).optimizer's state 'm' for (root).conv_1.kernel\n",
            "WARNING:tensorflow:Value in checkpoint could not be found in the restored object: (root).optimizer's state 'm' for (root).conv_1.bias\n",
            "WARNING:tensorflow:Value in checkpoint could not be found in the restored object: (root).optimizer's state 'm' for (root).init_bn.gamma\n",
            "WARNING:tensorflow:Value in checkpoint could not be found in the restored object: (root).optimizer's state 'm' for (root).init_bn.beta\n",
            "WARNING:tensorflow:Value in checkpoint could not be found in the restored object: (root).optimizer's state 'm' for (root).fc.kernel\n",
            "WARNING:tensorflow:Value in checkpoint could not be found in the restored object: (root).optimizer's state 'm' for (root).fc.bias\n",
            "WARNING:tensorflow:Value in checkpoint could not be found in the restored object: (root).optimizer's state 'm' for (root).res_1_1.conv_1.kernel\n",
            "WARNING:tensorflow:Value in checkpoint could not be found in the restored object: (root).optimizer's state 'm' for (root).res_1_1.conv_1.bias\n",
            "WARNING:tensorflow:Value in checkpoint could not be found in the restored object: (root).optimizer's state 'm' for (root).res_1_1.bn_1.gamma\n",
            "WARNING:tensorflow:Value in checkpoint could not be found in the restored object: (root).optimizer's state 'm' for (root).res_1_1.bn_1.beta\n",
            "WARNING:tensorflow:Value in checkpoint could not be found in the restored object: (root).optimizer's state 'm' for (root).res_1_1.conv_2.kernel\n"
          ]
        }
      ]
    },
    {
      "cell_type": "code",
      "execution_count": null,
      "metadata": {
        "id": "4COoIcpPvF2C"
      },
      "outputs": [],
      "source": [
        "# cnn_1 = build_base_cnn()\n",
        "cnn_1.trainable = False\n",
        "cleaner = LabelCleaner(cnn_1)\n",
        "\n",
        "cleaner.compile(\n",
        "    optimizer = tf.keras.optimizers.Adam(0.001),\n",
        "    loss = l1_loss,\n",
        "    metrics = ['accuracy']\n",
        ")"
      ]
    },
    {
      "cell_type": "code",
      "execution_count": null,
      "metadata": {
        "colab": {
          "base_uri": "https://localhost:8080/"
        },
        "id": "-XTzVVR_vF2C",
        "outputId": "f725db64-ad5e-4746-db2b-5694712c6b99"
      },
      "outputs": [
        {
          "output_type": "stream",
          "name": "stdout",
          "text": [
            "Epoch 1/60\n",
            "57/57 [==============================] - 11s 31ms/step - loss: 155.7399 - accuracy: 0.5844 - val_loss: 179.0515 - val_accuracy: 0.3311\n",
            "Epoch 2/60\n",
            "57/57 [==============================] - 1s 14ms/step - loss: 93.4176 - accuracy: 0.6681 - val_loss: 151.9339 - val_accuracy: 0.4689\n",
            "Epoch 3/60\n",
            "57/57 [==============================] - 1s 14ms/step - loss: 87.9392 - accuracy: 0.6685 - val_loss: 117.9284 - val_accuracy: 0.6467\n",
            "Epoch 4/60\n",
            "57/57 [==============================] - 1s 14ms/step - loss: 78.8656 - accuracy: 0.6978 - val_loss: 92.3142 - val_accuracy: 0.6894\n",
            "Epoch 5/60\n",
            "57/57 [==============================] - 1s 14ms/step - loss: 70.8778 - accuracy: 0.7243 - val_loss: 78.8839 - val_accuracy: 0.7078\n",
            "Epoch 6/60\n",
            "57/57 [==============================] - 1s 14ms/step - loss: 69.7462 - accuracy: 0.7261 - val_loss: 73.0319 - val_accuracy: 0.7144\n",
            "Epoch 7/60\n",
            "57/57 [==============================] - 1s 14ms/step - loss: 68.5127 - accuracy: 0.7329 - val_loss: 70.9509 - val_accuracy: 0.7200\n",
            "Epoch 8/60\n",
            "57/57 [==============================] - 1s 14ms/step - loss: 67.7875 - accuracy: 0.7332 - val_loss: 70.5051 - val_accuracy: 0.7200\n",
            "Epoch 9/60\n",
            "57/57 [==============================] - 1s 14ms/step - loss: 66.4890 - accuracy: 0.7340 - val_loss: 69.4011 - val_accuracy: 0.7217\n",
            "Epoch 10/60\n",
            "57/57 [==============================] - 1s 14ms/step - loss: 60.6125 - accuracy: 0.7361 - val_loss: 58.1863 - val_accuracy: 0.7467\n",
            "Epoch 11/60\n",
            "57/57 [==============================] - 1s 14ms/step - loss: 49.9193 - accuracy: 0.7829 - val_loss: 49.0585 - val_accuracy: 0.7783\n",
            "Epoch 12/60\n",
            "57/57 [==============================] - 1s 14ms/step - loss: 48.1813 - accuracy: 0.7851 - val_loss: 48.7356 - val_accuracy: 0.7800\n",
            "Epoch 13/60\n",
            "57/57 [==============================] - 1s 14ms/step - loss: 47.8113 - accuracy: 0.7858 - val_loss: 48.5652 - val_accuracy: 0.7783\n",
            "Epoch 14/60\n",
            "57/57 [==============================] - 1s 14ms/step - loss: 47.4941 - accuracy: 0.7869 - val_loss: 48.3700 - val_accuracy: 0.7778\n",
            "Epoch 15/60\n",
            "57/57 [==============================] - 1s 14ms/step - loss: 47.2959 - accuracy: 0.7876 - val_loss: 48.2930 - val_accuracy: 0.7800\n",
            "Epoch 16/60\n",
            "57/57 [==============================] - 1s 14ms/step - loss: 47.0120 - accuracy: 0.7882 - val_loss: 48.2297 - val_accuracy: 0.7794\n",
            "Epoch 17/60\n",
            "57/57 [==============================] - 1s 13ms/step - loss: 46.9173 - accuracy: 0.7883 - val_loss: 48.2876 - val_accuracy: 0.7789\n",
            "Epoch 18/60\n",
            "57/57 [==============================] - 1s 14ms/step - loss: 46.8153 - accuracy: 0.7881 - val_loss: 48.1973 - val_accuracy: 0.7778\n",
            "Epoch 19/60\n",
            "57/57 [==============================] - 1s 14ms/step - loss: 46.6717 - accuracy: 0.7886 - val_loss: 47.9785 - val_accuracy: 0.7806\n",
            "Epoch 20/60\n",
            "57/57 [==============================] - 1s 13ms/step - loss: 46.3252 - accuracy: 0.7889 - val_loss: 48.1558 - val_accuracy: 0.7806\n",
            "Epoch 21/60\n",
            "57/57 [==============================] - 1s 13ms/step - loss: 46.2296 - accuracy: 0.7901 - val_loss: 48.0246 - val_accuracy: 0.7806\n",
            "Epoch 22/60\n",
            "57/57 [==============================] - 1s 13ms/step - loss: 46.1572 - accuracy: 0.7903 - val_loss: 48.0848 - val_accuracy: 0.7794\n",
            "Epoch 23/60\n",
            "57/57 [==============================] - 1s 15ms/step - loss: 46.0527 - accuracy: 0.7894 - val_loss: 47.9405 - val_accuracy: 0.7794\n",
            "Epoch 24/60\n",
            "57/57 [==============================] - 1s 17ms/step - loss: 45.9224 - accuracy: 0.7903 - val_loss: 47.8086 - val_accuracy: 0.7778\n",
            "Epoch 25/60\n",
            "57/57 [==============================] - 1s 18ms/step - loss: 45.7500 - accuracy: 0.7910 - val_loss: 47.6713 - val_accuracy: 0.7794\n",
            "Epoch 26/60\n",
            "57/57 [==============================] - 1s 13ms/step - loss: 45.7383 - accuracy: 0.7907 - val_loss: 47.8524 - val_accuracy: 0.7800\n",
            "Epoch 27/60\n",
            "57/57 [==============================] - 1s 13ms/step - loss: 45.6598 - accuracy: 0.7907 - val_loss: 47.8174 - val_accuracy: 0.7817\n",
            "Epoch 28/60\n",
            "57/57 [==============================] - 1s 13ms/step - loss: 45.6494 - accuracy: 0.7911 - val_loss: 47.8529 - val_accuracy: 0.7794\n",
            "Epoch 29/60\n",
            "57/57 [==============================] - 1s 13ms/step - loss: 45.5408 - accuracy: 0.7914 - val_loss: 48.0456 - val_accuracy: 0.7789\n",
            "Epoch 30/60\n",
            "57/57 [==============================] - 1s 13ms/step - loss: 45.6035 - accuracy: 0.7918 - val_loss: 47.6875 - val_accuracy: 0.7811\n",
            "Epoch 31/60\n",
            "57/57 [==============================] - 1s 13ms/step - loss: 45.4048 - accuracy: 0.7925 - val_loss: 47.7128 - val_accuracy: 0.7811\n",
            "Epoch 32/60\n",
            "57/57 [==============================] - 1s 13ms/step - loss: 45.2546 - accuracy: 0.7921 - val_loss: 47.9594 - val_accuracy: 0.7794\n",
            "Epoch 33/60\n",
            "57/57 [==============================] - 1s 13ms/step - loss: 45.1752 - accuracy: 0.7931 - val_loss: 47.7593 - val_accuracy: 0.7800\n",
            "Epoch 34/60\n",
            "57/57 [==============================] - 1s 13ms/step - loss: 45.1082 - accuracy: 0.7935 - val_loss: 47.9851 - val_accuracy: 0.7800\n",
            "Epoch 35/60\n",
            "57/57 [==============================] - 1s 14ms/step - loss: 45.0609 - accuracy: 0.7933 - val_loss: 47.6392 - val_accuracy: 0.7806\n",
            "Epoch 36/60\n",
            "57/57 [==============================] - 1s 13ms/step - loss: 45.2192 - accuracy: 0.7932 - val_loss: 47.7712 - val_accuracy: 0.7811\n",
            "Epoch 37/60\n",
            "57/57 [==============================] - 1s 15ms/step - loss: 44.3678 - accuracy: 0.7937 - val_loss: 47.0806 - val_accuracy: 0.7806\n",
            "Epoch 38/60\n",
            "57/57 [==============================] - 1s 14ms/step - loss: 43.9652 - accuracy: 0.7935 - val_loss: 46.9500 - val_accuracy: 0.7800\n",
            "Epoch 39/60\n",
            "57/57 [==============================] - 1s 14ms/step - loss: 43.5687 - accuracy: 0.7978 - val_loss: 45.8674 - val_accuracy: 0.7872\n",
            "Epoch 40/60\n",
            "57/57 [==============================] - 1s 14ms/step - loss: 42.8231 - accuracy: 0.8025 - val_loss: 44.8543 - val_accuracy: 0.7878\n",
            "Epoch 41/60\n",
            "57/57 [==============================] - 1s 14ms/step - loss: 35.8112 - accuracy: 0.8283 - val_loss: 36.2447 - val_accuracy: 0.8294\n",
            "Epoch 42/60\n",
            "57/57 [==============================] - 1s 14ms/step - loss: 27.7736 - accuracy: 0.8840 - val_loss: 26.7418 - val_accuracy: 0.8967\n",
            "Epoch 43/60\n",
            "57/57 [==============================] - 1s 14ms/step - loss: 23.4315 - accuracy: 0.9065 - val_loss: 25.9072 - val_accuracy: 0.8983\n",
            "Epoch 44/60\n",
            "57/57 [==============================] - 1s 14ms/step - loss: 23.0082 - accuracy: 0.9081 - val_loss: 25.7053 - val_accuracy: 0.8983\n",
            "Epoch 45/60\n",
            "57/57 [==============================] - 1s 15ms/step - loss: 22.8675 - accuracy: 0.9075 - val_loss: 25.3734 - val_accuracy: 0.8972\n",
            "Epoch 46/60\n",
            "57/57 [==============================] - 1s 14ms/step - loss: 22.7053 - accuracy: 0.9093 - val_loss: 25.4294 - val_accuracy: 0.8978\n",
            "Epoch 47/60\n",
            "57/57 [==============================] - 1s 14ms/step - loss: 22.5980 - accuracy: 0.9089 - val_loss: 25.4371 - val_accuracy: 0.8983\n",
            "Epoch 48/60\n",
            "57/57 [==============================] - 1s 14ms/step - loss: 22.3062 - accuracy: 0.9097 - val_loss: 25.6170 - val_accuracy: 0.8983\n",
            "Epoch 49/60\n",
            "57/57 [==============================] - 1s 13ms/step - loss: 22.3163 - accuracy: 0.9089 - val_loss: 25.4635 - val_accuracy: 0.8978\n",
            "Epoch 50/60\n",
            "57/57 [==============================] - 1s 13ms/step - loss: 22.2064 - accuracy: 0.9101 - val_loss: 25.7484 - val_accuracy: 0.8961\n",
            "Epoch 51/60\n",
            "57/57 [==============================] - 1s 15ms/step - loss: 22.2617 - accuracy: 0.9090 - val_loss: 25.2762 - val_accuracy: 0.8983\n",
            "Epoch 52/60\n",
            "57/57 [==============================] - 1s 13ms/step - loss: 22.1331 - accuracy: 0.9094 - val_loss: 25.4779 - val_accuracy: 0.8972\n",
            "Epoch 53/60\n",
            "57/57 [==============================] - 1s 14ms/step - loss: 22.2250 - accuracy: 0.9103 - val_loss: 25.3928 - val_accuracy: 0.8967\n",
            "Epoch 54/60\n",
            "57/57 [==============================] - 1s 13ms/step - loss: 22.0716 - accuracy: 0.9094 - val_loss: 25.2891 - val_accuracy: 0.8956\n",
            "Epoch 55/60\n",
            "57/57 [==============================] - 1s 14ms/step - loss: 21.9716 - accuracy: 0.9103 - val_loss: 25.3003 - val_accuracy: 0.8972\n",
            "Epoch 56/60\n",
            "57/57 [==============================] - 1s 15ms/step - loss: 21.8937 - accuracy: 0.9104 - val_loss: 25.1310 - val_accuracy: 0.8972\n",
            "Epoch 57/60\n",
            "57/57 [==============================] - 1s 14ms/step - loss: 21.8978 - accuracy: 0.9110 - val_loss: 25.3238 - val_accuracy: 0.8956\n",
            "Epoch 58/60\n",
            "57/57 [==============================] - 1s 13ms/step - loss: 21.9770 - accuracy: 0.9108 - val_loss: 25.3183 - val_accuracy: 0.8950\n",
            "Epoch 59/60\n",
            "57/57 [==============================] - 1s 14ms/step - loss: 22.1146 - accuracy: 0.9104 - val_loss: 25.5937 - val_accuracy: 0.8972\n",
            "Epoch 60/60\n",
            "57/57 [==============================] - 1s 13ms/step - loss: 21.9140 - accuracy: 0.9097 - val_loss: 25.1913 - val_accuracy: 0.8983\n"
          ]
        },
        {
          "output_type": "execute_result",
          "data": {
            "text/plain": [
              "<keras.callbacks.History at 0x7f2760623510>"
            ]
          },
          "metadata": {},
          "execution_count": 29
        }
      ],
      "source": [
        "cleaner.fit(\n",
        "    V_train,\n",
        "    epochs = 60,\n",
        "    validation_data = V_val,\n",
        "    callbacks = [es]\n",
        ")"
      ]
    },
    {
      "cell_type": "code",
      "execution_count": null,
      "metadata": {
        "colab": {
          "base_uri": "https://localhost:8080/"
        },
        "id": "JGwM4HwTvF2C",
        "outputId": "b804af40-bed8-4d6c-af12-f83e4a03e942"
      },
      "outputs": [
        {
          "output_type": "stream",
          "name": "stdout",
          "text": [
            "8/8 [==============================] - 1s 72ms/step - loss: 19.9720 - accuracy: 0.9200\n"
          ]
        }
      ],
      "source": [
        "cleaner.evaluate(V_test)\n",
        "cleaner.trainable = False"
      ]
    },
    {
      "cell_type": "code",
      "execution_count": null,
      "metadata": {
        "id": "CiS5vkWv91LO"
      },
      "outputs": [],
      "source": [
        "# cleaned_labels = cleaner.predict([x_noisy, y_noisy[n_clean:]])\n"
      ]
    },
    {
      "cell_type": "code",
      "execution_count": null,
      "metadata": {
        "id": "wZhAKIwGvF2D",
        "colab": {
          "base_uri": "https://localhost:8080/"
        },
        "outputId": "faf1d8c0-c208-4036-c33d-720db100245a"
      },
      "outputs": [
        {
          "output_type": "stream",
          "name": "stdout",
          "text": [
            "1250/1250 [==============================] - 9s 6ms/step\n"
          ]
        }
      ],
      "source": [
        "v_train_full = tf.cast(y_clean_train, dtype = tf.float32)\n",
        "c_train_full = tf.constant(\n",
        "    cleaner.predict([\n",
        "        images_normalized[n_clean:],\n",
        "        y_noisy[n_clean:]\n",
        "    ]), \n",
        "    dtype = tf.float32\n",
        ")\n",
        "\n",
        "features = tf.concat([x_clean_train, x_noisy], 0)\n",
        "target = tf.concat([v_train_full, c_train_full], 0)"
      ]
    },
    {
      "cell_type": "code",
      "source": [
        "c_train_full.numpy()[:10]"
      ],
      "metadata": {
        "colab": {
          "base_uri": "https://localhost:8080/"
        },
        "id": "YIqaqPWdpdGw",
        "outputId": "a45b91b7-5b8f-4b95-8dae-4270f2dd0ad9"
      },
      "execution_count": null,
      "outputs": [
        {
          "output_type": "execute_result",
          "data": {
            "text/plain": [
              "array([[0., 0., 0., 0., 0., 0., 0., 0., 1., 0.],\n",
              "       [0., 0., 0., 0., 0., 0., 1., 0., 0., 0.],\n",
              "       [0., 0., 0., 0., 0., 0., 1., 0., 0., 0.],\n",
              "       [0., 0., 0., 0., 0., 0., 0., 0., 1., 0.],\n",
              "       [0., 0., 0., 0., 0., 0., 0., 0., 1., 0.],\n",
              "       [0., 0., 0., 1., 0., 0., 0., 0., 0., 0.],\n",
              "       [0., 0., 0., 0., 1., 0., 0., 0., 0., 0.],\n",
              "       [0., 0., 0., 0., 0., 0., 1., 0., 0., 0.],\n",
              "       [1., 0., 0., 0., 0., 0., 0., 0., 0., 0.],\n",
              "       [0., 0., 0., 0., 0., 0., 1., 0., 0., 0.]], dtype=float32)"
            ]
          },
          "metadata": {},
          "execution_count": 24
        }
      ]
    },
    {
      "cell_type": "code",
      "source": [
        "train_ds_2 = tf.data.Dataset.from_tensor_slices((\n",
        "    features, target\n",
        ")).batch(BATCH_SIZE)\n",
        "\n",
        "val_ds_2 = tf.data.Dataset.from_tensor_slices((\n",
        "    x_clean_val,\n",
        "    y_clean_val\n",
        ")).batch(BATCH_SIZE)"
      ],
      "metadata": {
        "id": "Hwd81BT2mS0y"
      },
      "execution_count": null,
      "outputs": []
    },
    {
      "cell_type": "code",
      "execution_count": null,
      "metadata": {
        "id": "M8BoK41lASid"
      },
      "outputs": [],
      "source": [
        "def build_image_classifier(cnn: tf.keras.Model) -> tf.keras.Model:\n",
        "    \"\"\"\n",
        "    Build a new model that takes images as input and outputs class probabilities.\n",
        "\n",
        "    Parameters:\n",
        "    -----------\n",
        "\n",
        "    `cnn: tf.keras.Model` \n",
        "        The base CNN model to use.\n",
        "\n",
        "    `return`\n",
        "        The new model.\n",
        "    \"\"\"\n",
        "    return tf.keras.Sequential([\n",
        "        cnn,\n",
        "        tf.keras.layers.Dense(units = 64),\n",
        "        tf.keras.layers.Dense(units = 10, activation = \"sigmoid\")\n",
        "    ])"
      ]
    },
    {
      "cell_type": "code",
      "execution_count": null,
      "metadata": {
        "id": "w-haLrftvF2E"
      },
      "outputs": [],
      "source": [
        "image_classifier = build_image_classifier(cnn_1)\n",
        "image_classifier.compile(\n",
        "    loss = tf.keras.losses.CategoricalCrossentropy(),\n",
        "    optimizer=tf.keras.optimizers.Adam(0.01),\n",
        "    metrics=['accuracy']\n",
        ")"
      ]
    },
    {
      "cell_type": "code",
      "execution_count": null,
      "metadata": {
        "colab": {
          "base_uri": "https://localhost:8080/"
        },
        "id": "ZVMBOVduvF2E",
        "outputId": "30d1d0c5-71ab-4013-c9a0-0cf7bb089a31"
      },
      "outputs": [
        {
          "output_type": "stream",
          "name": "stdout",
          "text": [
            "Epoch 1/60\n",
            "369/369 [==============================] - 6s 12ms/step - loss: 0.2235 - accuracy: 0.9363 - val_loss: 0.7584 - val_accuracy: 0.9022\n",
            "Epoch 2/60\n",
            "369/369 [==============================] - 4s 10ms/step - loss: 0.2801 - accuracy: 0.9237 - val_loss: 1.0315 - val_accuracy: 0.8967\n",
            "Epoch 3/60\n",
            "369/369 [==============================] - 4s 11ms/step - loss: 0.4625 - accuracy: 0.9063 - val_loss: 2.3288 - val_accuracy: 0.7811\n",
            "Epoch 4/60\n",
            "369/369 [==============================] - 4s 11ms/step - loss: 0.7144 - accuracy: 0.9041 - val_loss: 1.5905 - val_accuracy: 0.8994\n",
            "Epoch 5/60\n",
            "369/369 [==============================] - 4s 10ms/step - loss: 0.7956 - accuracy: 0.8966 - val_loss: 2.0070 - val_accuracy: 0.9000\n",
            "Epoch 6/60\n",
            "369/369 [==============================] - 4s 10ms/step - loss: 0.8689 - accuracy: 0.8995 - val_loss: 2.2549 - val_accuracy: 0.8994\n",
            "Epoch 7/60\n",
            "369/369 [==============================] - 4s 10ms/step - loss: 1.1893 - accuracy: 0.8947 - val_loss: 2.6887 - val_accuracy: 0.8989\n",
            "Epoch 8/60\n",
            "369/369 [==============================] - 4s 10ms/step - loss: 1.8066 - accuracy: 0.8816 - val_loss: 3.0466 - val_accuracy: 0.9039\n",
            "Epoch 9/60\n",
            "369/369 [==============================] - 4s 11ms/step - loss: 1.0162 - accuracy: 0.9150 - val_loss: 2.9249 - val_accuracy: 0.9039\n",
            "Epoch 10/60\n",
            "369/369 [==============================] - 4s 10ms/step - loss: 1.4910 - accuracy: 0.8918 - val_loss: 3.1061 - val_accuracy: 0.9039\n",
            "Epoch 11/60\n",
            "369/369 [==============================] - 4s 10ms/step - loss: 1.6264 - accuracy: 0.8957 - val_loss: 3.3436 - val_accuracy: 0.9044\n",
            "Epoch 12/60\n",
            "369/369 [==============================] - 4s 10ms/step - loss: 2.1284 - accuracy: 0.8938 - val_loss: 3.6751 - val_accuracy: 0.8989\n",
            "Epoch 13/60\n",
            "369/369 [==============================] - 4s 10ms/step - loss: 3.0108 - accuracy: 0.8662 - val_loss: 4.1043 - val_accuracy: 0.8983\n",
            "Epoch 14/60\n",
            "369/369 [==============================] - 4s 10ms/step - loss: 1.3480 - accuracy: 0.9187 - val_loss: 4.2165 - val_accuracy: 0.9033\n",
            "Epoch 15/60\n",
            "369/369 [==============================] - 4s 10ms/step - loss: 1.7295 - accuracy: 0.9064 - val_loss: 4.0942 - val_accuracy: 0.9056\n",
            "Epoch 16/60\n",
            "369/369 [==============================] - 4s 11ms/step - loss: 4.0700 - accuracy: 0.8590 - val_loss: 4.4143 - val_accuracy: 0.9017\n",
            "Epoch 17/60\n",
            "369/369 [==============================] - 4s 10ms/step - loss: 1.4418 - accuracy: 0.9177 - val_loss: 4.5704 - val_accuracy: 0.9022\n",
            "Epoch 18/60\n",
            "369/369 [==============================] - 4s 10ms/step - loss: 1.6866 - accuracy: 0.9110 - val_loss: 4.9526 - val_accuracy: 0.9000\n",
            "Epoch 19/60\n",
            "369/369 [==============================] - 4s 10ms/step - loss: 4.5300 - accuracy: 0.8587 - val_loss: 5.2275 - val_accuracy: 0.9050\n",
            "Epoch 20/60\n",
            "369/369 [==============================] - 4s 10ms/step - loss: 2.6404 - accuracy: 0.8790 - val_loss: 5.3783 - val_accuracy: 0.9022\n",
            "Epoch 21/60\n",
            "369/369 [==============================] - 4s 10ms/step - loss: 2.5584 - accuracy: 0.8991 - val_loss: 5.6214 - val_accuracy: 0.9017\n",
            "Epoch 22/60\n",
            "369/369 [==============================] - 4s 10ms/step - loss: 5.6396 - accuracy: 0.8644 - val_loss: 6.0994 - val_accuracy: 0.9011\n",
            "Epoch 23/60\n",
            "369/369 [==============================] - 4s 10ms/step - loss: 2.1241 - accuracy: 0.9129 - val_loss: 5.8487 - val_accuracy: 0.9050\n",
            "Epoch 24/60\n",
            "369/369 [==============================] - 4s 10ms/step - loss: 3.8255 - accuracy: 0.8771 - val_loss: 6.4136 - val_accuracy: 0.9022\n",
            "Epoch 25/60\n",
            "369/369 [==============================] - 4s 10ms/step - loss: 4.2883 - accuracy: 0.8882 - val_loss: 6.4192 - val_accuracy: 0.9039\n",
            "Epoch 26/60\n",
            "369/369 [==============================] - 4s 10ms/step - loss: 3.0352 - accuracy: 0.8970 - val_loss: 6.6261 - val_accuracy: 0.9006\n",
            "Epoch 27/60\n",
            "369/369 [==============================] - 4s 10ms/step - loss: 5.8587 - accuracy: 0.8704 - val_loss: 6.7960 - val_accuracy: 0.9044\n",
            "Epoch 28/60\n",
            "369/369 [==============================] - 4s 10ms/step - loss: 2.9625 - accuracy: 0.9002 - val_loss: 8.3436 - val_accuracy: 0.8139\n",
            "Epoch 29/60\n",
            "369/369 [==============================] - 4s 10ms/step - loss: 5.0121 - accuracy: 0.8682 - val_loss: 8.7525 - val_accuracy: 0.8889\n",
            "Epoch 30/60\n",
            "369/369 [==============================] - 4s 10ms/step - loss: 4.3859 - accuracy: 0.8830 - val_loss: 7.9854 - val_accuracy: 0.8956\n",
            "Epoch 31/60\n",
            "369/369 [==============================] - 4s 11ms/step - loss: 2.5353 - accuracy: 0.9152 - val_loss: 12.1072 - val_accuracy: 0.8261\n",
            "Epoch 32/60\n",
            "369/369 [==============================] - 4s 11ms/step - loss: 6.8238 - accuracy: 0.8691 - val_loss: 8.1740 - val_accuracy: 0.8989\n",
            "Epoch 33/60\n",
            "369/369 [==============================] - 4s 11ms/step - loss: 3.2651 - accuracy: 0.9046 - val_loss: 9.0653 - val_accuracy: 0.8939\n",
            "Epoch 34/60\n",
            "369/369 [==============================] - 4s 11ms/step - loss: 5.7626 - accuracy: 0.8631 - val_loss: 8.2445 - val_accuracy: 0.9022\n",
            "Epoch 35/60\n",
            "369/369 [==============================] - 4s 11ms/step - loss: 4.2122 - accuracy: 0.8952 - val_loss: 8.6011 - val_accuracy: 0.8994\n",
            "Epoch 36/60\n",
            "369/369 [==============================] - 4s 11ms/step - loss: 4.0024 - accuracy: 0.8921 - val_loss: 10.8125 - val_accuracy: 0.8928\n",
            "Epoch 37/60\n",
            "369/369 [==============================] - 4s 11ms/step - loss: 6.6940 - accuracy: 0.8736 - val_loss: 10.3468 - val_accuracy: 0.8933\n",
            "Epoch 38/60\n",
            "369/369 [==============================] - 4s 11ms/step - loss: 5.4775 - accuracy: 0.8863 - val_loss: 9.1633 - val_accuracy: 0.9056\n",
            "Epoch 39/60\n",
            "369/369 [==============================] - 4s 11ms/step - loss: 4.5911 - accuracy: 0.8957 - val_loss: 9.4024 - val_accuracy: 0.9033\n",
            "Epoch 40/60\n",
            "369/369 [==============================] - 4s 11ms/step - loss: 4.3400 - accuracy: 0.8926 - val_loss: 10.1622 - val_accuracy: 0.8978\n",
            "Epoch 41/60\n",
            "369/369 [==============================] - 4s 11ms/step - loss: 6.8389 - accuracy: 0.8730 - val_loss: 9.6445 - val_accuracy: 0.9044\n",
            "Epoch 42/60\n",
            "369/369 [==============================] - 4s 11ms/step - loss: 5.2038 - accuracy: 0.8882 - val_loss: 9.8005 - val_accuracy: 0.9022\n",
            "Epoch 43/60\n",
            "369/369 [==============================] - 4s 11ms/step - loss: 7.6173 - accuracy: 0.8631 - val_loss: 9.9732 - val_accuracy: 0.9033\n",
            "Epoch 44/60\n",
            "369/369 [==============================] - 4s 11ms/step - loss: 4.4526 - accuracy: 0.8994 - val_loss: 10.0896 - val_accuracy: 0.9039\n",
            "Epoch 45/60\n",
            "369/369 [==============================] - 4s 11ms/step - loss: 5.7495 - accuracy: 0.8854 - val_loss: 18.5394 - val_accuracy: 0.7156\n",
            "Epoch 46/60\n",
            "369/369 [==============================] - 4s 11ms/step - loss: 12.0727 - accuracy: 0.8573 - val_loss: 11.1919 - val_accuracy: 0.9039\n",
            "Epoch 47/60\n",
            "369/369 [==============================] - 4s 11ms/step - loss: 4.6151 - accuracy: 0.9032 - val_loss: 10.7165 - val_accuracy: 0.9011\n",
            "Epoch 48/60\n",
            "369/369 [==============================] - 4s 11ms/step - loss: 6.6616 - accuracy: 0.8771 - val_loss: 10.7386 - val_accuracy: 0.9050\n",
            "Epoch 49/60\n",
            "369/369 [==============================] - 4s 11ms/step - loss: 5.0327 - accuracy: 0.8962 - val_loss: 11.5947 - val_accuracy: 0.9044\n",
            "Epoch 50/60\n",
            "369/369 [==============================] - 4s 11ms/step - loss: 10.0289 - accuracy: 0.8520 - val_loss: 11.9962 - val_accuracy: 0.9006\n",
            "Epoch 51/60\n",
            "369/369 [==============================] - 4s 11ms/step - loss: 3.8607 - accuracy: 0.9197 - val_loss: 11.8595 - val_accuracy: 0.9006\n",
            "Epoch 52/60\n",
            "369/369 [==============================] - 4s 11ms/step - loss: 6.0512 - accuracy: 0.8900 - val_loss: 12.0121 - val_accuracy: 0.9039\n",
            "Epoch 53/60\n",
            "369/369 [==============================] - 4s 11ms/step - loss: 6.3246 - accuracy: 0.8946 - val_loss: 12.0114 - val_accuracy: 0.9061\n",
            "Epoch 54/60\n",
            "369/369 [==============================] - 4s 11ms/step - loss: 8.3789 - accuracy: 0.8722 - val_loss: 12.1902 - val_accuracy: 0.9033\n",
            "Epoch 55/60\n",
            "369/369 [==============================] - 4s 11ms/step - loss: 6.1991 - accuracy: 0.8910 - val_loss: 11.8944 - val_accuracy: 0.9011\n",
            "Epoch 56/60\n",
            "369/369 [==============================] - 4s 11ms/step - loss: 10.9094 - accuracy: 0.8643 - val_loss: 11.8395 - val_accuracy: 0.9033\n",
            "Epoch 57/60\n",
            "369/369 [==============================] - 4s 11ms/step - loss: 5.1672 - accuracy: 0.9105 - val_loss: 12.6478 - val_accuracy: 0.9039\n",
            "Epoch 58/60\n",
            "369/369 [==============================] - 4s 11ms/step - loss: 8.3811 - accuracy: 0.8741 - val_loss: 12.5912 - val_accuracy: 0.9028\n",
            "Epoch 59/60\n",
            "369/369 [==============================] - 4s 11ms/step - loss: 6.0137 - accuracy: 0.9010 - val_loss: 12.4167 - val_accuracy: 0.9056\n",
            "Epoch 60/60\n",
            "369/369 [==============================] - 4s 11ms/step - loss: 8.6419 - accuracy: 0.8864 - val_loss: 12.7238 - val_accuracy: 0.9061\n"
          ]
        },
        {
          "output_type": "execute_result",
          "data": {
            "text/plain": [
              "<keras.callbacks.History at 0x7fc8a6604110>"
            ]
          },
          "metadata": {},
          "execution_count": 28
        }
      ],
      "source": [
        "image_classifier.fit(\n",
        "    train_ds_2,\n",
        "    epochs = 60,\n",
        "    validation_data = (val_ds_2)\n",
        ")"
      ]
    },
    {
      "cell_type": "code",
      "source": [
        "image_classifier.evaluate(x_clean_test, y_clean_test)"
      ],
      "metadata": {
        "colab": {
          "base_uri": "https://localhost:8080/"
        },
        "id": "_tA-T4SliZBI",
        "outputId": "d6f980c5-905d-4ecb-bdd3-206f93ddeb9e"
      },
      "execution_count": null,
      "outputs": [
        {
          "output_type": "stream",
          "name": "stdout",
          "text": [
            "32/32 [==============================] - 0s 11ms/step - loss: 11.6509 - accuracy: 0.8910\n"
          ]
        },
        {
          "output_type": "execute_result",
          "data": {
            "text/plain": [
              "[11.650897979736328, 0.890999972820282]"
            ]
          },
          "metadata": {},
          "execution_count": 29
        }
      ]
    },
    {
      "cell_type": "code",
      "source": [
        "_, (x_test, y_test) = cifar_10 = tf.keras.datasets.cifar10.load_data()"
      ],
      "metadata": {
        "id": "dXneRb4Wy2U5"
      },
      "execution_count": null,
      "outputs": []
    },
    {
      "cell_type": "code",
      "source": [
        "del _"
      ],
      "metadata": {
        "id": "XDoNPAz1Pulz"
      },
      "execution_count": null,
      "outputs": []
    },
    {
      "cell_type": "code",
      "source": [
        "mapping = {m:(9 - m) for m in range(10)}"
      ],
      "metadata": {
        "id": "MCvG-LPwUxHU"
      },
      "execution_count": null,
      "outputs": []
    },
    {
      "cell_type": "code",
      "source": [
        "mapping"
      ],
      "metadata": {
        "colab": {
          "base_uri": "https://localhost:8080/"
        },
        "id": "kj7SSlyMVH0x",
        "outputId": "e2f2e7fa-d3a5-4a47-da5e-e87dcd2ef833"
      },
      "execution_count": null,
      "outputs": [
        {
          "output_type": "execute_result",
          "data": {
            "text/plain": [
              "{0: 9, 1: 8, 2: 7, 3: 6, 4: 5, 5: 4, 6: 3, 7: 2, 8: 1, 9: 0}"
            ]
          },
          "metadata": {},
          "execution_count": 48
        }
      ]
    },
    {
      "cell_type": "code",
      "source": [
        "def corrupt_labels(y):\n",
        "    return mapping[y[0]]"
      ],
      "metadata": {
        "id": "pTl98r1EzHP0"
      },
      "execution_count": null,
      "outputs": []
    },
    {
      "cell_type": "code",
      "source": [
        "y_test_corrupted = np.array(list(map(corrupt_labels, y_test)))\n",
        "y_test_corrupted = tf.one_hot(y_test_corrupted, depth = 10)"
      ],
      "metadata": {
        "id": "GrRR7v6G0Lcx"
      },
      "execution_count": null,
      "outputs": []
    },
    {
      "cell_type": "code",
      "source": [
        "tf.reduce_mean(tf.keras.metrics.categorical_accuracy(y_test_corrupted, tf.one_hot(y_test, depth = 10)))"
      ],
      "metadata": {
        "colab": {
          "base_uri": "https://localhost:8080/"
        },
        "id": "kOpxSdu80cDu",
        "outputId": "413e4e5b-0530-43bf-dcc6-9eb91dfc1286"
      },
      "execution_count": null,
      "outputs": [
        {
          "output_type": "execute_result",
          "data": {
            "text/plain": [
              "<tf.Tensor: shape=(), dtype=float32, numpy=0.1>"
            ]
          },
          "metadata": {},
          "execution_count": 58
        }
      ]
    },
    {
      "cell_type": "code",
      "source": [
        "x_test_normalized = x_test / 255.0"
      ],
      "metadata": {
        "id": "kpLvh_M5D_9O"
      },
      "execution_count": null,
      "outputs": []
    },
    {
      "cell_type": "code",
      "source": [
        "preds = cleaner.predict([x_test_normalized, y_test_corrupted])"
      ],
      "metadata": {
        "colab": {
          "base_uri": "https://localhost:8080/"
        },
        "id": "g_rAMbZiEHOi",
        "outputId": "0c907a99-e12b-46f8-b387-6d0ef94ae86c"
      },
      "execution_count": null,
      "outputs": [
        {
          "output_type": "stream",
          "name": "stdout",
          "text": [
            "313/313 [==============================] - 2s 6ms/step\n"
          ]
        }
      ]
    },
    {
      "cell_type": "code",
      "source": [
        "tf.argmax(preds, 1)"
      ],
      "metadata": {
        "colab": {
          "base_uri": "https://localhost:8080/"
        },
        "id": "qKSi2c1hEXBo",
        "outputId": "df8679cc-a74c-4837-a832-0ed1917e66ef"
      },
      "execution_count": null,
      "outputs": [
        {
          "output_type": "execute_result",
          "data": {
            "text/plain": [
              "<tf.Tensor: shape=(10000,), dtype=int64, numpy=array([3, 8, 8, ..., 5, 1, 7])>"
            ]
          },
          "metadata": {},
          "execution_count": 44
        }
      ]
    },
    {
      "cell_type": "code",
      "source": [
        "# preds = image_classifier.predict(x_train_normalized)"
      ],
      "metadata": {
        "colab": {
          "base_uri": "https://localhost:8080/"
        },
        "id": "UJ7BU9aL0h2V",
        "outputId": "c16561b9-75c9-4f40-c60c-149c6fcc4810"
      },
      "execution_count": null,
      "outputs": [
        {
          "output_type": "stream",
          "name": "stdout",
          "text": [
            "1563/1563 [==============================] - 4s 2ms/step\n"
          ]
        }
      ]
    },
    {
      "cell_type": "code",
      "source": [
        "plt.imshow(x_train_normalized[0])"
      ],
      "metadata": {
        "colab": {
          "base_uri": "https://localhost:8080/",
          "height": 283
        },
        "id": "98F_Nv-kDwND",
        "outputId": "e00dfc94-772e-43c1-9901-365d33196208"
      },
      "execution_count": null,
      "outputs": [
        {
          "output_type": "execute_result",
          "data": {
            "text/plain": [
              "<matplotlib.image.AxesImage at 0x7f8fe9b3d350>"
            ]
          },
          "metadata": {},
          "execution_count": 82
        },
        {
          "output_type": "display_data",
          "data": {
            "text/plain": [
              "<Figure size 432x288 with 1 Axes>"
            ],
            "image/png": "[encoded data removed]"
          },
          "metadata": {
            "needs_background": "light"
          }
        }
      ]
    },
    {
      "cell_type": "code",
      "source": [
        "(preds == y_train).sum() / y_train.shape[0]\n"
      ],
      "metadata": {
        "colab": {
          "base_uri": "https://localhost:8080/"
        },
        "id": "JanODF4g1v9J",
        "outputId": "e3f4497f-9682-4437-c2e4-b80778be1a36"
      },
      "execution_count": null,
      "outputs": [
        {
          "output_type": "execute_result",
          "data": {
            "text/plain": [
              "1.0"
            ]
          },
          "metadata": {},
          "execution_count": 175
        }
      ]
    }
  ],
  "metadata": {
    "accelerator": "GPU",
    "colab": {
      "collapsed_sections": [],
      "provenance": []
    },
    "gpuClass": "standard",
    "kernelspec": {
      "display_name": "Python 3.9.7 ('base')",
      "language": "python",
      "name": "python3"
    },
    "language_info": {
      "codemirror_mode": {
        "name": "ipython",
        "version": 3
      },
      "file_extension": ".py",
      "mimetype": "text/x-python",
      "name": "python",
      "nbconvert_exporter": "python",
      "pygments_lexer": "ipython3",
      "version": "3.9.7"
    },
    "vscode": {
      "interpreter": {
        "hash": "b68576675d14688f13df6495c027427b1fa86cc0b514974591414d368704a84c"
      }
    }
  },
  "nbformat": 4,
  "nbformat_minor": 0
}