{
  "cells": [
    {
      "cell_type": "markdown",
      "id": "6c31eb88",
      "metadata": {
        "id": "6c31eb88"
      },
      "source": [
        "## Load Datasets "
      ]
    },
    {
      "cell_type": "markdown",
      "id": "85192556",
      "metadata": {
        "id": "85192556"
      },
      "source": [
        "For the project, we provide a training set with 50000 images in the directory `../data/images/` with:\n",
        "- noisy labels for all images provided in `../data/noisy_label.csv`;\n",
        "- clean labels for the first 10000 images provided in `../data/clean_labels.csv`. "
      ]
    },
    {
      "cell_type": "code",
      "execution_count": 35,
      "id": "0f54fefa",
      "metadata": {
        "id": "0f54fefa"
      },
      "outputs": [],
      "source": [
        "import numpy as np\n",
        "import cv2\n",
        "import matplotlib.pyplot as plt\n",
        "from sklearn.metrics import classification_report\n",
        "from sklearn.linear_model import LogisticRegression\n",
        "import time\n"
      ]
    },
    {
      "cell_type": "code",
      "execution_count": 36,
      "id": "1545c5a5",
      "metadata": {
        "id": "1545c5a5"
      },
      "outputs": [],
      "source": [
        "import tensorflow as tf \n",
        "import numpy as np \n",
        "import matplotlib.pyplot as plt \n",
        "import sys \n",
        "from tensorflow import keras \n",
        "from keras.models import Sequential \n",
        "from keras.applications.vgg16 import VGG16\n",
        "\n",
        "import numpy as np\n",
        "import pandas as pd\n",
        "import matplotlib.pyplot as plt\n",
        "import tensorflow as tf\n",
        "import cv2\n",
        "from sklearn.model_selection import train_test_split\n",
        "\n",
        "from zipfile import ZipFile\n",
        "import os\n",
        "import sys\n",
        "\n",
        "sys.path.insert(0, \"../lib\")\n",
        "#import keras.applications\n",
        "from resnet import load_resnet, ResNet18\n",
        "#from lossFunctions import get_custom_cross_entropy, l1_loss\n"
      ]
    },
    {
      "cell_type": "code",
      "source": [
        "from google.colab import drive\n",
        "drive.mount('/content/drive')"
      ],
      "metadata": {
        "colab": {
          "base_uri": "https://localhost:8080/"
        },
        "id": "H_lK32UO-yjR",
        "outputId": "6ef16d36-5714-4a06-d5f1-cf073f73551e"
      },
      "id": "H_lK32UO-yjR",
      "execution_count": null,
      "outputs": [
        {
          "output_type": "stream",
          "name": "stdout",
          "text": [
            "Mounted at /content/drive\n"
          ]
        }
      ]
    },
    {
      "cell_type": "code",
      "source": [
        "if not os.path.exists(\"./drive\"):\n",
        "    drive.mount('/content/drive')\n",
        "\n",
        "if not os.path.exists(\"../data\"):\n",
        "    os.mkdir(\"../data\")\n",
        "\n",
        "# loading the temp.zip and creating a zip object\n",
        "with ZipFile(\"./drive/MyDrive/train_data.zip\", 'r') as zip_object:\n",
        "\n",
        "    # Extracting all the members of the zip \n",
        "    # into a specific location.\n",
        "    zip_object.extractall(path=\"../data\")\n"
      ],
      "metadata": {
        "id": "VSLaVKBY-_V-"
      },
      "id": "VSLaVKBY-_V-",
      "execution_count": null,
      "outputs": []
    },
    {
      "cell_type": "markdown",
      "id": "6b9f1a9d",
      "metadata": {
        "id": "6b9f1a9d"
      },
      "source": [
        "### Data Preprocessing "
      ]
    },
    {
      "cell_type": "code",
      "source": [
        "# [DO NOT MODIFY THIS CELL]\n",
        "\n",
        "# load the images\n",
        "n_img = 50000\n",
        "n_noisy = 40000\n",
        "n_clean_noisy = n_img - n_noisy\n",
        "imgs = np.empty((n_img,32,32,3))\n",
        "for i in range(n_img):\n",
        "    #img_fn\n",
        "    img_fn = f'../data/images/{i+1:05d}.png'\n",
        "    #img_fn=f'/content/drive/MyDrive/ads_proj3/fall2022-project3-prj3-group3/data/images/{i+1:05d}.png'\n",
        "    imgs[i,:,:,:]=cv2.cvtColor(cv2.imread(img_fn),cv2.COLOR_BGR2RGB)\n",
        "\n",
        "# load the labels\n",
        "clean_labels = np.genfromtxt('../data/clean_labels.csv', delimiter=',', dtype=\"int8\")\n",
        "noisy_labels = np.genfromtxt('../data/noisy_labels.csv', delimiter=',', dtype=\"int8\")"
      ],
      "metadata": {
        "id": "cUgsuHK9Apmm"
      },
      "id": "cUgsuHK9Apmm",
      "execution_count": null,
      "outputs": []
    },
    {
      "cell_type": "code",
      "execution_count": null,
      "id": "273be9ff",
      "metadata": {
        "colab": {
          "base_uri": "https://localhost:8080/",
          "height": 520
        },
        "id": "273be9ff",
        "outputId": "c2b31c00-bed6-4c91-a936-bfed1bd6531a"
      },
      "outputs": [
        {
          "output_type": "stream",
          "name": "stdout",
          "text": [
            "Class: <class 'numpy.ndarray'>\n",
            "Dimensions: (32, 32, 3)\n",
            "Data Type: uint8\n",
            "Head: [[[63 62 59]\n",
            "  [45 46 43]\n",
            "  [43 48 50]]\n",
            "\n",
            " [[20 20 16]\n",
            "  [ 0  0  0]\n",
            "  [ 0  8 18]]\n",
            "\n",
            " [[21 24 25]\n",
            "  [ 0  7 16]\n",
            "  [ 8 27 49]]]\n",
            "Range 0 255\n"
          ]
        },
        {
          "output_type": "display_data",
          "data": {
            "text/plain": [
              "<Figure size 432x288 with 1 Axes>"
            ],
            "image/png": "[encoded data removed]"
          },
          "metadata": {
            "needs_background": "light"
          }
        }
      ],
      "source": [
        "# example of data info \n",
        "#file_path = \"train_data\\\\images\\\\00001.png\"\n",
        "file_path=\"../data/images/00001.png\"\n",
        "img = cv2.imread(file_path)\n",
        "print('Class:', type(img))\n",
        "print('Dimensions:', img.shape)\n",
        "print('Data Type:', img.dtype)\n",
        "print('Head:', img[:3, :3])\n",
        "print('Range', np.min(img), np.max(img))\n",
        "\n",
        "color = ('r', 'g','b')\n",
        "for i, col in enumerate(color):\n",
        "    histr = cv2.calcHist([img],[i],None,[256],[0,256])\n",
        "    plt.plot(histr,color = col)\n",
        "    plt.xlim([0,256])\n",
        "plt.show()"
      ]
    },
    {
      "cell_type": "code",
      "execution_count": null,
      "id": "48465df7",
      "metadata": {
        "colab": {
          "base_uri": "https://localhost:8080/",
          "height": 313
        },
        "id": "48465df7",
        "outputId": "21aee1d2-f084-40ae-b844-8758426c273f"
      },
      "outputs": [
        {
          "output_type": "stream",
          "name": "stdout",
          "text": [
            "Clean labels:\n",
            " frog truck truck  deer   car   car  bird horse\n",
            "Noisy labels:\n",
            "  cat   dog truck  frog   dog  ship  bird  deer\n"
          ]
        },
        {
          "output_type": "display_data",
          "data": {
            "text/plain": [
              "<Figure size 432x288 with 8 Axes>"
            ],
            "image/png": "[encoded data removed]"
          },
          "metadata": {
            "needs_background": "light"
          }
        }
      ],
      "source": [
        "# [DO NOT MODIFY THIS CELL]\n",
        "\n",
        "# visualize\n",
        "fig = plt.figure()\n",
        "\n",
        "ax1 = fig.add_subplot(2,4,1)\n",
        "ax1.imshow(imgs[0]/255)\n",
        "ax2 = fig.add_subplot(2,4,2)\n",
        "ax2.imshow(imgs[1]/255)\n",
        "ax3 = fig.add_subplot(2,4,3)\n",
        "ax3.imshow(imgs[2]/255)\n",
        "ax4 = fig.add_subplot(2,4,4)\n",
        "ax4.imshow(imgs[3]/255)\n",
        "ax1 = fig.add_subplot(2,4,5)\n",
        "ax1.imshow(imgs[4]/255)\n",
        "ax2 = fig.add_subplot(2,4,6)\n",
        "ax2.imshow(imgs[5]/255)\n",
        "ax3 = fig.add_subplot(2,4,7)\n",
        "ax3.imshow(imgs[6]/255)\n",
        "ax4 = fig.add_subplot(2,4,8)\n",
        "ax4.imshow(imgs[7]/255)\n",
        "\n",
        "# The class-label correspondence\n",
        "classes = ('plane', 'car', 'bird', 'cat',\n",
        "           'deer', 'dog', 'frog', 'horse', 'ship', 'truck')\n",
        "\n",
        "# print clean labels\n",
        "print('Clean labels:')\n",
        "print(' '.join('%5s' % classes[clean_labels[j]] for j in range(8)))\n",
        "# print noisy labels\n",
        "print('Noisy labels:')\n",
        "print(' '.join('%5s' % classes[noisy_labels[j]] for j in range(8)))\n"
      ]
    },
    {
      "cell_type": "markdown",
      "id": "3e7cdd4d",
      "metadata": {
        "id": "3e7cdd4d"
      },
      "source": [
        "## Predictive Model \n",
        "We consider a baseline model directly on the noisy dataset without any label corrections. RGB histogram features are extracted to fit a logistic regression model."
      ]
    },
    {
      "cell_type": "markdown",
      "id": "b1f64cc9",
      "metadata": {
        "id": "b1f64cc9"
      },
      "source": [
        "### Baseline Model: Logistic Regression "
      ]
    },
    {
      "cell_type": "code",
      "execution_count": null,
      "id": "65634d9a",
      "metadata": {
        "id": "65634d9a"
      },
      "outputs": [],
      "source": [
        "# [DO NOT MODIFY THIS CELL]\n",
        "# RGB histogram dataset construction\n",
        "no_bins = 6\n",
        "bins = np.linspace(0,255,no_bins) # the range of the rgb histogram\n",
        "target_vec = np.empty(n_img)\n",
        "feature_mtx = np.empty((n_img,3*(len(bins)-1)))\n",
        "i = 0\n",
        "for i in range(n_img):\n",
        "    # The target vector consists of noisy labels\n",
        "    target_vec[i] = noisy_labels[i]\n",
        "    \n",
        "    # Use the numbers of pixels in each bin for all three channels as the features\n",
        "    feature1 = np.histogram(imgs[i][:,:,0],bins=bins)[0] \n",
        "    feature2 = np.histogram(imgs[i][:,:,1],bins=bins)[0]\n",
        "    feature3 = np.histogram(imgs[i][:,:,2],bins=bins)[0]\n",
        "    \n",
        "    # Concatenate three features\n",
        "    feature_mtx[i,] = np.concatenate((feature1, feature2, feature3), axis=None)\n",
        "    i += 1"
      ]
    },
    {
      "cell_type": "code",
      "execution_count": null,
      "id": "62e0cd10",
      "metadata": {
        "colab": {
          "base_uri": "https://localhost:8080/"
        },
        "id": "62e0cd10",
        "outputId": "a705d23f-caed-429e-f9b4-ef0ae49c0498"
      },
      "outputs": [
        {
          "output_type": "execute_result",
          "data": {
            "text/plain": [
              "array([[ 19., 102., 619., ...,  84.,  42.,  15.],\n",
              "       [ 98., 301., 233., ..., 316., 200., 146.],\n",
              "       [127., 405., 130., ..., 105.,  37., 306.],\n",
              "       ...,\n",
              "       [450., 268., 106., ..., 117.,  78., 285.],\n",
              "       [ 45.,  80., 278., ..., 166., 291., 434.],\n",
              "       [ 55., 193., 376., ..., 364., 150., 165.]])"
            ]
          },
          "metadata": {},
          "execution_count": 14
        }
      ],
      "source": [
        "feature_mtx\n",
        "# len(feature_mtx)"
      ]
    },
    {
      "cell_type": "code",
      "execution_count": null,
      "id": "baa4ae75",
      "metadata": {
        "id": "baa4ae75"
      },
      "outputs": [],
      "source": [
        "# [DO NOT MODIFY THIS CELL]\n",
        "# Train a logistic regression model \n",
        "clf = LogisticRegression(random_state=0).fit(feature_mtx, target_vec)"
      ]
    },
    {
      "cell_type": "markdown",
      "id": "f4682f15",
      "metadata": {
        "id": "f4682f15"
      },
      "source": [
        "For the convenience of evaluation, we write the following function `predictive_model` that does the label prediction. **For your predictive model, feel free to modify the function, but make sure the function takes an RGB image of numpy.array format with dimension $32\\times32\\times3$  as input, and returns one single label as output.**"
      ]
    },
    {
      "cell_type": "code",
      "execution_count": null,
      "id": "09534941",
      "metadata": {
        "id": "09534941"
      },
      "outputs": [],
      "source": [
        "# [DO NOT MODIFY THIS CELL]\n",
        "def baseline_model(image):\n",
        "    '''\n",
        "    This is the baseline predictive model that takes in the image and returns a label prediction\n",
        "    '''\n",
        "    feature1 = np.histogram(image[:,:,0],bins=bins)[0]\n",
        "    feature2 = np.histogram(image[:,:,1],bins=bins)[0]\n",
        "    feature3 = np.histogram(image[:,:,2],bins=bins)[0]\n",
        "    feature = np.concatenate((feature1, feature2, feature3), axis=None).reshape(1,-1)\n",
        "    return clf.predict(feature)"
      ]
    },
    {
      "cell_type": "markdown",
      "source": [
        "# DATASET"
      ],
      "metadata": {
        "id": "mDDqI4nI6ZRR"
      },
      "id": "mDDqI4nI6ZRR"
    },
    {
      "cell_type": "code",
      "execution_count": 53,
      "id": "97a50410",
      "metadata": {
        "id": "97a50410"
      },
      "outputs": [],
      "source": [
        "# Assign Required Variables\n",
        "X_train = tf.cast(imgs[10000:], dtype='float32')/255.0\n",
        "y_train = tf.one_hot(noisy_labels, depth=10)\n",
        "y_train_noisy=  tf.one_hot(noisy_labels[10000:], depth=10)\n",
        "X_test = tf.cast(imgs[:10000], dtype='float32')/255.0\n",
        "X_test_img = imgs[:10000]\n",
        "y_test = tf.one_hot(clean_labels, depth = 10)"
      ]
    },
    {
      "cell_type": "code",
      "source": [
        "aug = tf.keras.preprocessing.image.ImageDataGenerator(horizontal_flip=True, width_shift_range=0.05,\n",
        "                             height_shift_range=0.05)\n",
        "aug.fit(X_train)"
      ],
      "metadata": {
        "id": "noXQBHte0Q9V"
      },
      "id": "noXQBHte0Q9V",
      "execution_count": null,
      "outputs": []
    },
    {
      "cell_type": "markdown",
      "source": [
        "# Model I: CNN"
      ],
      "metadata": {
        "id": "RwS5Twvc7RPv"
      },
      "id": "RwS5Twvc7RPv"
    },
    {
      "cell_type": "code",
      "execution_count": 69,
      "id": "1362b9d0",
      "metadata": {
        "id": "1362b9d0"
      },
      "outputs": [],
      "source": [
        "model1_cnn = keras.Sequential([ \n",
        "    keras.layers.Conv2D(filters=32, kernel_size=(3,3), \n",
        "                        strides=1, padding='same',\n",
        "                        input_shape=(32,32,3), use_bias=False), \n",
        "    # keras.layers.BatchNormalization(), \n",
        "    keras.layers.Activation('relu'), \n",
        "    keras.layers.MaxPool2D(pool_size=(2,2), strides=2, padding='valid'), \n",
        "    keras.layers.Dropout(0.2),\n",
        "    \n",
        "    keras.layers.Conv2D(filters=64, kernel_size=(3,3), \n",
        "                       strides=1, padding='same', use_bias=False), \n",
        "    # keras.layers.BatchNormalization(), \n",
        "    keras.layers.Activation('relu'), \n",
        "    keras.layers.MaxPool2D(pool_size=(2,2), strides=2, padding='valid'), \n",
        "    keras.layers.Dropout(0.2),\n",
        "    \n",
        "    keras.layers.Conv2D(filters=128, kernel_size=(3,3), \n",
        "                       strides=1, padding='same', use_bias=False), \n",
        "    keras.layers.Activation('relu'), \n",
        "    keras.layers.MaxPool2D(pool_size=(2,2), strides=2, padding='valid'), \n",
        "    keras.layers.Dropout(0.2), \n",
        "    \n",
        "    keras.layers.Flatten(), \n",
        "    keras.layers.Dense(64, use_bias=False), \n",
        "    keras.layers.Activation('relu'), \n",
        "    keras.layers.Dense(10, activation='softmax') \n",
        "]) \n",
        "\n"
      ]
    },
    {
      "cell_type": "code",
      "execution_count": 70,
      "id": "455ba2de",
      "metadata": {
        "id": "455ba2de"
      },
      "outputs": [],
      "source": [
        "# categorical cross entropy due to one hot\n",
        "model1_cnn.compile(optimizer = tf.keras.optimizers.Adam(0.001),\n",
        "             loss = tf.keras.losses.CategoricalCrossentropy(),\n",
        "             metrics = ['accuracy'])"
      ]
    },
    {
      "cell_type": "code",
      "execution_count": 72,
      "id": "4ed0c162",
      "metadata": {
        "colab": {
          "base_uri": "https://localhost:8080/"
        },
        "id": "4ed0c162",
        "outputId": "333f7b9d-0ecc-4fcd-97ed-a68987582615"
      },
      "outputs": [
        {
          "output_type": "stream",
          "name": "stdout",
          "text": [
            "Epoch 1/100\n",
            "157/157 [==============================] - 17s 105ms/step - loss: 2.2537 - accuracy: 0.1769\n",
            "Epoch 2/100\n",
            "157/157 [==============================] - 17s 105ms/step - loss: 2.2445 - accuracy: 0.1875\n",
            "Epoch 3/100\n",
            "157/157 [==============================] - 17s 105ms/step - loss: 2.2322 - accuracy: 0.1992\n",
            "Epoch 4/100\n",
            "157/157 [==============================] - 17s 106ms/step - loss: 2.2262 - accuracy: 0.2061\n",
            "Epoch 5/100\n",
            "157/157 [==============================] - 17s 105ms/step - loss: 2.2152 - accuracy: 0.2160\n",
            "Epoch 6/100\n",
            "157/157 [==============================] - 17s 106ms/step - loss: 2.2101 - accuracy: 0.2216\n",
            "Epoch 7/100\n",
            "157/157 [==============================] - 17s 106ms/step - loss: 2.2041 - accuracy: 0.2278\n",
            "Epoch 8/100\n",
            "157/157 [==============================] - 18s 114ms/step - loss: 2.1992 - accuracy: 0.2328\n",
            "Epoch 9/100\n",
            "157/157 [==============================] - 17s 106ms/step - loss: 2.1934 - accuracy: 0.2370\n",
            "Epoch 10/100\n",
            "157/157 [==============================] - 17s 106ms/step - loss: 2.1892 - accuracy: 0.2401\n",
            "Epoch 11/100\n",
            "157/157 [==============================] - 17s 106ms/step - loss: 2.1853 - accuracy: 0.2418\n",
            "Epoch 12/100\n",
            "157/157 [==============================] - 18s 116ms/step - loss: 2.1797 - accuracy: 0.2456\n",
            "Epoch 13/100\n",
            "157/157 [==============================] - 17s 106ms/step - loss: 2.1758 - accuracy: 0.2494\n",
            "Epoch 14/100\n",
            "157/157 [==============================] - 17s 105ms/step - loss: 2.1703 - accuracy: 0.2518\n",
            "Epoch 15/100\n",
            "157/157 [==============================] - 17s 106ms/step - loss: 2.1669 - accuracy: 0.2530\n",
            "Epoch 16/100\n",
            "157/157 [==============================] - 17s 106ms/step - loss: 2.1649 - accuracy: 0.2570\n",
            "Epoch 17/100\n",
            "157/157 [==============================] - 17s 106ms/step - loss: 2.1639 - accuracy: 0.2558\n",
            "Epoch 18/100\n",
            "157/157 [==============================] - 17s 107ms/step - loss: 2.1552 - accuracy: 0.2625\n",
            "Epoch 19/100\n",
            "157/157 [==============================] - 18s 112ms/step - loss: 2.1547 - accuracy: 0.2618\n",
            "Epoch 20/100\n",
            "157/157 [==============================] - 17s 107ms/step - loss: 2.1492 - accuracy: 0.2657\n",
            "Epoch 21/100\n",
            "157/157 [==============================] - 17s 106ms/step - loss: 2.1451 - accuracy: 0.2675\n",
            "Epoch 22/100\n",
            "157/157 [==============================] - 17s 107ms/step - loss: 2.1414 - accuracy: 0.2691\n",
            "Epoch 23/100\n",
            "157/157 [==============================] - 17s 107ms/step - loss: 2.1387 - accuracy: 0.2729\n",
            "Epoch 24/100\n",
            "157/157 [==============================] - 17s 107ms/step - loss: 2.1349 - accuracy: 0.2738\n",
            "Epoch 25/100\n",
            "157/157 [==============================] - 17s 108ms/step - loss: 2.1310 - accuracy: 0.2750\n",
            "Epoch 26/100\n",
            "157/157 [==============================] - 17s 108ms/step - loss: 2.1283 - accuracy: 0.2747\n",
            "Epoch 27/100\n",
            "157/157 [==============================] - 17s 108ms/step - loss: 2.1248 - accuracy: 0.2777\n",
            "Epoch 28/100\n",
            "157/157 [==============================] - 17s 107ms/step - loss: 2.1215 - accuracy: 0.2801\n",
            "Epoch 29/100\n",
            "157/157 [==============================] - 17s 111ms/step - loss: 2.1184 - accuracy: 0.2824\n",
            "Epoch 30/100\n",
            "157/157 [==============================] - 17s 108ms/step - loss: 2.1175 - accuracy: 0.2802\n",
            "Epoch 31/100\n",
            "157/157 [==============================] - 17s 107ms/step - loss: 2.1156 - accuracy: 0.2831\n",
            "Epoch 32/100\n",
            "157/157 [==============================] - 17s 107ms/step - loss: 2.1095 - accuracy: 0.2808\n",
            "Epoch 33/100\n",
            "157/157 [==============================] - 17s 106ms/step - loss: 2.1088 - accuracy: 0.2831\n",
            "Epoch 34/100\n",
            "157/157 [==============================] - 17s 106ms/step - loss: 2.1026 - accuracy: 0.2863\n",
            "Epoch 35/100\n",
            "157/157 [==============================] - 17s 107ms/step - loss: 2.0989 - accuracy: 0.2896\n",
            "Epoch 36/100\n",
            "157/157 [==============================] - 17s 106ms/step - loss: 2.0991 - accuracy: 0.2877\n",
            "Epoch 37/100\n",
            "157/157 [==============================] - 17s 106ms/step - loss: 2.0971 - accuracy: 0.2887\n",
            "Epoch 38/100\n",
            "157/157 [==============================] - 17s 106ms/step - loss: 2.0950 - accuracy: 0.2893\n",
            "Epoch 39/100\n",
            "157/157 [==============================] - 17s 106ms/step - loss: 2.0905 - accuracy: 0.2926\n",
            "Epoch 40/100\n",
            "157/157 [==============================] - 18s 114ms/step - loss: 2.0889 - accuracy: 0.2925\n",
            "Epoch 41/100\n",
            "157/157 [==============================] - 17s 106ms/step - loss: 2.0846 - accuracy: 0.2927\n",
            "Epoch 42/100\n",
            "157/157 [==============================] - 17s 106ms/step - loss: 2.0844 - accuracy: 0.2966\n",
            "Epoch 43/100\n",
            "157/157 [==============================] - 17s 107ms/step - loss: 2.0822 - accuracy: 0.2935\n",
            "Epoch 44/100\n",
            "157/157 [==============================] - 19s 119ms/step - loss: 2.0800 - accuracy: 0.2957\n",
            "Epoch 45/100\n",
            "157/157 [==============================] - 18s 113ms/step - loss: 2.0752 - accuracy: 0.2959\n",
            "Epoch 46/100\n",
            "157/157 [==============================] - 17s 107ms/step - loss: 2.0727 - accuracy: 0.2991\n",
            "Epoch 47/100\n",
            "157/157 [==============================] - 17s 106ms/step - loss: 2.0717 - accuracy: 0.2976\n",
            "Epoch 48/100\n",
            "157/157 [==============================] - 17s 106ms/step - loss: 2.0698 - accuracy: 0.2972\n",
            "Epoch 49/100\n",
            "157/157 [==============================] - 17s 106ms/step - loss: 2.0701 - accuracy: 0.2973\n",
            "Epoch 50/100\n",
            "157/157 [==============================] - 17s 107ms/step - loss: 2.0646 - accuracy: 0.2997\n",
            "Epoch 51/100\n",
            "157/157 [==============================] - 18s 115ms/step - loss: 2.0608 - accuracy: 0.3007\n",
            "Epoch 52/100\n",
            "157/157 [==============================] - 17s 108ms/step - loss: 2.0606 - accuracy: 0.3017\n",
            "Epoch 53/100\n",
            "157/157 [==============================] - 17s 106ms/step - loss: 2.0582 - accuracy: 0.3015\n",
            "Epoch 54/100\n",
            "157/157 [==============================] - 17s 107ms/step - loss: 2.0570 - accuracy: 0.3043\n",
            "Epoch 55/100\n",
            "157/157 [==============================] - 17s 106ms/step - loss: 2.0526 - accuracy: 0.3041\n",
            "Epoch 56/100\n",
            "157/157 [==============================] - 17s 107ms/step - loss: 2.0537 - accuracy: 0.3023\n",
            "Epoch 57/100\n",
            "157/157 [==============================] - 17s 106ms/step - loss: 2.0531 - accuracy: 0.3051\n",
            "Epoch 58/100\n",
            "157/157 [==============================] - 17s 106ms/step - loss: 2.0472 - accuracy: 0.3088\n",
            "Epoch 59/100\n",
            "157/157 [==============================] - 17s 106ms/step - loss: 2.0414 - accuracy: 0.3093\n",
            "Epoch 60/100\n",
            "157/157 [==============================] - 17s 106ms/step - loss: 2.0427 - accuracy: 0.3076\n",
            "Epoch 61/100\n",
            "157/157 [==============================] - 18s 113ms/step - loss: 2.0398 - accuracy: 0.3095\n",
            "Epoch 62/100\n",
            "157/157 [==============================] - 17s 107ms/step - loss: 2.0418 - accuracy: 0.3081\n",
            "Epoch 63/100\n",
            "157/157 [==============================] - 17s 107ms/step - loss: 2.0371 - accuracy: 0.3108\n",
            "Epoch 64/100\n",
            "157/157 [==============================] - 17s 106ms/step - loss: 2.0337 - accuracy: 0.3096\n",
            "Epoch 65/100\n",
            "157/157 [==============================] - 17s 106ms/step - loss: 2.0324 - accuracy: 0.3091\n",
            "Epoch 66/100\n",
            "157/157 [==============================] - 17s 105ms/step - loss: 2.0347 - accuracy: 0.3098\n",
            "Epoch 67/100\n",
            "157/157 [==============================] - 17s 106ms/step - loss: 2.0327 - accuracy: 0.3095\n",
            "Epoch 68/100\n",
            "157/157 [==============================] - 17s 105ms/step - loss: 2.0255 - accuracy: 0.3130\n",
            "Epoch 69/100\n",
            "157/157 [==============================] - 17s 106ms/step - loss: 2.0250 - accuracy: 0.3142\n",
            "Epoch 70/100\n",
            "157/157 [==============================] - 17s 106ms/step - loss: 2.0250 - accuracy: 0.3144\n",
            "Epoch 71/100\n",
            "157/157 [==============================] - 17s 107ms/step - loss: 2.0238 - accuracy: 0.3149\n",
            "Epoch 72/100\n",
            "157/157 [==============================] - 18s 112ms/step - loss: 2.0256 - accuracy: 0.3114\n",
            "Epoch 73/100\n",
            "157/157 [==============================] - 17s 106ms/step - loss: 2.0172 - accuracy: 0.3174\n",
            "Epoch 74/100\n",
            "157/157 [==============================] - 17s 106ms/step - loss: 2.0168 - accuracy: 0.3147\n",
            "Epoch 75/100\n",
            "157/157 [==============================] - 17s 106ms/step - loss: 2.0200 - accuracy: 0.3138\n",
            "Epoch 76/100\n",
            "157/157 [==============================] - 17s 106ms/step - loss: 2.0160 - accuracy: 0.3149\n",
            "Epoch 77/100\n",
            "157/157 [==============================] - 17s 106ms/step - loss: 2.0158 - accuracy: 0.3164\n",
            "Epoch 78/100\n",
            "157/157 [==============================] - 19s 118ms/step - loss: 2.0131 - accuracy: 0.3190\n",
            "Epoch 79/100\n",
            "157/157 [==============================] - 18s 111ms/step - loss: 2.0100 - accuracy: 0.3160\n",
            "Epoch 80/100\n",
            "157/157 [==============================] - 17s 108ms/step - loss: 2.0112 - accuracy: 0.3178\n",
            "Epoch 81/100\n",
            "157/157 [==============================] - 17s 108ms/step - loss: 2.0078 - accuracy: 0.3180\n",
            "Epoch 82/100\n",
            "157/157 [==============================] - 18s 113ms/step - loss: 2.0041 - accuracy: 0.3159\n",
            "Epoch 83/100\n",
            "157/157 [==============================] - 17s 106ms/step - loss: 2.0097 - accuracy: 0.3175\n",
            "Epoch 84/100\n",
            "157/157 [==============================] - 17s 106ms/step - loss: 2.0044 - accuracy: 0.3225\n",
            "Epoch 85/100\n",
            "157/157 [==============================] - 17s 106ms/step - loss: 2.0019 - accuracy: 0.3210\n",
            "Epoch 86/100\n",
            "157/157 [==============================] - 17s 106ms/step - loss: 2.0012 - accuracy: 0.3173\n",
            "Epoch 87/100\n",
            "157/157 [==============================] - 17s 107ms/step - loss: 2.0002 - accuracy: 0.3205\n",
            "Epoch 88/100\n",
            "157/157 [==============================] - 17s 107ms/step - loss: 1.9922 - accuracy: 0.3239\n",
            "Epoch 89/100\n",
            "157/157 [==============================] - 17s 107ms/step - loss: 1.9945 - accuracy: 0.3224\n",
            "Epoch 90/100\n",
            "157/157 [==============================] - 17s 107ms/step - loss: 1.9934 - accuracy: 0.3243\n",
            "Epoch 91/100\n",
            "157/157 [==============================] - 17s 106ms/step - loss: 1.9953 - accuracy: 0.3219\n",
            "Epoch 92/100\n",
            "157/157 [==============================] - 17s 106ms/step - loss: 1.9957 - accuracy: 0.3208\n",
            "Epoch 93/100\n",
            "157/157 [==============================] - 18s 113ms/step - loss: 1.9897 - accuracy: 0.3244\n",
            "Epoch 94/100\n",
            "157/157 [==============================] - 17s 106ms/step - loss: 1.9903 - accuracy: 0.3215\n",
            "Epoch 95/100\n",
            "157/157 [==============================] - 17s 107ms/step - loss: 1.9878 - accuracy: 0.3274\n",
            "Epoch 96/100\n",
            "157/157 [==============================] - 17s 106ms/step - loss: 1.9871 - accuracy: 0.3250\n",
            "Epoch 97/100\n",
            "157/157 [==============================] - 17s 106ms/step - loss: 1.9861 - accuracy: 0.3253\n",
            "Epoch 98/100\n",
            "157/157 [==============================] - 17s 106ms/step - loss: 1.9857 - accuracy: 0.3262\n",
            "Epoch 99/100\n",
            "157/157 [==============================] - 17s 107ms/step - loss: 1.9843 - accuracy: 0.3242\n",
            "Epoch 100/100\n",
            "157/157 [==============================] - 17s 106ms/step - loss: 1.9815 - accuracy: 0.3289\n",
            "CPU times: user 30min 9s, sys: 26 s, total: 30min 35s\n",
            "Wall time: 28min 21s\n"
          ]
        }
      ],
      "source": [
        "%%time \n",
        "\n",
        "early_stopping = tf.keras.callbacks.EarlyStopping(patience=10,restore_best_weights=True,monitor='loss')\n",
        "mod1_cnn=model1_cnn.fit(aug.flow(X_train, y_train_noisy, batch_size = 256),epochs=100, callbacks=[early_stopping])\n"
      ]
    },
    {
      "cell_type": "code",
      "source": [
        "model1_cnn.evaluate(X_test,y_test)"
      ],
      "metadata": {
        "id": "3hrCPtx-DHdW",
        "colab": {
          "base_uri": "https://localhost:8080/"
        },
        "outputId": "fe4dc108-9af8-49be-e8d6-48822c9817f6"
      },
      "id": "3hrCPtx-DHdW",
      "execution_count": 73,
      "outputs": [
        {
          "output_type": "stream",
          "name": "stdout",
          "text": [
            "313/313 [==============================] - 1s 3ms/step - loss: 1.6410 - accuracy: 0.5629\n"
          ]
        },
        {
          "output_type": "execute_result",
          "data": {
            "text/plain": [
              "[1.6409988403320312, 0.5629000067710876]"
            ]
          },
          "metadata": {},
          "execution_count": 73
        }
      ]
    },
    {
      "cell_type": "code",
      "source": [
        "pd.DataFrame(mod1_cnn.history).plot(figsize=(8,5))"
      ],
      "metadata": {
        "colab": {
          "base_uri": "https://localhost:8080/",
          "height": 338
        },
        "id": "-OcRno9WGdW5",
        "outputId": "05d9228e-17ec-4106-eda3-ca573de3eb27"
      },
      "id": "-OcRno9WGdW5",
      "execution_count": 77,
      "outputs": [
        {
          "output_type": "execute_result",
          "data": {
            "text/plain": [
              "<matplotlib.axes._subplots.AxesSubplot at 0x7fe222f57e10>"
            ]
          },
          "metadata": {},
          "execution_count": 77
        },
        {
          "output_type": "display_data",
          "data": {
            "text/plain": [
              "<Figure size 576x360 with 1 Axes>"
            ],
            "image/png": "[encoded data removed]"
          },
          "metadata": {
            "needs_background": "light"
          }
        }
      ]
    },
    {
      "cell_type": "markdown",
      "id": "6b464a3f",
      "metadata": {
        "id": "6b464a3f"
      },
      "source": [
        "# Model 1: VGG16"
      ]
    },
    {
      "cell_type": "code",
      "execution_count": 78,
      "id": "501ee9d1",
      "metadata": {
        "id": "501ee9d1",
        "colab": {
          "base_uri": "https://localhost:8080/"
        },
        "outputId": "b0c2edd4-28f2-4f90-a1eb-3cd66d7f777f"
      },
      "outputs": [
        {
          "output_type": "stream",
          "name": "stdout",
          "text": [
            "Downloading data from https://storage.googleapis.com/tensorflow/keras-applications/vgg16/vgg16_weights_tf_dim_ordering_tf_kernels_notop.h5\n",
            "58889256/58889256 [==============================] - 0s 0us/step\n"
          ]
        }
      ],
      "source": [
        "vgg = VGG16(input_shape=(32,32,3), include_top=False, weights='imagenet')"
      ]
    },
    {
      "cell_type": "code",
      "execution_count": 80,
      "id": "78c2604d",
      "metadata": {
        "id": "78c2604d"
      },
      "outputs": [],
      "source": [
        "vgg.trainable = False\n",
        "model_vgg = keras.Sequential([\n",
        "    vgg, \n",
        "    keras.layers.GlobalAveragePooling2D(), \n",
        "    keras.layers.Dense(10, activation='softmax')    \n",
        "])\n"
      ]
    },
    {
      "cell_type": "code",
      "execution_count": 81,
      "id": "1f948924",
      "metadata": {
        "id": "1f948924"
      },
      "outputs": [],
      "source": [
        "# categorical cross entropy due to one hot\n",
        "model_vgg.compile(optimizer = tf.keras.optimizers.Adam(0.001),\n",
        "             loss = tf.keras.losses.CategoricalCrossentropy(),\n",
        "             metrics = ['accuracy'])"
      ]
    },
    {
      "cell_type": "code",
      "execution_count": 85,
      "id": "cb304480",
      "metadata": {
        "id": "cb304480",
        "outputId": "752b54d0-8df0-41a7-d489-718705a9eee7",
        "colab": {
          "base_uri": "https://localhost:8080/"
        }
      },
      "outputs": [
        {
          "output_type": "stream",
          "name": "stdout",
          "text": [
            "Epoch 1/100\n",
            "157/157 [==============================] - 18s 114ms/step - loss: 2.1856 - accuracy: 0.2439\n",
            "Epoch 2/100\n",
            "157/157 [==============================] - 18s 115ms/step - loss: 2.1831 - accuracy: 0.2453\n",
            "Epoch 3/100\n",
            "157/157 [==============================] - 18s 114ms/step - loss: 2.1813 - accuracy: 0.2468\n",
            "Epoch 4/100\n",
            "157/157 [==============================] - 18s 113ms/step - loss: 2.1794 - accuracy: 0.2475\n",
            "Epoch 5/100\n",
            "157/157 [==============================] - 18s 114ms/step - loss: 2.1791 - accuracy: 0.2462\n",
            "Epoch 6/100\n",
            "157/157 [==============================] - 18s 113ms/step - loss: 2.1768 - accuracy: 0.2482\n",
            "Epoch 7/100\n",
            "157/157 [==============================] - 18s 113ms/step - loss: 2.1766 - accuracy: 0.2470\n",
            "Epoch 8/100\n",
            "157/157 [==============================] - 18s 113ms/step - loss: 2.1769 - accuracy: 0.2469\n",
            "Epoch 9/100\n",
            "157/157 [==============================] - 18s 115ms/step - loss: 2.1736 - accuracy: 0.2500\n",
            "Epoch 10/100\n",
            "157/157 [==============================] - 19s 119ms/step - loss: 2.1735 - accuracy: 0.2485\n",
            "Epoch 11/100\n",
            "157/157 [==============================] - 18s 114ms/step - loss: 2.1728 - accuracy: 0.2501\n",
            "Epoch 12/100\n",
            "157/157 [==============================] - 18s 115ms/step - loss: 2.1713 - accuracy: 0.2500\n",
            "Epoch 13/100\n",
            "157/157 [==============================] - 18s 114ms/step - loss: 2.1703 - accuracy: 0.2500\n",
            "Epoch 14/100\n",
            "157/157 [==============================] - 18s 114ms/step - loss: 2.1714 - accuracy: 0.2510\n",
            "Epoch 15/100\n",
            "157/157 [==============================] - 18s 114ms/step - loss: 2.1683 - accuracy: 0.2521\n",
            "Epoch 16/100\n",
            "157/157 [==============================] - 18s 114ms/step - loss: 2.1683 - accuracy: 0.2524\n",
            "Epoch 17/100\n",
            "157/157 [==============================] - 18s 114ms/step - loss: 2.1677 - accuracy: 0.2534\n",
            "Epoch 18/100\n",
            "157/157 [==============================] - 18s 113ms/step - loss: 2.1667 - accuracy: 0.2519\n",
            "Epoch 19/100\n",
            "157/157 [==============================] - 19s 121ms/step - loss: 2.1675 - accuracy: 0.2518\n",
            "Epoch 20/100\n",
            "157/157 [==============================] - 18s 115ms/step - loss: 2.1666 - accuracy: 0.2540\n",
            "Epoch 21/100\n",
            "157/157 [==============================] - 18s 114ms/step - loss: 2.1663 - accuracy: 0.2541\n",
            "Epoch 22/100\n",
            "157/157 [==============================] - 18s 114ms/step - loss: 2.1637 - accuracy: 0.2544\n",
            "Epoch 23/100\n",
            "157/157 [==============================] - 18s 113ms/step - loss: 2.1651 - accuracy: 0.2539\n",
            "Epoch 24/100\n",
            "157/157 [==============================] - 18s 114ms/step - loss: 2.1646 - accuracy: 0.2527\n",
            "Epoch 25/100\n",
            "157/157 [==============================] - 18s 114ms/step - loss: 2.1645 - accuracy: 0.2515\n",
            "Epoch 26/100\n",
            "157/157 [==============================] - 18s 114ms/step - loss: 2.1650 - accuracy: 0.2524\n",
            "Epoch 27/100\n",
            "157/157 [==============================] - 18s 114ms/step - loss: 2.1629 - accuracy: 0.2554\n",
            "Epoch 28/100\n",
            "157/157 [==============================] - 18s 113ms/step - loss: 2.1649 - accuracy: 0.2530\n",
            "Epoch 29/100\n",
            "157/157 [==============================] - 19s 121ms/step - loss: 2.1641 - accuracy: 0.2537\n",
            "Epoch 30/100\n",
            "157/157 [==============================] - 18s 114ms/step - loss: 2.1632 - accuracy: 0.2537\n",
            "Epoch 31/100\n",
            "157/157 [==============================] - 18s 113ms/step - loss: 2.1620 - accuracy: 0.2522\n",
            "Epoch 32/100\n",
            "157/157 [==============================] - 18s 116ms/step - loss: 2.1628 - accuracy: 0.2537\n",
            "Epoch 33/100\n",
            "157/157 [==============================] - 19s 120ms/step - loss: 2.1612 - accuracy: 0.2551\n",
            "Epoch 34/100\n",
            "157/157 [==============================] - 18s 114ms/step - loss: 2.1621 - accuracy: 0.2521\n",
            "Epoch 35/100\n",
            "157/157 [==============================] - 18s 114ms/step - loss: 2.1620 - accuracy: 0.2541\n",
            "Epoch 36/100\n",
            "157/157 [==============================] - 18s 114ms/step - loss: 2.1626 - accuracy: 0.2544\n",
            "Epoch 37/100\n",
            "157/157 [==============================] - 18s 115ms/step - loss: 2.1590 - accuracy: 0.2544\n",
            "Epoch 38/100\n",
            "157/157 [==============================] - 19s 120ms/step - loss: 2.1621 - accuracy: 0.2547\n",
            "Epoch 39/100\n",
            "157/157 [==============================] - 18s 114ms/step - loss: 2.1612 - accuracy: 0.2562\n",
            "Epoch 40/100\n",
            "157/157 [==============================] - 18s 114ms/step - loss: 2.1596 - accuracy: 0.2554\n",
            "Epoch 41/100\n",
            "157/157 [==============================] - 18s 114ms/step - loss: 2.1596 - accuracy: 0.2539\n",
            "Epoch 42/100\n",
            "157/157 [==============================] - 18s 114ms/step - loss: 2.1588 - accuracy: 0.2574\n",
            "Epoch 43/100\n",
            "157/157 [==============================] - 18s 114ms/step - loss: 2.1605 - accuracy: 0.2521\n",
            "Epoch 44/100\n",
            "157/157 [==============================] - 18s 114ms/step - loss: 2.1608 - accuracy: 0.2555\n",
            "Epoch 45/100\n",
            "157/157 [==============================] - 18s 114ms/step - loss: 2.1609 - accuracy: 0.2537\n",
            "Epoch 46/100\n",
            "157/157 [==============================] - 18s 114ms/step - loss: 2.1584 - accuracy: 0.2552\n",
            "Epoch 47/100\n",
            "157/157 [==============================] - 18s 114ms/step - loss: 2.1583 - accuracy: 0.2552\n",
            "Epoch 48/100\n",
            "157/157 [==============================] - 18s 114ms/step - loss: 2.1585 - accuracy: 0.2550\n",
            "Epoch 49/100\n",
            "157/157 [==============================] - 18s 114ms/step - loss: 2.1607 - accuracy: 0.2530\n",
            "Epoch 50/100\n",
            "157/157 [==============================] - 18s 114ms/step - loss: 2.1574 - accuracy: 0.2560\n",
            "Epoch 51/100\n",
            "157/157 [==============================] - 18s 114ms/step - loss: 2.1585 - accuracy: 0.2554\n",
            "Epoch 52/100\n",
            "157/157 [==============================] - 18s 114ms/step - loss: 2.1587 - accuracy: 0.2545\n",
            "Epoch 53/100\n",
            "157/157 [==============================] - 18s 113ms/step - loss: 2.1582 - accuracy: 0.2561\n",
            "Epoch 54/100\n",
            "157/157 [==============================] - 18s 115ms/step - loss: 2.1585 - accuracy: 0.2545\n",
            "Epoch 55/100\n",
            "157/157 [==============================] - 18s 113ms/step - loss: 2.1588 - accuracy: 0.2549\n",
            "Epoch 56/100\n",
            "157/157 [==============================] - 18s 114ms/step - loss: 2.1588 - accuracy: 0.2530\n",
            "Epoch 57/100\n",
            "157/157 [==============================] - 19s 119ms/step - loss: 2.1591 - accuracy: 0.2544\n",
            "Epoch 58/100\n",
            "157/157 [==============================] - 18s 112ms/step - loss: 2.1589 - accuracy: 0.2546\n",
            "Epoch 59/100\n",
            "157/157 [==============================] - 18s 114ms/step - loss: 2.1576 - accuracy: 0.2564\n",
            "Epoch 60/100\n",
            "157/157 [==============================] - 18s 115ms/step - loss: 2.1591 - accuracy: 0.2545\n",
            "CPU times: user 19min 6s, sys: 15.4 s, total: 19min 21s\n",
            "Wall time: 18min 6s\n"
          ]
        }
      ],
      "source": [
        "%%time \n",
        "\n",
        "early_stopping = tf.keras.callbacks.EarlyStopping(patience=10,restore_best_weights=True,monitor='loss')\n",
        "vgg_mod=model_vgg.fit(aug.flow(X_train, y_train_noisy, batch_size = 256),epochs=100, callbacks=[early_stopping])\n"
      ]
    },
    {
      "cell_type": "code",
      "source": [
        "pd.DataFrame(vgg_mod.history).plot(figsize=(8,5))"
      ],
      "metadata": {
        "colab": {
          "base_uri": "https://localhost:8080/",
          "height": 338
        },
        "id": "U6zR-87XQQAa",
        "outputId": "1a87ce00-8f0b-4d03-8dff-ba093877a084"
      },
      "id": "U6zR-87XQQAa",
      "execution_count": 90,
      "outputs": [
        {
          "output_type": "execute_result",
          "data": {
            "text/plain": [
              "<matplotlib.axes._subplots.AxesSubplot at 0x7fe221cfc750>"
            ]
          },
          "metadata": {},
          "execution_count": 90
        },
        {
          "output_type": "display_data",
          "data": {
            "text/plain": [
              "<Figure size 576x360 with 1 Axes>"
            ],
            "image/png": "[encoded data removed]"
          },
          "metadata": {
            "needs_background": "light"
          }
        }
      ]
    },
    {
      "cell_type": "code",
      "source": [
        "model_vgg.evaluate(X_test,y_test)"
      ],
      "metadata": {
        "colab": {
          "base_uri": "https://localhost:8080/"
        },
        "id": "Pz1VpR81QfKB",
        "outputId": "0d445bbb-10e5-49ab-91bd-e2c5458fd803"
      },
      "id": "Pz1VpR81QfKB",
      "execution_count": 89,
      "outputs": [
        {
          "output_type": "stream",
          "name": "stdout",
          "text": [
            "313/313 [==============================] - 4s 10ms/step - loss: 1.7533 - accuracy: 0.5252\n"
          ]
        },
        {
          "output_type": "execute_result",
          "data": {
            "text/plain": [
              "[1.7533310651779175, 0.5252000093460083]"
            ]
          },
          "metadata": {},
          "execution_count": 89
        }
      ]
    },
    {
      "cell_type": "code",
      "source": [],
      "metadata": {
        "id": "MS1su3AiO4ax"
      },
      "id": "MS1su3AiO4ax",
      "execution_count": null,
      "outputs": []
    },
    {
      "cell_type": "markdown",
      "source": [
        "# MODEL 1: RESNET 18"
      ],
      "metadata": {
        "id": "mky4LWUjO46I"
      },
      "id": "mky4LWUjO46I"
    },
    {
      "cell_type": "markdown",
      "source": [
        "ResNet-18 is a convolutional neural network that is 18 layers deep. You can load a pretrained version of the network trained on more than a million images from the ImageNet database. "
      ],
      "metadata": {
        "id": "13OidpeU4Qrg"
      },
      "id": "13OidpeU4Qrg"
    },
    {
      "cell_type": "markdown",
      "source": [
        "As Resnet18 does not have an equivalent version in keras. We defined resnet 18 through its architecture in resnet.py and pretrained using weights from 9000 clean labels that we have and left 1000 for testing. "
      ],
      "metadata": {
        "id": "q4QNl9pV4lfQ"
      },
      "id": "q4QNl9pV4lfQ"
    },
    {
      "cell_type": "code",
      "source": [
        "from resnet import load_resnet, ResNet18\n",
        "ResNet18.trainable=False"
      ],
      "metadata": {
        "id": "tNwYyBo-O7SP"
      },
      "id": "tNwYyBo-O7SP",
      "execution_count": 39,
      "outputs": []
    },
    {
      "cell_type": "code",
      "source": [
        "resnet_18=ResNet18(10)\n",
        "resnet_18.build(input_shape=(None,32,32,3))"
      ],
      "metadata": {
        "id": "J77xx6Scips5"
      },
      "id": "J77xx6Scips5",
      "execution_count": 40,
      "outputs": []
    },
    {
      "cell_type": "code",
      "source": [
        "resnet_18.compile(loss = tf.keras.losses.CategoricalCrossentropy(),\n",
        "    optimizer=tf.keras.optimizers.Adam(0.01),\n",
        "    metrics=['accuracy'])"
      ],
      "metadata": {
        "id": "sbAoBlmkSNCQ"
      },
      "id": "sbAoBlmkSNCQ",
      "execution_count": 41,
      "outputs": []
    },
    {
      "cell_type": "code",
      "source": [
        "%%time\n",
        "early_stopping = tf.keras.callbacks.EarlyStopping(patience=10,restore_best_weights=True,monitor='loss')\n",
        "\n",
        "resn_model=resnet_18.fit(aug.flow(X_train, y_train_noisy, batch_size = 256),epochs=100, callbacks=[early_stopping])\n",
        "                         \n",
        "                     "
      ],
      "metadata": {
        "colab": {
          "base_uri": "https://localhost:8080/"
        },
        "id": "7A-1ltPPjsnb",
        "outputId": "ec584c6a-83ec-4f24-c986-80c02889d50a"
      },
      "id": "7A-1ltPPjsnb",
      "execution_count": 50,
      "outputs": [
        {
          "output_type": "stream",
          "name": "stdout",
          "text": [
            "Epoch 1/100\n",
            "157/157 [==============================] - 26s 163ms/step - loss: 2.2417 - accuracy: 0.1966\n",
            "Epoch 2/100\n",
            "157/157 [==============================] - 23s 145ms/step - loss: 2.2299 - accuracy: 0.2061\n",
            "Epoch 3/100\n",
            "157/157 [==============================] - 23s 149ms/step - loss: 2.2202 - accuracy: 0.2116\n",
            "Epoch 4/100\n",
            "157/157 [==============================] - 26s 163ms/step - loss: 2.2120 - accuracy: 0.2175\n",
            "Epoch 5/100\n",
            "157/157 [==============================] - 23s 149ms/step - loss: 2.2026 - accuracy: 0.2239\n",
            "Epoch 6/100\n",
            "157/157 [==============================] - 20s 125ms/step - loss: 2.1987 - accuracy: 0.2300\n",
            "Epoch 7/100\n",
            "157/157 [==============================] - 27s 169ms/step - loss: 2.1895 - accuracy: 0.2384\n",
            "Epoch 8/100\n",
            "157/157 [==============================] - 27s 169ms/step - loss: 2.1838 - accuracy: 0.2419\n",
            "Epoch 9/100\n",
            "157/157 [==============================] - 25s 160ms/step - loss: 2.1804 - accuracy: 0.2444\n",
            "Epoch 10/100\n",
            "157/157 [==============================] - 20s 125ms/step - loss: 2.1734 - accuracy: 0.2515\n",
            "Epoch 11/100\n",
            "157/157 [==============================] - 23s 148ms/step - loss: 2.1669 - accuracy: 0.2561\n",
            "Epoch 12/100\n",
            "157/157 [==============================] - 23s 147ms/step - loss: 2.1613 - accuracy: 0.2592\n",
            "Epoch 13/100\n",
            "157/157 [==============================] - 26s 168ms/step - loss: 2.1543 - accuracy: 0.2658\n",
            "Epoch 14/100\n",
            "157/157 [==============================] - 24s 151ms/step - loss: 2.1525 - accuracy: 0.2661\n",
            "Epoch 15/100\n",
            "157/157 [==============================] - 28s 176ms/step - loss: 2.1439 - accuracy: 0.2728\n",
            "Epoch 16/100\n",
            "157/157 [==============================] - 24s 153ms/step - loss: 2.1352 - accuracy: 0.2806\n",
            "Epoch 17/100\n",
            "157/157 [==============================] - 24s 150ms/step - loss: 2.1331 - accuracy: 0.2785\n",
            "Epoch 18/100\n",
            "157/157 [==============================] - 28s 178ms/step - loss: 2.1246 - accuracy: 0.2868\n",
            "Epoch 19/100\n",
            "157/157 [==============================] - 29s 188ms/step - loss: 2.1157 - accuracy: 0.2903\n",
            "Epoch 20/100\n",
            "157/157 [==============================] - 22s 141ms/step - loss: 2.1097 - accuracy: 0.2945\n",
            "Epoch 21/100\n",
            "157/157 [==============================] - 23s 144ms/step - loss: 2.1003 - accuracy: 0.2992\n",
            "Epoch 22/100\n",
            "157/157 [==============================] - 25s 162ms/step - loss: 2.0924 - accuracy: 0.3065\n",
            "Epoch 23/100\n",
            "157/157 [==============================] - 23s 144ms/step - loss: 2.0836 - accuracy: 0.3061\n",
            "Epoch 24/100\n",
            "157/157 [==============================] - 25s 158ms/step - loss: 2.0677 - accuracy: 0.3153\n",
            "Epoch 25/100\n",
            "157/157 [==============================] - 25s 160ms/step - loss: 2.0551 - accuracy: 0.3208\n",
            "Epoch 26/100\n",
            "157/157 [==============================] - 23s 143ms/step - loss: 2.0529 - accuracy: 0.3197\n",
            "Epoch 27/100\n",
            "157/157 [==============================] - 23s 148ms/step - loss: 2.0300 - accuracy: 0.3317\n",
            "Epoch 28/100\n",
            "157/157 [==============================] - 25s 158ms/step - loss: 2.0194 - accuracy: 0.3362\n",
            "Epoch 29/100\n",
            "157/157 [==============================] - 24s 152ms/step - loss: 2.0008 - accuracy: 0.3464\n",
            "Epoch 30/100\n",
            "157/157 [==============================] - 20s 125ms/step - loss: 1.9956 - accuracy: 0.3451\n",
            "Epoch 31/100\n",
            "157/157 [==============================] - 25s 161ms/step - loss: 1.9675 - accuracy: 0.3571\n",
            "Epoch 32/100\n",
            "157/157 [==============================] - 32s 203ms/step - loss: 1.9459 - accuracy: 0.3649\n",
            "Epoch 33/100\n",
            "157/157 [==============================] - 28s 179ms/step - loss: 1.9282 - accuracy: 0.3717\n",
            "Epoch 34/100\n",
            "157/157 [==============================] - 21s 135ms/step - loss: 1.8960 - accuracy: 0.3828\n",
            "Epoch 35/100\n",
            "157/157 [==============================] - 24s 152ms/step - loss: 1.8710 - accuracy: 0.3933\n",
            "Epoch 36/100\n",
            "157/157 [==============================] - 21s 134ms/step - loss: 1.8386 - accuracy: 0.4021\n",
            "Epoch 37/100\n",
            "157/157 [==============================] - 24s 152ms/step - loss: 1.8095 - accuracy: 0.4141\n",
            "Epoch 38/100\n",
            "157/157 [==============================] - 22s 142ms/step - loss: 1.7897 - accuracy: 0.4192\n",
            "Epoch 39/100\n",
            "157/157 [==============================] - 21s 133ms/step - loss: 1.7507 - accuracy: 0.4330\n",
            "Epoch 40/100\n",
            "157/157 [==============================] - 22s 137ms/step - loss: 1.7058 - accuracy: 0.4476\n",
            "Epoch 41/100\n",
            "157/157 [==============================] - 20s 126ms/step - loss: 1.6720 - accuracy: 0.4565\n",
            "Epoch 42/100\n",
            "157/157 [==============================] - 23s 142ms/step - loss: 1.6437 - accuracy: 0.4676\n",
            "Epoch 43/100\n",
            "157/157 [==============================] - 22s 140ms/step - loss: 1.5992 - accuracy: 0.4822\n",
            "Epoch 44/100\n",
            "157/157 [==============================] - 23s 146ms/step - loss: 1.5753 - accuracy: 0.4920\n",
            "Epoch 45/100\n",
            "157/157 [==============================] - 22s 142ms/step - loss: 1.5320 - accuracy: 0.5065\n",
            "Epoch 46/100\n",
            "157/157 [==============================] - 21s 131ms/step - loss: 1.5072 - accuracy: 0.5104\n",
            "Epoch 47/100\n",
            "157/157 [==============================] - 23s 143ms/step - loss: 1.4491 - accuracy: 0.5292\n",
            "Epoch 48/100\n",
            "157/157 [==============================] - 22s 142ms/step - loss: 1.4075 - accuracy: 0.5423\n",
            "Epoch 49/100\n",
            "157/157 [==============================] - 22s 142ms/step - loss: 1.3675 - accuracy: 0.5557\n",
            "Epoch 50/100\n",
            "157/157 [==============================] - 19s 123ms/step - loss: 1.3248 - accuracy: 0.5698\n",
            "Epoch 51/100\n",
            "157/157 [==============================] - 21s 133ms/step - loss: 1.2915 - accuracy: 0.5792\n",
            "Epoch 52/100\n",
            "157/157 [==============================] - 20s 130ms/step - loss: 1.2450 - accuracy: 0.5943\n",
            "Epoch 53/100\n",
            "157/157 [==============================] - 20s 125ms/step - loss: 1.2156 - accuracy: 0.6047\n",
            "Epoch 54/100\n",
            "157/157 [==============================] - 21s 133ms/step - loss: 1.1843 - accuracy: 0.6134\n",
            "Epoch 55/100\n",
            "157/157 [==============================] - 19s 124ms/step - loss: 1.1411 - accuracy: 0.6285\n",
            "Epoch 56/100\n",
            "157/157 [==============================] - 21s 132ms/step - loss: 1.1084 - accuracy: 0.6371\n",
            "Epoch 57/100\n",
            "157/157 [==============================] - 19s 122ms/step - loss: 1.0617 - accuracy: 0.6546\n",
            "Epoch 58/100\n",
            "157/157 [==============================] - 19s 123ms/step - loss: 1.0300 - accuracy: 0.6643\n",
            "Epoch 59/100\n",
            "157/157 [==============================] - 20s 129ms/step - loss: 1.0005 - accuracy: 0.6724\n",
            "Epoch 60/100\n",
            "157/157 [==============================] - 19s 123ms/step - loss: 0.9569 - accuracy: 0.6873\n",
            "Epoch 61/100\n",
            "157/157 [==============================] - 21s 131ms/step - loss: 0.9328 - accuracy: 0.6939\n",
            "Epoch 62/100\n",
            "157/157 [==============================] - 21s 131ms/step - loss: 0.9030 - accuracy: 0.7078\n",
            "Epoch 63/100\n",
            "157/157 [==============================] - 21s 132ms/step - loss: 0.8657 - accuracy: 0.7152\n",
            "Epoch 64/100\n",
            "157/157 [==============================] - 19s 123ms/step - loss: 0.8319 - accuracy: 0.7278\n",
            "Epoch 65/100\n",
            "157/157 [==============================] - 19s 123ms/step - loss: 0.8234 - accuracy: 0.7306\n",
            "Epoch 66/100\n",
            "157/157 [==============================] - 20s 130ms/step - loss: 0.7892 - accuracy: 0.7422\n",
            "Epoch 67/100\n",
            "157/157 [==============================] - 19s 124ms/step - loss: 0.7611 - accuracy: 0.7521\n",
            "Epoch 68/100\n",
            "157/157 [==============================] - 21s 131ms/step - loss: 0.7383 - accuracy: 0.7573\n",
            "Epoch 69/100\n",
            "157/157 [==============================] - 19s 123ms/step - loss: 0.7019 - accuracy: 0.7694\n",
            "Epoch 70/100\n",
            "157/157 [==============================] - 19s 123ms/step - loss: 0.6933 - accuracy: 0.7710\n",
            "Epoch 71/100\n",
            "157/157 [==============================] - 21s 131ms/step - loss: 0.6740 - accuracy: 0.7778\n",
            "Epoch 72/100\n",
            "157/157 [==============================] - 20s 130ms/step - loss: 0.6672 - accuracy: 0.7824\n",
            "Epoch 73/100\n",
            "157/157 [==============================] - 21s 133ms/step - loss: 0.6231 - accuracy: 0.7953\n",
            "Epoch 74/100\n",
            "157/157 [==============================] - 20s 124ms/step - loss: 0.5943 - accuracy: 0.8067\n",
            "Epoch 75/100\n",
            "157/157 [==============================] - 20s 126ms/step - loss: 0.5882 - accuracy: 0.8058\n",
            "Epoch 76/100\n",
            "157/157 [==============================] - 20s 125ms/step - loss: 0.5821 - accuracy: 0.8072\n",
            "Epoch 77/100\n",
            "157/157 [==============================] - 20s 125ms/step - loss: 0.5649 - accuracy: 0.8146\n",
            "Epoch 78/100\n",
            "157/157 [==============================] - 20s 130ms/step - loss: 0.5416 - accuracy: 0.8234\n",
            "Epoch 79/100\n",
            "157/157 [==============================] - 19s 124ms/step - loss: 0.5261 - accuracy: 0.8280\n",
            "Epoch 80/100\n",
            "157/157 [==============================] - 21s 132ms/step - loss: 0.5075 - accuracy: 0.8342\n",
            "Epoch 81/100\n",
            "157/157 [==============================] - 20s 126ms/step - loss: 0.5082 - accuracy: 0.8324\n",
            "Epoch 82/100\n",
            "157/157 [==============================] - 20s 124ms/step - loss: 0.4836 - accuracy: 0.8411\n",
            "Epoch 83/100\n",
            "157/157 [==============================] - 20s 130ms/step - loss: 0.4704 - accuracy: 0.8450\n",
            "Epoch 84/100\n",
            "157/157 [==============================] - 19s 123ms/step - loss: 0.4658 - accuracy: 0.8487\n",
            "Epoch 85/100\n",
            "157/157 [==============================] - 21s 132ms/step - loss: 0.4533 - accuracy: 0.8516\n",
            "Epoch 86/100\n",
            "157/157 [==============================] - 19s 123ms/step - loss: 0.4574 - accuracy: 0.8475\n",
            "Epoch 87/100\n",
            "157/157 [==============================] - 19s 123ms/step - loss: 0.4330 - accuracy: 0.8561\n",
            "Epoch 88/100\n",
            "157/157 [==============================] - 20s 128ms/step - loss: 0.4186 - accuracy: 0.8636\n",
            "Epoch 89/100\n",
            "157/157 [==============================] - 19s 121ms/step - loss: 0.4197 - accuracy: 0.8618\n",
            "Epoch 90/100\n",
            "157/157 [==============================] - 20s 128ms/step - loss: 0.3989 - accuracy: 0.8690\n",
            "Epoch 91/100\n",
            "157/157 [==============================] - 20s 129ms/step - loss: 0.4068 - accuracy: 0.8654\n",
            "Epoch 92/100\n",
            "157/157 [==============================] - 19s 123ms/step - loss: 0.4109 - accuracy: 0.8661\n",
            "Epoch 93/100\n",
            "157/157 [==============================] - 20s 129ms/step - loss: 0.3849 - accuracy: 0.8744\n",
            "Epoch 94/100\n",
            "157/157 [==============================] - 19s 122ms/step - loss: 0.3639 - accuracy: 0.8805\n",
            "Epoch 95/100\n",
            "157/157 [==============================] - 20s 128ms/step - loss: 0.3686 - accuracy: 0.8802\n",
            "Epoch 96/100\n",
            "157/157 [==============================] - 19s 122ms/step - loss: 0.3566 - accuracy: 0.8823\n",
            "Epoch 97/100\n",
            "157/157 [==============================] - 19s 124ms/step - loss: 0.3639 - accuracy: 0.8801\n",
            "Epoch 98/100\n",
            "157/157 [==============================] - 20s 124ms/step - loss: 0.3408 - accuracy: 0.8880\n",
            "Epoch 99/100\n",
            "157/157 [==============================] - 19s 123ms/step - loss: 0.3502 - accuracy: 0.8844\n",
            "Epoch 100/100\n",
            "157/157 [==============================] - 20s 130ms/step - loss: 0.3518 - accuracy: 0.8828\n",
            "CPU times: user 42min 14s, sys: 34 s, total: 42min 47s\n",
            "Wall time: 39min 10s\n"
          ]
        }
      ]
    },
    {
      "cell_type": "code",
      "source": [
        "pd.DataFrame(resn_model.history).plot(figsize=(8,5))"
      ],
      "metadata": {
        "colab": {
          "base_uri": "https://localhost:8080/",
          "height": 338
        },
        "id": "L2CvSBrMC2WU",
        "outputId": "7dfb908e-180e-4818-c546-7c221ffb8172"
      },
      "id": "L2CvSBrMC2WU",
      "execution_count": 66,
      "outputs": [
        {
          "output_type": "execute_result",
          "data": {
            "text/plain": [
              "<matplotlib.axes._subplots.AxesSubplot at 0x7fe222298710>"
            ]
          },
          "metadata": {},
          "execution_count": 66
        },
        {
          "output_type": "display_data",
          "data": {
            "text/plain": [
              "<Figure size 576x360 with 1 Axes>"
            ],
            "image/png": "[encoded data removed]"
          },
          "metadata": {
            "needs_background": "light"
          }
        }
      ]
    },
    {
      "cell_type": "code",
      "source": [
        "resnet_18.evaluate(X_test,y_test)"
      ],
      "metadata": {
        "colab": {
          "base_uri": "https://localhost:8080/"
        },
        "id": "Z6qYqzlyAihx",
        "outputId": "a7d59a7b-8b70-481e-a0b5-e84189f9a600"
      },
      "id": "Z6qYqzlyAihx",
      "execution_count": 58,
      "outputs": [
        {
          "output_type": "stream",
          "name": "stdout",
          "text": [
            "313/313 [==============================] - 3s 10ms/step - loss: 3.6190 - accuracy: 0.3103\n"
          ]
        },
        {
          "output_type": "execute_result",
          "data": {
            "text/plain": [
              "[3.618980884552002, 0.31029999256134033]"
            ]
          },
          "metadata": {},
          "execution_count": 58
        }
      ]
    },
    {
      "cell_type": "code",
      "source": [],
      "metadata": {
        "id": "l1XdduyBBZAy"
      },
      "id": "l1XdduyBBZAy",
      "execution_count": null,
      "outputs": []
    },
    {
      "cell_type": "markdown",
      "source": [
        "# EVALUATION TABLE"
      ],
      "metadata": {
        "id": "mxXdlmh1SaW4"
      },
      "id": "mxXdlmh1SaW4"
    },
    {
      "cell_type": "code",
      "source": [
        "# import module\n",
        "from tabulate import tabulate\n",
        " \n",
        "# assign data\n",
        "mydata = [\n",
        "    [\"CNN\",\"0.3289\",\"17s\",\"0.5629\"],\n",
        "    [\"VGG\", \"0.2564\" ,\"18s\",\"0.5252\"],\n",
        "    [\"Resnet-18\", \"0.8828\",\"19s\",\"0.3102\"],\n",
        " \n",
        "]\n",
        " \n",
        "# create header\n",
        "head = [\"Model Name\",\"Highest Training Accuracy\", \"Avg Time per epoch\", \"Test accuracy\"]\n",
        "\n",
        " \n",
        "# display table\n",
        "print(tabulate(mydata, headers=head, tablefmt=\"grid\"))"
      ],
      "metadata": {
        "colab": {
          "base_uri": "https://localhost:8080/"
        },
        "id": "3NJoQ3uMIXT4",
        "outputId": "91b12e62-e05b-4422-e0c9-dd53c1e4e3de"
      },
      "id": "3NJoQ3uMIXT4",
      "execution_count": 91,
      "outputs": [
        {
          "output_type": "stream",
          "name": "stdout",
          "text": [
            "+--------------+-----------------------------+----------------------+-----------------+\n",
            "| Model Name   |   Highest Training Accuracy | Avg Time per epoch   |   Test accuracy |\n",
            "+==============+=============================+======================+=================+\n",
            "| CNN          |                      0.3289 | 17s                  |          0.5629 |\n",
            "+--------------+-----------------------------+----------------------+-----------------+\n",
            "| VGG          |                      0.2564 | 18s                  |          0.5252 |\n",
            "+--------------+-----------------------------+----------------------+-----------------+\n",
            "| Resnet-18    |                      0.8828 | 19s                  |          0.3102 |\n",
            "+--------------+-----------------------------+----------------------+-----------------+\n"
          ]
        }
      ]
    },
    {
      "cell_type": "markdown",
      "source": [
        "## Conclusion\n",
        "We select Resnet-18 our Model 1"
      ],
      "metadata": {
        "id": "vklzIOTFSe7h"
      },
      "id": "vklzIOTFSe7h"
    },
    {
      "cell_type": "code",
      "execution_count": null,
      "id": "cfadc82d",
      "metadata": {
        "id": "cfadc82d"
      },
      "outputs": [],
      "source": []
    }
  ],
  "metadata": {
    "kernelspec": {
      "display_name": "Python 3",
      "language": "python",
      "name": "python3"
    },
    "language_info": {
      "codemirror_mode": {
        "name": "ipython",
        "version": 3
      },
      "file_extension": ".py",
      "mimetype": "text/x-python",
      "name": "python",
      "nbconvert_exporter": "python",
      "pygments_lexer": "ipython3",
      "version": "3.8.10"
    },
    "colab": {
      "provenance": [],
      "collapsed_sections": []
    },
    "accelerator": "GPU",
    "gpuClass": "standard"
  },
  "nbformat": 4,
  "nbformat_minor": 5
}